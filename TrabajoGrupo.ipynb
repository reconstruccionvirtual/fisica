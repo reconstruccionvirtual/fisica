{
 "metadata": {
  "language_info": {
   "codemirror_mode": {
    "name": "ipython",
    "version": 3
   },
   "file_extension": ".py",
   "mimetype": "text/x-python",
   "name": "python",
   "nbconvert_exporter": "python",
   "pygments_lexer": "ipython3",
   "version": 3
  },
  "orig_nbformat": 2
 },
 "nbformat": 4,
 "nbformat_minor": 2,
 "cells": [
  {
   "source": [
    "# Boletín grupal sobre el efecto fotoeléctrico \n",
    "### Grupo X\n",
    "- Oscar\n",
    "- David \n",
    "- Antoni\n",
    "---\n",
    "**Ejercicio de calentamiento:** Demostrar que la expresión matemática:\n",
    "$$\n",
    "\\frac{x - x_1}{x_2 - x_2} = \\frac{y - y_1}{y_2 - y_1}\n",
    "$$\n",
    "es equivalente a la expresión matemática:\n",
    "$$\n",
    "y = m\\dot\\ x + b\n",
    "$$\n",
    "donde:\n",
    "$$\n",
    "m = \\frac{y_1 - y_2}{x_1 - x_2}, b = \\frac{x_1\\dot\\ y_2 - x_2\\dot\\ y_1}{x_1 - x_2}\n",
    "$$\n",
    "---\n",
    "\n",
    "\n"
   ],
   "cell_type": "markdown",
   "metadata": {}
  }
 ]
}