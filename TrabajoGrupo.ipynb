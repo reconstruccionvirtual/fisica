{
 "metadata": {
  "language_info": {
   "codemirror_mode": {
    "name": "ipython",
    "version": 3
   },
   "file_extension": ".py",
   "mimetype": "text/x-python",
   "name": "python",
   "nbconvert_exporter": "python",
   "pygments_lexer": "ipython3",
   "version": 3
  },
  "orig_nbformat": 2
 },
 "nbformat": 4,
 "nbformat_minor": 2,
 "cells": [
  {
   "source": [
    "# Boletín grupal sobre el efecto fotoeléctrico. \n",
    "### Grupo X\n",
    "- Oscar Zafra Jurado\n",
    "- David Lasanta Ajona\n",
    "- Antoni Oseni Triado\n",
    "***\n",
    "### Ejercicio de calentamiento:\n",
    "Demostrar que la expresión matemática:\n",
    "$$\\frac{x - x_1}{x_2 - x_1} = \\frac{y - y_1}{y_2 - y_1}$$\n",
    "es equivalente a la expresión matemática:\n",
    "$$y = m\\dot\\ x + b$$\n",
    "donde:\n",
    "$$m = \\frac{y_1 - y_2}{x_1 - x_2}$$\n",
    "y \n",
    "$$b = \\frac{x_1\\dot\\ y_2 - x_2\\dot\\ y_1}{x_1 - x_2}$$\n",
    "***\n",
    "### Paso 1. Multiplicamos $m$ por $-1$:\n",
    "$$m = \\frac{y_1 - y_2}{x_1 - x_2} = \\frac{y_2 - y_1}{x_2 - x_1}$$\n",
    "### Paso 2. Despejamos $y$:\n",
    "$$\n",
    "y = (x - x_1)\\dot\\ \\frac{y_2 - y_1}{x_2 - x_1} + y_1  \n",
    "$$\n",
    "### Paso 3. Aplicamos la igualdad de $m$:\n",
    "$$\n",
    "y = (x - x_1)\\dot\\ m + y_1 = m\\dot\\ x - (m\\dot\\ x_1) + y_1\n",
    "$$\n",
    "### Paso 4. Sustituimos la segunda $m$ por su igualdad:\n",
    "$$\n",
    "y = m\\dot\\ x - (\\frac{y_1 - y_2}{x_1 - x_2})\\dot\\ x_1 + y_1 = m\\dot\\ x -(\\frac {x_1 \\dot\\ y_1 - x_1\\dot\\ y_2}{x_1 - x_2}) + y_1\n",
    "$$\n",
    "### Paso 5. Hacemos factor comun con $y$, multiplicandola por una fración que es $=1$:\n",
    "$$\n",
    "y = m\\dot\\ x - (\\frac{y_1 - y_2}{x_1 - x_2})\\dot\\ x_1 + y_1\\dot\\ \\frac{x_1 - x_2}{x_1 - x_2}\n",
    "$$\n",
    "### Paso 6. Resolvemos el factor comun:\n",
    "$$\n",
    "y = m\\dot\\ x + \\frac{-x_1\\dot\\ y_1 + x_1\\dot\\ y_2 + x_1\\dot\\ y_1 - x_2\\dot\\ y_1}{x_1 - x_2} = m\\dot\\ x + \\frac{x_1\\dot\\ y_2 - x_2\\dot\\ y_1}{x_1 - x_2}\n",
    "$$\n",
    "### Paso 7. Dado que la fracción a la derecha del signo $+$ es igual a $b$, obtenemos que:\n",
    "$$\n",
    "y = m\\dot\\ x + b\n",
    "$$\n",
    "***\n",
    "## Queda demostrado que las expresiones analizadas, son equivalentes entre si."
   ],
   "cell_type": "markdown",
   "metadata": {}
  }
 ]
}