{
  "cells": [
    {
      "cell_type": "markdown",
      "source": [
        "# Boletín grupal sobre el efecto fotoeléctrico. \n",
        "### Grupo 10\n",
        "- Oscar Zafra Jurado\n",
        "- David Lasanta Ajona\n",
        "- Antoni Oseni Triado\n",
        "- Luis Enrique Campos Velasco\n",
        "***\n",
        "### Comprobación de $e\\dot\\$ V tiene unidades de energía:\n",
        "\n",
        "***\n",
        "![](https://economipedia.com/wp-content/uploads/Regresi%C3%B3n-lineal.png)\n",
        "### Ejercicio de calentamiento:\n",
        "Demostrar que la expresión matemática:\n",
        "$$\\frac{x - x_1}{x_2 - x_1} = \\frac{y - y_1}{y_2 - y_1}$$\n",
        "es equivalente a la expresión matemática:\n",
        "$$y = m\\dot\\ x + b$$\n",
        "donde:\n",
        "$$m = \\frac{y_1 - y_2}{x_1 - x_2}$$\n",
        "y \n",
        "$$b = \\frac{x_1\\dot\\ y_2 - x_2\\dot\\ y_1}{x_1 - x_2}$$\n",
        "***\n",
        "### Paso 1. Multiplicamos $m$ por $-1$:\n",
        "$$m = \\frac{y_1 - y_2}{x_1 - x_2} = \\frac{y_2 - y_1}{x_2 - x_1}$$\n",
        "### Paso 2. Despejamos $y$:\n",
        "$$\n",
        "y = (x - x_1)\\dot\\ \\frac{y_2 - y_1}{x_2 - x_1} + y_1  \n",
        "$$\n",
        "### Paso 3. Aplicamos la igualdad de $m$:\n",
        "$$\n",
        "y = (x - x_1)\\dot\\ m + y_1 = m\\dot\\ x - (m\\dot\\ x_1) + y_1\n",
        "$$\n",
        "### Paso 4. Sustituimos la segunda $m$ por su igualdad:\n",
        "$$\n",
        "y = m\\dot\\ x - (\\frac{y_1 - y_2}{x_1 - x_2})\\dot\\ x_1 + y_1 = m\\dot\\ x -(\\frac {x_1 \\dot\\ y_1 - x_1\\dot\\ y_2}{x_1 - x_2}) + y_1\n",
        "$$\n",
        "### Paso 5. Hacemos factor comun con $y_1$, multiplicandola por una fración que es $=1$:\n",
        "$$\n",
        "y = m\\dot\\ x - (\\frac{y_1 - y_2}{x_1 - x_2})\\dot\\ x_1 + y_1\\dot\\ \\frac{x_1 - x_2}{x_1 - x_2}\n",
        "$$\n",
        "### Paso 6. Resolvemos el factor comun:\n",
        "$$\n",
        "y = m\\dot\\ x + \\frac{-x_1\\dot\\ y_1 + x_1\\dot\\ y_2 + x_1\\dot\\ y_1 - x_2\\dot\\ y_1}{x_1 - x_2} = m\\dot\\ x + \\frac{x_1\\dot\\ y_2 - x_2\\dot\\ y_1}{x_1 - x_2}\n",
        "$$\n",
        "### Paso 7. Dado que la fracción a la derecha del signo $+$ es igual a $b$, obtenemos que:\n",
        "$$\n",
        "y = m\\dot\\ x + b\n",
        "$$\n",
        "***\n",
        "## La equivalencia entre ambas expresiones, queda demostrada."
      ],
      "metadata": {}
    }
  ],
  "metadata": {
    "language_info": {
      "codemirror_mode": {
        "name": "ipython",
        "version": 3
      },
      "file_extension": ".py",
      "mimetype": "text/x-python",
      "name": "python",
      "nbconvert_exporter": "python",
      "pygments_lexer": "ipython3",
      "version": 3
    },
    "orig_nbformat": 2,
    "nteract": {
      "version": "0.26.0"
    }
  },
  "nbformat": 4,
  "nbformat_minor": 2
}