{
 "metadata": {
  "language_info": {
   "codemirror_mode": {
    "name": "ipython",
    "version": 3
   },
   "file_extension": ".py",
   "mimetype": "text/x-python",
   "name": "python",
   "nbconvert_exporter": "python",
   "pygments_lexer": "ipython3",
   "version": 3
  },
  "orig_nbformat": 2
 },
 "nbformat": 4,
 "nbformat_minor": 2,
 "cells": [
  {
   "source": [
    "# Cálculo del perido de traslación de Venus.\n",
    "Ejercicio de físca para practicar."
   ],
   "cell_type": "markdown",
   "metadata": {}
  },
  {
   "source": [
    "## Dibujo del problema.\n",
    "![](https://thumbs.gfycat.com/EnchantingPositiveGermanshepherd-size_restricted.gif)"
   ],
   "cell_type": "markdown",
   "metadata": {}
  },
  {
   "source": [
    "## Resolución del ejercicio.\n",
    "1.- Cargar los paquetes de Sympy necesarios."
   ],
   "cell_type": "markdown",
   "metadata": {}
  },
  {
   "cell_type": "code",
   "execution_count": null,
   "metadata": {},
   "outputs": [],
   "source": [
    "from sympy import solve, symbols, pi, Eq #Carga de objetosdirectos de Sympy\n",
    "# from sympy.physics.units import Quantity, length, mass \n",
    "from sympy.physics.units import meter, kilogram, second, kelvin, newton, day #Carga de unidades del S.I.\n",
    "from sympy.physics.units import convert_to #Carga de función fara convertir\n",
    "from sympy.physics.units import gravitational_constant as G  #Carga  de la constante de gravitación universal\n"
   ]
  }
 ]
}