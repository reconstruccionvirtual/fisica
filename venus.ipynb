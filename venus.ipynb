{
 "metadata": {
  "language_info": {
   "codemirror_mode": {
    "name": "ipython",
    "version": 3
   },
   "file_extension": ".py",
   "mimetype": "text/x-python",
   "name": "python",
   "nbconvert_exporter": "python",
   "pygments_lexer": "ipython3",
   "version": "3.8.3-final"
  },
  "orig_nbformat": 2,
  "kernelspec": {
   "name": "Python 3.8.3 64-bit ('base': conda)",
   "display_name": "Python 3.8.3 64-bit ('base': conda)",
   "metadata": {
    "interpreter": {
     "hash": "f85c0ae1067a86ad6a96b144378883e79fd1516474b579ba33ee3a7084540002"
    }
   }
  }
 },
 "nbformat": 4,
 "nbformat_minor": 2,
 "cells": [
  {
   "source": [
    "# Cálculo del periodo de traslación de Venus.\n",
    "Ejercicio de físca para practicar."
   ],
   "cell_type": "markdown",
   "metadata": {}
  },
  {
   "source": [
    "## Dibujo del problema.\n",
    "![](https://thumbs.gfycat.com/EnchantingPositiveGermanshepherd-size_restricted.gif)"
   ],
   "cell_type": "markdown",
   "metadata": {}
  },
  {
   "source": [
    "## Resolución del ejercicio.\n",
    "1.- Cargar los paquetes de Sympy necesarios."
   ],
   "cell_type": "markdown",
   "metadata": {}
  },
  {
   "cell_type": "code",
   "execution_count": 11,
   "metadata": {},
   "outputs": [],
   "source": [
    "#Carga de objetos directos de Sympy\n",
    "from sympy import solve, symbols, pi, Eq \n",
    "#Carga de unidades del S.I.\n",
    "from sympy.physics.units import meter, kilogram, second, kelvin, newton, day \n",
    "#Carga de función fara convertir\n",
    "from sympy.physics.units import convert_to \n",
    "#Carga  de la constante de gravitación universal\n",
    "from sympy.physics.units import gravitational_constant as G  \n"
   ]
  },
  {
   "source": [
    "La incógnita del problema es $T$:"
   ],
   "cell_type": "markdown",
   "metadata": {}
  },
  {
   "cell_type": "code",
   "execution_count": 4,
   "metadata": {},
   "outputs": [],
   "source": [
    "T = symbols(\"T\")"
   ]
  },
  {
   "source": [
    "Datos conocidos:\n",
    "* La masa del Sol ($M_\\odot$) y,\n",
    "* el semieje mayor de Venus (a)"
   ],
   "cell_type": "markdown",
   "metadata": {}
  },
  {
   "cell_type": "code",
   "execution_count": 5,
   "metadata": {},
   "outputs": [],
   "source": [
    "a = 108208000e3 * meter\n",
    "M0 = 1.9891e30 * kilogram"
   ]
  },
  {
   "source": [
    "Usamos la ecuación de Kepler que relaciona los elementos anteriores:\n",
    "$$\n",
    "\\frac{T^2}{a^3} = \\frac{4\\ \\pi^2}{G\\ M}\n",
    "$$\n",
    "\n",
    "Redactado en Sympy:"
   ],
   "cell_type": "markdown",
   "metadata": {}
  },
  {
   "cell_type": "code",
   "execution_count": 6,
   "metadata": {},
   "outputs": [],
   "source": [
    "eq_kepler = Eq(T**2 / a**3, 4*pi**2 / G / M0)\n"
   ]
  },
  {
   "source": [
    "Resolvemos la equación anterior:"
   ],
   "cell_type": "markdown",
   "metadata": {}
  },
  {
   "cell_type": "code",
   "execution_count": 13,
   "metadata": {},
   "outputs": [
    {
     "output_type": "execute_result",
     "data": {
      "text/plain": [
       "2.2e+2*day"
      ],
      "text/latex": "$\\displaystyle 2.2 \\cdot 10^{2} \\text{day}$"
     },
     "metadata": {},
     "execution_count": 13
    }
   ],
   "source": [
    "solución = solve(eq_kepler, T)[1]\n",
    "convert_to(solución, [day]).n(2)\n"
   ]
  },
  {
   "source": [
    "El resultado de aplicación de la formula de Kepler para obtener el periodo de traslación el planeta Venus, arroja un tiempo $T$ en días terrestres de $2.2\\dot\\ 10^2$ días."
   ],
   "cell_type": "markdown",
   "metadata": {}
  }
 ]
}