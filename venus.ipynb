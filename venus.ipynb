{
 "metadata": {
  "language_info": {
   "codemirror_mode": {
    "name": "ipython",
    "version": 3
   },
   "file_extension": ".py",
   "mimetype": "text/x-python",
   "name": "python",
   "nbconvert_exporter": "python",
   "pygments_lexer": "ipython3",
   "version": "3.8.2-final"
  },
  "orig_nbformat": 2,
  "kernelspec": {
   "name": "Python 3.8.2 64-bit",
   "display_name": "Python 3.8.2 64-bit",
   "metadata": {
    "interpreter": {
     "hash": "31f2aee4e71d21fbe5cf8b01ff0e069b9275f58929596ceb00d14d90e3e16cd6"
    }
   }
  }
 },
 "nbformat": 4,
 "nbformat_minor": 2,
 "cells": [
  {
   "source": [
    "# Cálculo del perido de traslación de Venus.\n",
    "Ejercicio de físca para practicar."
   ],
   "cell_type": "markdown",
   "metadata": {}
  },
  {
   "source": [
    "## Dibujo del problema.\n",
    "![](https://thumbs.gfycat.com/EnchantingPositiveGermanshepherd-size_restricted.gif)"
   ],
   "cell_type": "markdown",
   "metadata": {}
  },
  {
   "source": [
    "## Resolución del ejercicio.\n",
    "1.- Cargar los paquetes de Sympy necesarios."
   ],
   "cell_type": "markdown",
   "metadata": {}
  },
  {
   "cell_type": "code",
   "execution_count": null,
   "metadata": {},
   "outputs": [],
   "source": [
    "from sympy import solve, symbols, pi, Eq #Carga de objetos directos de Sympy\n",
    "from sympy.physics.units import meter, kilogram, second, kelvin, newton, day #Carga de unidades del S.I.\n",
    "from sympy.physics.units import convert_to #Carga de función fara convertir\n",
    "from sympy.physics.units import gravitational_constant as G  #Carga  de la constante de gravitación universal\n"
   ]
  },
  {
   "source": [
    "La incógnita del problema es $T$:"
   ],
   "cell_type": "markdown",
   "metadata": {}
  },
  {
   "cell_type": "code",
   "execution_count": null,
   "metadata": {},
   "outputs": [],
   "source": [
    "T = symbols(\"T\")"
   ]
  },
  {
   "source": [
    "Datos conocidos:\n",
    "* La masa del Sol ($M_\\odot$) y,\n",
    "* el semieje mayor de Venus (a)"
   ],
   "cell_type": "markdown",
   "metadata": {}
  },
  {
   "cell_type": "code",
   "execution_count": null,
   "metadata": {},
   "outputs": [],
   "source": [
    "a = 108208000e3 * meter\n",
    "M0 = 1.9891e30 * kilogram"
   ]
  },
  {
   "source": [
    "Usamos la ecuación de Kepler que relaciona los elementos anteriores:\n",
    "$$\n",
    "\\frac{T^2}{a^3} = \\frac{4\\ \\pi^2}{G\\ M}\n",
    "$$\n",
    "\n",
    "Redactado en Sympy:"
   ],
   "cell_type": "markdown",
   "metadata": {}
  },
  {
   "cell_type": "code",
   "execution_count": null,
   "metadata": {},
   "outputs": [],
   "source": [
    "eq_kepler = Eq(T**2 / a**3, 4*pi**2 / G / M0)\n"
   ]
  }
 ]
}