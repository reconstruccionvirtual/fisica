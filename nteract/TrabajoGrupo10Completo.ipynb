{
  "cells": [
    {
      "cell_type": "markdown",
      "source": [
        "# Ejercicio sobre el efecto fotoeléctrico\r\n",
        "Formulas para ejercicio grupal\r\n"
      ],
      "metadata": {
        "nteract": {
          "transient": {
            "deleting": false
          }
        }
      }
    },
    {
      "cell_type": "markdown",
      "source": [
        "### Comprobación de $e\\dot\\ V$ tiene unidades de energía:\n",
        "***"
      ],
      "metadata": {
        "nteract": {
          "transient": {
            "deleting": false
          }
        }
      }
    },
    {
      "cell_type": "markdown",
      "source": [
        "![](https://economipedia.com/wp-content/uploads/Regresi%C3%B3n-lineal.png)\n",
        "### Ejercicio de calentamiento:\n",
        "Demostrar que la expresión matemática:\n",
        "$$\\frac{x - x_1}{x_2 - x_1} = \\frac{y - y_1}{y_2 - y_1}$$\n",
        "es equivalente a la expresión matemática:\n",
        "$$y = m\\dot\\ x + b$$\n",
        "donde:\n",
        "$$m = \\frac{y_1 - y_2}{x_1 - x_2}$$\n",
        "y \n",
        "$$b = \\frac{x_1\\dot\\ y_2 - x_2\\dot\\ y_1}{x_1 - x_2}$$\n",
        "***\n",
        "### Paso 1. Multiplicamos $m$ por $-1$:\n",
        "$$m = \\frac{y_1 - y_2}{x_1 - x_2} = \\frac{y_2 - y_1}{x_2 - x_1}$$\n",
        "### Paso 2. Despejamos $y$:\n",
        "$$\n",
        "y = (x - x_1)\\dot\\ \\frac{y_2 - y_1}{x_2 - x_1} + y_1  \n",
        "$$\n",
        "### Paso 3. Aplicamos la igualdad de $m$:\n",
        "$$\n",
        "y = (x - x_1)\\dot\\ m + y_1 = m\\dot\\ x - (m\\dot\\ x_1) + y_1\n",
        "$$\n",
        "### Paso 4. Sustituimos la segunda $m$ por su igualdad:\n",
        "$$\n",
        "y = m\\dot\\ x - (\\frac{y_1 - y_2}{x_1 - x_2})\\dot\\ x_1 + y_1 = m\\dot\\ x -(\\frac {x_1 \\dot\\ y_1 - x_1\\dot\\ y_2}{x_1 - x_2}) + y_1\n",
        "$$\n",
        "### Paso 5. Hacemos factor comun con $y_1$, multiplicandola por una fración que es $=1$:\n",
        "$$\n",
        "y = m\\dot\\ x - (\\frac{y_1 - y_2}{x_1 - x_2})\\dot\\ x_1 + y_1\\dot\\ \\frac{x_1 - x_2}{x_1 - x_2}\n",
        "$$\n",
        "### Paso 6. Resolvemos el factor comun:\n",
        "$$\n",
        "y = m\\dot\\ x + \\frac{-x_1\\dot\\ y_1 + x_1\\dot\\ y_2 + x_1\\dot\\ y_1 - x_2\\dot\\ y_1}{x_1 - x_2} = m\\dot\\ x + \\frac{x_1\\dot\\ y_2 - x_2\\dot\\ y_1}{x_1 - x_2}\n",
        "$$\n",
        "### Paso 7. Dado que la fracción a la derecha del signo $+$ es igual a $b$, obtenemos que:\n",
        "$$\n",
        "y = m\\dot\\ x + b\n",
        "$$\n",
        "***\n",
        "## La equivalencia entre ambas expresiones, queda demostrada."
      ],
      "metadata": {
        "nteract": {
          "transient": {
            "deleting": false
          }
        }
      }
    },
    {
      "cell_type": "markdown",
      "source": [
        "### Primer ejercicio\n",
        "Haced una tabla rápida con el nombre de cada color del arcoíris (azul, rojo, amarillo, etc.) en una columna, en una segunda columna escribe su longitud de onda (en metros) y en una tercera columna, su frecuencia (en Hercios). \n",
        "***\n",
        "|Color|Frecuencia $Hz$|Longitud de onda $m$|\n",
        "| -- | -- | -- |\n",
        "|Violeta|$$6,68^{14} - 7,89^{14}$$|$$3,8^{-7} - 4,5^{-7}$$|\n",
        "|Azul Oscuro|$$6,31^{14} - 6,68^{14}$$|$$4,5^{-7} - 4,75^{-7}$$|\n",
        "|Azul Claro|$$6,06^{14} - 6,3^{14}$$|$$7,75^{-7} - 4,95^{-7}$$|\n",
        "|Verde|$$5,62^{14} - 6,06^{14}$$|$$4,95^{-7} - 5,7^{-7}$$|\n",
        "|Amarillo|$$5,08^{14} - 5,26^{14}$$|$$5,7^{-7} - 5,9^{-7}$$|\n",
        "|Naranja|$$4,84^{14} - 5,08^{14}$$|$$5,9^{-7} - 6,2^{-7}$$|\n",
        "|Rojo|$$4^{14} - 4,84^{14}$$|$$6,2 - 7,5^{-7}$$|\n",
        "\n",
        "fuente: https://www.pinterest.es/pin/524880531563142717/"
      ],
      "metadata": {
        "nteract": {
          "transient": {
            "deleting": false
          }
        }
      }
    },
    {
      "cell_type": "markdown",
      "source": [
        "#### ¿Cuál es la relación matemática entre longitud de onda y frecuencia de una onda electromagnética?\n",
        "A mayor frecuencia, menor es la longitud de onda y cuando la frecuencia es menor, mayor es la longitud de onda. La velocidad de propagación de una onda, se puede medir como el tiempo que transcurre desde que es emitida hasta que se recibe.\n",
        "Todas las ondas electromagnéticas se propagan en el vacío  a una velocidad constante de __300.000.000 m/s__, la velocidad de la luz. Debido a la poca diferencia que existe entre la velocidad de propagación en el vacío y en el aire, se considera que en el aire también se propagan a una velocidad de __300.000.000 m/s__.\n",
        "Si conocemos la velocidad de transmisión de una onda $\\lambda$ y su frecuencia ___f___, podemos calcular la longitud de onda $\\lambda$ a partir de la siguiente relación:\n",
        "$$\n",
        "\\lambda = \\frac {velocidad (m/s)}{frecuencia (Hz)}\n",
        "$$\n"
      ],
      "metadata": {
        "nteract": {
          "transient": {
            "deleting": false
          }
        }
      }
    },
    {
      "cell_type": "markdown",
      "source": [
        "#### ¿Para qué sirve UNPKG y porqué es uno de los servicios más usados de Internet (junto con jspm, ESM, cdnjs, jsdelivr, …)?\n",
        "\n",
        "$UNPKG$ es una red rápida de distribución global de contenidos para cualquier $npm$. Se puede cargar rápidamente cualquier archivo de desde cualquier $pakage$ usando su $URL$ con este formato: $unpkg.com/:package@:version/:file$\n",
        "Es uno de los servicios mas usados de interner, por su usabilidad simple y potencia de servicio.\n",
        "\n",
        "fuente: https://unpkg.com/\n",
        "\n",
        "#### ¿Qué son los CDN?\n",
        "\n",
        "Un CDN (Content Delivery Network) es un grupo de servidores instalados en diferentes ubicaciones para brindar contenido web en un área geográfica amplia.\n",
        "\n",
        "También se denominan «redes de distribución» y la idea detrás de ellas es ofrecer varios puntos de presencia (PoPs; Points of Prescence) fuera del servidor de origen. Esto permite que los sitios web administren mejor el tráfico al procesar las solicitudes de los usuarios más rápido, resultando en una experiencia general más satisfactoria.\n",
        "\n",
        "fuente: https://www.hostinger.es/tutoriales/que-es-cdn/\n",
        "\n"
      ],
      "metadata": {
        "nteract": {
          "transient": {
            "deleting": false
          }
        }
      }
    },
    {
      "cell_type": "markdown",
      "source": [
        "#### Tablas de mediciones\n",
        "Mediciones con 4 metales y para cada uno, parejas de valores $[\\lambda, V]$ (4 como mínimo: $[\\lambda_1 , V_1]$, $[\\lambda_2, V_2]$, $[\\lambda_3 , V_··]$, $[\\lambda_4 , V_4]$, …).\n",
        "##### Metal 1: SODIUM\n",
        "|Color|Longitud de onda $nm$|Potencial de frenado $V$|Color|Longitud de onda $nm$|Potencial de frenado $V$|Color|Longitud de onda $nm$|Potencial de frenado $V$|Color|Longitud de onda $nm$|Potencial de frenado $V$|\n",
        "| -- | -- | -- | -- | -- | -- | -- | -- | -- | -- | -- | -- |\n",
        "|UV|300|-1,95|VIOLETA|400|-0,80|AZUL|450|-0,50|VERDE|500|-0,20|\n",
        "|UV|300|-1,85|VIOLETA|400|-0,90|AZUL|450|-0,60|VERDE|500|-0,40|\n",
        "|UV|300|-1,75|VIOLETA|400|-1,00|AZUL|450|-0,90|VERDE|500|-0,50|\n",
        "|UV|330|-1,65|VIOLETA|430|-0,60|AZUL|480|-0,30|VERDE|530|-0,05|\n",
        "|UV|330|-1,50|VIOLETA|430|-0,80|AZUL|480|-0,40|VERDE|530|-0,15|\n",
        "|UV|330|-1,45|VIOLETA|430|-1,90|AZUL|480|-0,50|VERDE|530|-0,25|\n",
        "|UV|350|-1,25|\n",
        "|UV|350|-1,30|\n",
        "|UV|350|-1,50|"
      ],
      "metadata": {
        "nteract": {
          "transient": {
            "deleting": false
          }
        }
      }
    },
    {
      "cell_type": "code",
      "source": [
        "//Array con los valores obtenidos en la medición(SODIUM)\r\n",
        "var longitudes_de_onda_medidas = [300, 300, 300, 350, 350, 350, 400, 400, 400, 450, 450, 450, 500, 500, 500, 530, 530, 530].map(x => x*1e-9);  // para pasar a metros\r\n",
        "var voltajes_medidos = [-1.95, -1.85, -1.75, -1.50, -1.30, -1.25, -1.00, -0.90, -0.80, -0.90, -0.60, -0.50, -0.50, -0.40, -0.20, -0.25, -0.15, -0.05];  // en voltios (voltaje de frenado)"
      ],
      "outputs": [],
      "execution_count": 1,
      "metadata": {
        "collapsed": true,
        "jupyter": {
          "source_hidden": false,
          "outputs_hidden": false
        },
        "nteract": {
          "transient": {
            "deleting": false
          }
        },
        "execution": {
          "iopub.status.busy": "2020-11-20T21:22:08.284Z",
          "iopub.execute_input": "2020-11-20T21:22:08.296Z",
          "iopub.status.idle": "2020-11-20T21:22:08.304Z",
          "shell.execute_reply": "2020-11-20T21:22:08.197Z"
        }
      }
    },
    {
      "cell_type": "code",
      "source": [
        "//Ajuste a una recta\r\n",
        "inversa_de_longitudes_de_onda = longitudes_de_onda_medidas.map(lambda => 1/lambda );  \r\n",
        "var datos_a_ajustar = voltajes_medidos.reduce((tuplas_longitud_onda_voltaje, b, i) => {\r\n",
        "    tuplas_longitud_onda_voltaje.push([inversa_de_longitudes_de_onda[i], b]);\r\n",
        "  return tuplas_longitud_onda_voltaje;\r\n",
        "}, []);\r\n",
        "console.log(datos_a_ajustar); // Verás que son tuplas de valores 1/lambda (longitud de onda) y voltajes"
      ],
      "outputs": [
        {
          "output_type": "stream",
          "name": "stdout",
          "text": [
            "[\n",
            "  [ 3333333.333333333, -1.95 ],\n",
            "  [ 3333333.333333333, -1.85 ],\n",
            "  [ 3333333.333333333, -1.75 ],\n",
            "  [ 2857142.857142857, -1.5 ],\n",
            "  [ 2857142.857142857, -1.3 ],\n",
            "  [ 2857142.857142857, -1.25 ],\n",
            "  [ 2500000, -1 ],\n",
            "  [ 2500000, -0.9 ],\n",
            "  [ 2500000, -0.8 ],\n",
            "  [ 2222222.222222222, -0.9 ],\n",
            "  [ 2222222.222222222, -0.6 ],\n",
            "  [ 2222222.222222222, -0.5 ],\n",
            "  [ 1999999.9999999998, -0.5 ],\n",
            "  [ 1999999.9999999998, -0.4 ],\n",
            "  [ 1999999.9999999998, -0.2 ],\n",
            "  [ 1886792.4528301887, -0.25 ],\n",
            "  [ 1886792.4528301887, -0.15 ],\n",
            "  [ 1886792.4528301887, -0.05 ]\n",
            "]\n"
          ]
        }
      ],
      "execution_count": 2,
      "metadata": {
        "collapsed": true,
        "jupyter": {
          "source_hidden": false,
          "outputs_hidden": false
        },
        "nteract": {
          "transient": {
            "deleting": false
          }
        },
        "execution": {
          "iopub.status.busy": "2020-11-20T21:22:08.314Z",
          "iopub.execute_input": "2020-11-20T21:22:08.321Z",
          "iopub.status.idle": "2020-11-20T21:22:08.340Z",
          "shell.execute_reply": "2020-11-20T21:22:08.206Z"
        }
      }
    },
    {
      "cell_type": "code",
      "source": [
        "//Obtenemos los valores de m y b\r\n",
        "var regression = require('./regression.js');\r\n",
        "var result = regression.linear(datos_a_ajustar, { precision: 15 });\r\n",
        "var m = result.equation[0];  // pendiente\r\n",
        "var b = result.equation[1];  // ordenada en origen\r\n",
        "console.log('la pendiente es = ' + m + ' y la ordenada es = ' + b);"
      ],
      "outputs": [
        {
          "output_type": "stream",
          "name": "stdout",
          "text": [
            "la pendiente es = -0.000001145797559 y la ordenada es = 1.945647862472022\n"
          ]
        }
      ],
      "execution_count": 3,
      "metadata": {
        "collapsed": true,
        "jupyter": {
          "source_hidden": false,
          "outputs_hidden": false
        },
        "nteract": {
          "transient": {
            "deleting": false
          }
        },
        "execution": {
          "iopub.status.busy": "2020-11-20T21:22:08.351Z",
          "iopub.execute_input": "2020-11-20T21:22:08.358Z",
          "iopub.status.idle": "2020-11-20T21:22:08.369Z",
          "shell.execute_reply": "2020-11-20T21:22:08.216Z"
        }
      }
    },
    {
      "cell_type": "markdown",
      "source": [
        "### calcular h constante de planck y 0 energía de arranque como se especifica.\r\n"
      ],
      "metadata": {
        "nteract": {
          "transient": {
            "deleting": false
          }
        }
      }
    },
    {
      "cell_type": "code",
      "source": [
        "//intregrar Plotly\r\n",
        "function Plotly(data, layout, $$) {\r\n",
        "    $$ = $$ || global.$$;\r\n",
        "    $$.mime({ \"application/vnd.plotly.v1+json\": { data: data, layout: layout } });\r\n",
        "}"
      ],
      "outputs": [],
      "execution_count": 4,
      "metadata": {
        "collapsed": true,
        "jupyter": {
          "source_hidden": false,
          "outputs_hidden": false
        },
        "nteract": {
          "transient": {
            "deleting": false
          }
        },
        "execution": {
          "iopub.status.busy": "2020-11-20T21:22:08.381Z",
          "iopub.execute_input": "2020-11-20T21:22:08.389Z",
          "iopub.status.idle": "2020-11-20T21:22:08.400Z",
          "shell.execute_reply": "2020-11-20T21:22:08.227Z"
        }
      }
    },
    {
      "cell_type": "code",
      "source": [
        "//cálculo valores de m y b\r\n",
        "voltajes_de_frenado_calculados = inversa_de_longitudes_de_onda.map(inversa_lambda => inversa_lambda * m + b);"
      ],
      "outputs": [
        {
          "output_type": "execute_result",
          "execution_count": 5,
          "data": {
            "text/plain": "[\n   -1.8736773341946447,  -1.8736773341946447,\n   -1.8736773341946447,  -1.3280594489565494,\n   -1.3280594489565494,  -1.3280594489565494,\n   -0.9188460350279781,  -0.9188460350279781,\n   -0.9188460350279781,  -0.6005689353057555,\n   -0.6005689353057555,  -0.6005689353057555,\n  -0.34594725552797767, -0.34594725552797767,\n  -0.34594725552797767,   -0.216234324320431,\n    -0.216234324320431,   -0.216234324320431\n]"
          },
          "metadata": {}
        }
      ],
      "execution_count": 5,
      "metadata": {
        "collapsed": true,
        "jupyter": {
          "source_hidden": false,
          "outputs_hidden": false
        },
        "nteract": {
          "transient": {
            "deleting": false
          }
        },
        "execution": {
          "iopub.status.busy": "2020-11-20T21:22:08.412Z",
          "iopub.execute_input": "2020-11-20T21:22:08.419Z",
          "iopub.status.idle": "2020-11-20T21:22:08.433Z",
          "shell.execute_reply": "2020-11-20T21:22:08.237Z"
        }
      }
    },
    {
      "cell_type": "code",
      "source": [
        "var datos = [\n",
        "  { x: inversa_de_longitudes_de_onda, \n",
        "    y: voltajes_medidos, name: 'Datos experimentales' \n",
        "   },\n",
        "  { x: inversa_de_longitudes_de_onda, \n",
        "    y: voltajes_de_frenado_calculados, name: 'Datos calculados tras ajuste' \n",
        "    }\n",
        "  \n",
        "];\n",
        "var layout = {\n",
        "  title: 'Regresión Lineal Efecto Fotoelectrico, voltaje en función de la inversa de la longitud de onda (SODIUM)',\n",
        "  xaxis: { title: 'Longitud de onda (nanometros)',\n",
        "    titlefont: { family: 'Courier New, monospace', size: 18, color: '#7f7f7f' }\n",
        "   \n",
        "        },\n",
        "  yaxis: {\n",
        "    title: 'Potencial de frenado (v)',\n",
        "     titlefont: {family: 'Courier New, monospace', size: 18, color: '#7f7f7f' }\n",
        "    \n",
        "  }\n",
        "};\n",
        "Plotly(datos, layout,);"
      ],
      "outputs": [
        {
          "output_type": "execute_result",
          "execution_count": 8,
          "data": {
            "application/vnd.plotly.v1+json": {
              "data": [
                {
                  "x": [
                    3333333.333333333,
                    3333333.333333333,
                    3333333.333333333,
                    2857142.857142857,
                    2857142.857142857,
                    2857142.857142857,
                    2500000,
                    2500000,
                    2500000,
                    2222222.222222222,
                    2222222.222222222,
                    2222222.222222222,
                    1999999.9999999998,
                    1999999.9999999998,
                    1999999.9999999998,
                    1886792.4528301887,
                    1886792.4528301887,
                    1886792.4528301887
                  ],
                  "y": [
                    -1.95,
                    -1.85,
                    -1.75,
                    -1.5,
                    -1.3,
                    -1.25,
                    -1,
                    -0.9,
                    -0.8,
                    -0.9,
                    -0.6,
                    -0.5,
                    -0.5,
                    -0.4,
                    -0.2,
                    -0.25,
                    -0.15,
                    -0.05
                  ],
                  "name": "Datos experimentales"
                },
                {
                  "x": [
                    3333333.333333333,
                    3333333.333333333,
                    3333333.333333333,
                    2857142.857142857,
                    2857142.857142857,
                    2857142.857142857,
                    2500000,
                    2500000,
                    2500000,
                    2222222.222222222,
                    2222222.222222222,
                    2222222.222222222,
                    1999999.9999999998,
                    1999999.9999999998,
                    1999999.9999999998,
                    1886792.4528301887,
                    1886792.4528301887,
                    1886792.4528301887
                  ],
                  "y": [
                    -1.8736773341946447,
                    -1.8736773341946447,
                    -1.8736773341946447,
                    -1.3280594489565494,
                    -1.3280594489565494,
                    -1.3280594489565494,
                    -0.9188460350279781,
                    -0.9188460350279781,
                    -0.9188460350279781,
                    -0.6005689353057555,
                    -0.6005689353057555,
                    -0.6005689353057555,
                    -0.34594725552797767,
                    -0.34594725552797767,
                    -0.34594725552797767,
                    -0.216234324320431,
                    -0.216234324320431,
                    -0.216234324320431
                  ],
                  "name": "Datos calculados tras ajuste"
                }
              ],
              "layout": {
                "title": "Regresión Lineal Efecto Fotoelectrico, voltaje en función de la inversa de la longitud de onda (SODIUM)",
                "xaxis": {
                  "title": "Longitud de onda (nanometros)",
                  "titlefont": {
                    "family": "Courier New, monospace",
                    "size": 18,
                    "color": "#7f7f7f"
                  }
                },
                "yaxis": {
                  "title": "Potencial de frenado (v)",
                  "titlefont": {
                    "family": "Courier New, monospace",
                    "size": 18,
                    "color": "#7f7f7f"
                  }
                }
              }
            }
          },
          "metadata": {}
        }
      ],
      "execution_count": 8,
      "metadata": {
        "collapsed": true,
        "jupyter": {
          "source_hidden": false,
          "outputs_hidden": false
        },
        "nteract": {
          "transient": {
            "deleting": false
          }
        },
        "execution": {
          "iopub.status.busy": "2020-11-20T21:48:40.791Z",
          "iopub.execute_input": "2020-11-20T21:48:40.814Z",
          "iopub.status.idle": "2020-11-20T21:48:40.957Z",
          "shell.execute_reply": "2020-11-20T21:48:40.837Z"
        }
      }
    },
    {
      "cell_type": "code",
      "source": [
        "var trace1 = {\r\n",
        "  x: [1, 2, 3],\r\n",
        "  y: [4, 5, 6],\r\n",
        "  type: 'scatter'\r\n",
        "};\r\n",
        "\r\n",
        "var trace2 = {\r\n",
        "  x: [20, 30, 40],\r\n",
        "  y: [50, 60, 70],\r\n",
        "  xaxis: 'x2',\r\n",
        "  yaxis: 'y2',\r\n",
        "  type: 'scatter'\r\n",
        "};\r\n",
        "\r\n",
        "var trace3 = {\r\n",
        "  x: [300, 400, 500],\r\n",
        "  y: [600, 700, 800],\r\n",
        "  xaxis: 'x3',\r\n",
        "  yaxis: 'y3',\r\n",
        "  type: 'scatter'\r\n",
        "};\r\n",
        "\r\n",
        "var trace4 = {\r\n",
        "  x: [4000, 5000, 6000],\r\n",
        "  y: [7000, 8000, 9000],\r\n",
        "  xaxis: 'x4',\r\n",
        "  yaxis: 'y4',\r\n",
        "  type: 'scatter'\r\n",
        "};\r\n",
        "\r\n",
        "var data = [trace1, trace2, trace3, trace4];\r\n",
        "\r\n",
        "var layout = {\r\n",
        "  grid: {rows: 2, columns: 2, pattern: 'independent'},\r\n",
        "};\r\n",
        "\r\n",
        "Plotly(data, layout);"
      ],
      "outputs": [
        {
          "output_type": "execute_result",
          "execution_count": 7,
          "data": {
            "application/vnd.plotly.v1+json": {
              "data": [
                {
                  "x": [
                    1,
                    2,
                    3
                  ],
                  "y": [
                    4,
                    5,
                    6
                  ],
                  "type": "scatter"
                },
                {
                  "x": [
                    20,
                    30,
                    40
                  ],
                  "y": [
                    50,
                    60,
                    70
                  ],
                  "xaxis": "x2",
                  "yaxis": "y2",
                  "type": "scatter"
                },
                {
                  "x": [
                    300,
                    400,
                    500
                  ],
                  "y": [
                    600,
                    700,
                    800
                  ],
                  "xaxis": "x3",
                  "yaxis": "y3",
                  "type": "scatter"
                },
                {
                  "x": [
                    4000,
                    5000,
                    6000
                  ],
                  "y": [
                    7000,
                    8000,
                    9000
                  ],
                  "xaxis": "x4",
                  "yaxis": "y4",
                  "type": "scatter"
                }
              ],
              "layout": {
                "grid": {
                  "rows": 2,
                  "columns": 2,
                  "pattern": "independent"
                }
              }
            }
          },
          "metadata": {}
        }
      ],
      "execution_count": 7,
      "metadata": {
        "collapsed": true,
        "jupyter": {
          "source_hidden": false,
          "outputs_hidden": false
        },
        "nteract": {
          "transient": {
            "deleting": false
          }
        },
        "execution": {
          "iopub.status.busy": "2020-11-20T21:22:08.576Z",
          "iopub.execute_input": "2020-11-20T21:22:08.583Z",
          "iopub.status.idle": "2020-11-20T21:22:08.676Z",
          "shell.execute_reply": "2020-11-20T21:22:08.258Z"
        }
      }
    }
  ],
  "metadata": {
    "kernel_info": {
      "name": "node_nteract"
    },
    "language_info": {
      "name": "javascript",
      "version": "12.8.1",
      "mimetype": "application/javascript",
      "file_extension": ".js"
    },
    "kernelspec": {
      "argv": [
        "C:\\Program Files\\nteract\\nteract.exe",
        "C:\\Program Files\\nteract\\resources\\app.asar\\node_modules\\ijavascript\\lib\\kernel.js",
        "{connection_file}",
        "--protocol=5.0",
        "--hide-undefined"
      ],
      "display_name": "Node.js (nteract)",
      "env": {
        "ELECTRON_RUN_AS_NODE": "1",
        "NODE_PATH": "C:\\Program Files\\nteract\\resources\\app.asar\\node_modules"
      },
      "language": "javascript",
      "name": "node_nteract"
    },
    "nteract": {
      "version": "0.26.0"
    }
  },
  "nbformat": 4,
  "nbformat_minor": 0
}