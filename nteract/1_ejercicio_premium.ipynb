{
  "cells": [
    {
      "cell_type": "markdown",
      "source": [
        "## Ejercicio Premium "
      ],
      "metadata": {
        "nteract": {
          "transient": {
            "deleting": false
          }
        }
      }
    },
    {
      "cell_type": "code",
      "source": [
        "var porcentaje_intensidad_luz = [7, 15, 41, 45, 52, 60, 66, 75, 87, 91, 100];\r\n",
        "var energia_electron = [0.062, 0.131, 0.358, 0.394, 0.462, 0.531, 0.586, 0.662, 0.766, 0.806, 0.882];"
      ],
      "outputs": [],
      "execution_count": 1,
      "metadata": {
        "collapsed": true,
        "jupyter": {
          "source_hidden": false,
          "outputs_hidden": false
        },
        "nteract": {
          "transient": {
            "deleting": false
          }
        },
        "execution": {
          "iopub.status.busy": "2020-11-26T16:13:04.640Z",
          "iopub.execute_input": "2020-11-26T16:13:04.657Z",
          "iopub.status.idle": "2020-11-26T16:13:04.677Z",
          "shell.execute_reply": "2020-11-26T16:13:04.740Z"
        }
      }
    },
    {
      "cell_type": "code",
      "source": [
        "var datos = [\r\n",
        "  { x: porcentaje_intensidad_luz, \r\n",
        "    y: energia_electron, \r\n",
        "    name: 'Datos Experimentales-SODIUM-',\r\n",
        "   },\r\n",
        "              \r\n",
        "];\r\n",
        "var layout = {\r\n",
        "  title: ' Intensidad de la corriente en función de la frecuencia de la luz (100nm)',\r\n",
        "  xaxis: { \r\n",
        "      title: 'Porcentaje Intensidad de la luz (%)',\r\n",
        "    titlefont: { family: 'Courier New, monospace', size: 18, color: '#7f7f7f' }\r\n",
        "    },\r\n",
        "  yaxis: {\r\n",
        "    title: 'Corriente(eV)',\r\n",
        "     titlefont: {family: 'Courier New, monospace', size: 18, color: '#7f7f7f' }\r\n",
        "    \r\n",
        "  }\r\n",
        "};\r\n",
        "Plotly(datos, layout);"
      ],
      "outputs": [
        {
          "output_type": "error",
          "ename": "ReferenceError",
          "evalue": "Plotly is not defined",
          "traceback": [
            "evalmachine.<anonymous>:20",
            "Plotly(datos, layout);",
            "^",
            "",
            "ReferenceError: Plotly is not defined",
            "    at evalmachine.<anonymous>:20:1",
            "    at Script.runInThisContext (vm.js:126:20)",
            "    at Object.runInThisContext (vm.js:316:38)",
            "    at run ([eval]:1054:15)",
            "    at onRunRequest ([eval]:888:18)",
            "    at onMessage ([eval]:848:13)",
            "    at process.emit (events.js:203:13)",
            "    at emit (internal/child_process.js:876:12)",
            "    at processTicksAndRejections (internal/process/task_queues.js:77:11)"
          ]
        }
      ],
      "execution_count": 2,
      "metadata": {
        "collapsed": true,
        "jupyter": {
          "source_hidden": false,
          "outputs_hidden": false
        },
        "nteract": {
          "transient": {
            "deleting": false
          }
        },
        "execution": {
          "iopub.status.busy": "2020-11-26T16:13:04.697Z",
          "iopub.execute_input": "2020-11-26T16:13:04.707Z",
          "iopub.status.idle": "2020-11-26T16:13:04.732Z",
          "shell.execute_reply": "2020-11-26T16:13:04.745Z"
        }
      }
    },
    {
      "cell_type": "markdown",
      "source": [
        "### ¿Qué le ocurre a la corriente que se mide en el amperímetro?\r\n",
        "\r\n",
        "La corriente va aumentando según vamos incrementando el porcentaje de intensidad de la luz, al incrementar este porcentaje, observamos que se van generando mayor número de electrones.\r\n",
        "\r\n",
        "### ¿Que relación ser observa?\r\n",
        "\r\n",
        "A mayor porcentaje de intensidad de la luz mayor número de electrones, con lo que se obtiene una mayor energía."
      ],
      "metadata": {
        "nteract": {
          "transient": {
            "deleting": false
          }
        }
      }
    },
    {
      "cell_type": "code",
      "source": [],
      "outputs": [],
      "execution_count": null,
      "metadata": {
        "collapsed": true,
        "jupyter": {
          "source_hidden": false,
          "outputs_hidden": false
        },
        "nteract": {
          "transient": {
            "deleting": false
          }
        }
      }
    }
  ],
  "metadata": {
    "kernel_info": {
      "name": "node_nteract"
    },
    "language_info": {
      "name": "javascript",
      "version": "12.8.1",
      "mimetype": "application/javascript",
      "file_extension": ".js"
    },
    "kernelspec": {
      "argv": [
        "C:\\Program Files\\nteract\\nteract.exe",
        "C:\\Program Files\\nteract\\resources\\app.asar\\node_modules\\ijavascript\\lib\\kernel.js",
        "{connection_file}",
        "--protocol=5.0",
        "--hide-undefined"
      ],
      "display_name": "Node.js (nteract)",
      "env": {
        "ELECTRON_RUN_AS_NODE": "1",
        "NODE_PATH": "C:\\Program Files\\nteract\\resources\\app.asar\\node_modules"
      },
      "language": "javascript",
      "name": "node_nteract"
    },
    "nteract": {
      "version": "0.26.0"
    }
  },
  "nbformat": 4,
  "nbformat_minor": 0
}