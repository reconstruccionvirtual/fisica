{
  "cells": [
    {
      "cell_type": "markdown",
      "source": [
        "# Ejercicio-2  Partícula de un Campo Magnético\r\n",
        "\r\n",
        "---"
      ],
      "metadata": {
        "nteract": {
          "transient": {
            "deleting": false
          }
        }
      }
    },
    {
      "cell_type": "markdown",
      "source": [
        "Un electrón con una capacidad de trabajo de $72090x10^{-19}J$ orbita de manera perpendicular a un campo magnético de __3250 G__.\r\n",
        "\r\n",
        "* Preguntas a contestar:\r\n",
        "1. [¿Cuál es el radio de la órbita?](#id1)\r\n",
        "2. [¿Y su frecuencia y periodo angular?](#id2)\r\n",
        "3. [¿A qué velocidad va?](#id3)\r\n",
        "4. [Resolver el mismo ejercicio pero para un antineutron](#id4)\r\n",
        "5. [Preguntas contestadas](#id5)\r\n",
        "\r\n",
        "\r\n",
        "---"
      ],
      "metadata": {
        "nteract": {
          "transient": {
            "deleting": false
          }
        }
      }
    },
    {
      "cell_type": "markdown",
      "source": [
        "![ejercicio][1]\r\n",
        "[1]: https://i.imgur.com/3cbe7if.gif"
      ],
      "metadata": {
        "nteract": {
          "transient": {
            "deleting": false
          }
        }
      }
    },
    {
      "cell_type": "markdown",
      "source": [
        "## Resolución\r\n",
        "\r\n",
        "---"
      ],
      "metadata": {
        "nteract": {
          "transient": {
            "deleting": false
          }
        }
      }
    },
    {
      "cell_type": "markdown",
      "source": [
        "Cuando una carga  atraviesa perpendicularmente un campo magnético $(B)$ experimenta una fuerza $(F)$ que le produce una curva en la trayetoria de esa carga, cuando una partícula cargada $(q)$ se mueve a una determinada velocidad $(v)$ en un campo magnético se curva.\r\n"
      ],
      "metadata": {
        "nteract": {
          "transient": {
            "deleting": false
          }
        }
      }
    },
    {
      "cell_type": "markdown",
      "source": [
        "* Información que conocemos:\r\n",
        " 1. $(B)$Fuerza del campo magnético ___3250 Gauss___ (convertiremos a $Teslas$)\r\n",
        " 2. $(E_c)$Energía cinética que produce un electrón $72090x10^{-19}J$\r\n",
        " 3. $(q)$ Carga de una partícula ($electron$).\r\n",
        " 4. $(m)$ Masa de la carga de la partícula ($electron$), que calcularemos a través de la fórmula de __Einstein__ $eV / c^2$; que da lugar a la masa del electron $= 0.5110 MeV/c^2$\r\n",
        "\r\n",
        "\r\n",
        "* Información que desconocemos\r\n",
        "1. El radio de giro $(r)$\r\n",
        "2. Velocidad de giro $(v)$"
      ],
      "metadata": {
        "nteract": {
          "transient": {
            "deleting": false
          }
        }
      }
    },
    {
      "cell_type": "markdown",
      "source": [
        "## Conversión de Unidades\r\n",
        "___\r\n",
        "Dado que en el enunciado se nos dá la unidad que mide la fuerza que emite un campo magnético en __Gauss__, debemos convertirla a $Teslas$ para que sea una unidad del sistema internacional (S.I), correspondiente a la densidad del campo magnético (__magnetic_flux_density__), ya que __Gauss__ es una unidad de campo magnético del sistema Cegesimal de Unidades (CGS), el valor de la conversión será:\r\n",
        "$$\r\n",
        "1 Gauss = 10^{-4}.teslas\r\n",
        "$$\r\n",
        "\r\n",
        "#### ¿Porqué estamos utilizando la unidad $electronvolt/volt$ para la carga del electrón?\r\n",
        "Es una __unidad de energía__ que representa la variación de energía que experimienta un electrón al moverse desde un punto a otro, cuando la diferencia de energía potencial del campo eléctrico es de $1 voltio$, su valor sería $1 eV = 1.602 177 × 10^{−19} J$, sería la unidad adecuada para expresar unidades de energía.\r\n"
      ],
      "metadata": {
        "nteract": {
          "transient": {
            "deleting": false
          }
        }
      }
    },
    {
      "cell_type": "markdown",
      "source": [
        "## Sistemas de ecuaciones\r\n",
        "___"
      ],
      "metadata": {
        "nteract": {
          "transient": {
            "deleting": false
          }
        }
      }
    },
    {
      "cell_type": "markdown",
      "source": [
        "\r\n",
        "Para resolver la primera ecuación, sabemos que una partícula cargada $q$ que circula a una velocidad $v$ por un punto en el que existe una intensidad de campo magnético $B$, sufrirá la acción de una fuerza $F$, cuyo valor es proporcional al valor de  la carga $q$, por la velocidad $v$ y por la intensidad del campo magnético $B$, es la denominada __Fuerza de Lorentz__:\r\n",
        "$$\r\n",
        "\\overrightarrow{F} = q . \\overrightarrow{v} . \\overrightarrow{B}\r\n",
        "$$\r\n",
        "Lo podemos expresar en forma de módulo tal que: $F=q.v.B.sen90^0$ (sería el grado entre el vector de velocidad $v$ y el vector de la intensidad del campo magnético $B$), en este caso el valor de $sen90^0$ será $1$ con lo que nos quedaría:\r\n",
        " $$F = q.v.B$$\r\n",
        "\r\n",
        "La fuerza que obliga al electrón a describir una trayectoria circular, será la fuerza centrípeta ($F_c$):\r\n",
        "$$ F_c = \\frac{m.v^2}{r}$$\r\n",
        "Combinando las dos fuerzas obtendríamos la ecuación correspondiente para poder calcular las dos incógnitas que desconocemos que sería el rádio y la velocidad de giro:\r\n",
        "$$ \r\n",
        "\\frac{m.v^2}{r} = q.v.B\r\n",
        "$$"
      ],
      "metadata": {
        "nteract": {
          "transient": {
            "deleting": false
          }
        }
      }
    },
    {
      "cell_type": "markdown",
      "source": [
        "Como valor conocido, tenemos la energía cinética $E_c$ que produce un electrón, podremos llegar a despejar el valor de $v$, que sería la velocidad de giro:\r\n",
        "$$\r\n",
        "E_c = \\frac{1}{2}.m.v^2\r\n",
        "$$\r\n",
        "\r\n",
        "1.-Primer paso:\r\n",
        "$$\r\n",
        "2E_c = m.v^2\r\n",
        "$$\r\n",
        "2.- Segundo paso, despejamos $v$ para saber la velocidad de giro:\r\n",
        "$$\r\n",
        "v= \\sqrt{\\frac{2 E_c}{m}}\r\n",
        "$$"
      ],
      "metadata": {
        "nteract": {
          "transient": {
            "deleting": false
          }
        }
      }
    },
    {
      "cell_type": "markdown",
      "source": [
        "Para llegar al valor del radio de giro $r$ necesitaremos integrarla con la ___Ley de Lorentz___, nos quedaría de la siguiente forma:\r\n",
        "$$\r\n",
        "q . \\sqrt{\\frac{2E_c}{m}} . B = \\frac{m.\\sqrt{\\frac{2E_c}{m}}^2}{r}\r\n",
        "\r\n",
        "$$\r\n",
        "Después de la simplificación:\r\n",
        "$$\r\n",
        "q . \\frac{\\sqrt{2E_c}} {\\sqrt{{m}}} . B = \\frac{2E_c}{r}\r\n",
        "$$\r\n",
        "\r\n",
        "Como lo que necesitamos calcular es el radio de giro $r$ debemos despejar en la ecuación la variable $r$:\r\n",
        "$$\r\n",
        "r = \\frac{\\sqrt{2E_c .m }}{B.q}\r\n",
        "$$"
      ],
      "metadata": {
        "nteract": {
          "transient": {
            "deleting": false
          }
        }
      }
    },
    {
      "cell_type": "markdown",
      "source": [
        "En este ejercicio podemos hacer uso de la funcion $solve$ que disponemos dentro de las librerias de $Python/Sympy$, ya que nos permite resolver la ecuación de dos incógnitas velocidad de giro ($v$) y radio ($r$), integrando las dos fórmulas (fuerza de lorentz y Energiá cinética $E_c$):\r\n",
        "$$ \r\n",
        "q.v.B = \\frac{m.v^2}{r} \r\n",
        "$$\r\n"
      ],
      "metadata": {
        "nteract": {
          "transient": {
            "deleting": false
          }
        }
      }
    },
    {
      "cell_type": "markdown",
      "source": [
        "## Resolución de Ejercicio a través de Python / Sympy\r\n",
        "___"
      ],
      "metadata": {
        "nteract": {
          "transient": {
            "deleting": false
          }
        }
      }
    },
    {
      "cell_type": "markdown",
      "source": [
        "__1.-__ Importamos las librerías necesarias de PyThon para poder trabajar con unidades de física:\r\n"
      ],
      "metadata": {
        "nteract": {
          "transient": {
            "deleting": false
          }
        }
      }
    },
    {
      "cell_type": "code",
      "source": [
        "from sympy.physics.units import Quantity\r\n",
        "from sympy.physics.units import magnetic_flux_density\r\n",
        "from sympy.physics.units import tesla, volt, electronvolt, meter, seconds,second, kilogram, hertz\r\n",
        "from sympy.physics.units import speed_of_light as c\r\n",
        "from sympy.physics.units import convert_to\r\n",
        "from sympy import solve, symbols, pi, Eq\r\n",
        "from sympy.physics.units import joule\r\n",
        "from sympy.physics.units.systems import SI\r\n"
      ],
      "outputs": [],
      "execution_count": 1,
      "metadata": {
        "collapsed": true,
        "jupyter": {
          "source_hidden": false,
          "outputs_hidden": false
        },
        "nteract": {
          "transient": {
            "deleting": false
          }
        },
        "execution": {
          "iopub.status.busy": "2020-11-21T08:57:22.861Z",
          "iopub.execute_input": "2020-11-21T08:57:22.875Z",
          "iopub.status.idle": "2020-11-21T08:57:24.870Z",
          "shell.execute_reply": "2020-11-21T08:57:24.858Z"
        }
      }
    },
    {
      "cell_type": "markdown",
      "source": [
        "__2.-__ Realizamos el proceso de conversión de la Unidad __Gauss__ para que sea una unidad de densidad de flujo magnético:"
      ],
      "metadata": {
        "nteract": {
          "transient": {
            "deleting": false
          }
        }
      }
    },
    {
      "cell_type": "code",
      "source": [
        "Gs = Quantity(\"Gauss\")\r\n",
        "SI.set_quantity_dimension(Gs, magnetic_flux_density)\r\n",
        "SI.set_quantity_scale_factor(Gs, 1E-4*tesla)\r\n"
      ],
      "outputs": [],
      "execution_count": 2,
      "metadata": {
        "collapsed": true,
        "jupyter": {
          "source_hidden": false,
          "outputs_hidden": false
        },
        "nteract": {
          "transient": {
            "deleting": false
          }
        },
        "execution": {
          "iopub.status.busy": "2020-11-21T08:57:25.632Z",
          "iopub.execute_input": "2020-11-21T08:57:25.640Z",
          "iopub.status.idle": "2020-11-21T08:57:25.654Z",
          "shell.execute_reply": "2020-11-21T08:57:25.662Z"
        }
      }
    },
    {
      "cell_type": "markdown",
      "source": [
        "__3.-__ Ejecución del script con el sistema de ecuaciones y variables"
      ],
      "metadata": {
        "nteract": {
          "transient": {
            "deleting": false
          }
        }
      }
    },
    {
      "cell_type": "code",
      "source": [
        "B = 3250*Gs ## fuerza del campo mágnetico\n",
        "E = 72090E-19*joule ##energía (E) que produce el electron\n",
        "\n",
        "#Incognitas para las ecuaciones\n",
        "r = symbols(\"r_giro\") \n",
        "v = symbols(\"v_giro\")\n",
        "\n",
        "q = 1*electronvolt/volt #unidad de carga del electron, es equivalente a 1.602x10^-19 J (eV x 1V)\n",
        "m = 0.5*1E6*electronvolt / c**2 #unidad de masa eV carga del electron segun la formula de einstein eV/c2, es equivalente a decir 0.5110 MeV/c2 = meV=1E6.\n",
        "\n",
        "#fuerza de lorentz + fuerza centrípeta\n",
        "eq_lorentz = Eq( q * v * B, (m * v**2) / r)\n",
        "\n",
        "#ecuacion de energia cinetica\n",
        "eq_ecinetica = Eq(E, 0.5 * m * v**2)\n",
        "\n",
        "solucion_v_r = solve([eq_ecinetica, eq_lorentz], [v, r])[1]\n",
        "radio = solucion_v_r[1]\n",
        "radio = convert_to(radio, [meter]).n(2)\n",
        "print (\"Radio de giro:\",radio)\n",
        "# cálculo de la velocidad\n",
        "velocidad_giro = solucion_v_r[0]\n",
        "velocidad_giro = convert_to(velocidad_giro,[meter,second]).n(2)\n",
        "print (\"Velocidad de giro:\",velocidad_giro)"
      ],
      "outputs": [
        {
          "output_type": "stream",
          "name": "stdout",
          "text": [
            "Radio de giro: 0.0022*meter\n",
            "Velocidad de giro: 1.3e+8*meter/second\n"
          ]
        }
      ],
      "execution_count": 3,
      "metadata": {
        "execution": {
          "iopub.status.busy": "2020-11-21T08:57:28.441Z",
          "iopub.execute_input": "2020-11-21T08:57:28.454Z",
          "iopub.status.idle": "2020-11-21T08:57:28.541Z",
          "shell.execute_reply": "2020-11-21T08:57:28.558Z"
        }
      }
    },
    {
      "cell_type": "markdown",
      "source": [
        "### Cálculo de la Frecuencia y Periodo angular\r\n",
        "\r\n",
        "La formula correspondiente a la velocidad angular ($\\omega$) de una partícula cargada en un campo magnético uniforme sería la siguiente:\r\n",
        "$$\r\n",
        "\\omega = \\frac{q.B}{m}\r\n",
        "$$\r\n",
        "Donde para calcular la frecuencia angular ($f$)(se trata del número de vueltas que la partícula dá cada segundo, se mide en la inversa del segundo ($s{-1}$), la unidad la representaremos en $hertz$:\r\n",
        "$$\r\n",
        "f = \\frac{\\omega}{2\\pi}\r\n",
        "$$\r\n",
        "Y en función del  periodo angular($T$)(se trata del tiempo que tarda la partícula en dar una vuelta completa) se medirá en segundos:\r\n",
        "$$\r\n",
        "T = \\frac{2\\pi}{\\omega}\r\n",
        "$$"
      ],
      "metadata": {
        "nteract": {
          "transient": {
            "deleting": false
          }
        }
      }
    },
    {
      "cell_type": "markdown",
      "source": [
        "1.- Ejecución script $Python / Sympy$, para calcular la velocidad angular ($\\omega$), la frecuencia angular ($f$) y el Periodo angular ($T$):\r\n",
        "___"
      ],
      "metadata": {
        "nteract": {
          "transient": {
            "deleting": false
          }
        }
      }
    },
    {
      "cell_type": "code",
      "source": [
        "#calculos con velocidad/frecuencia/periodo angular\r\n",
        "\r\n",
        "v_a = (q * B / m)\r\n",
        "velocidad_angular = convert_to(v_a,[second]).n(2)\r\n",
        "print (\"Velocidad Angular:\",velocidad_angular)\r\n",
        "#frecuencia angular\r\n",
        "f_a = v_a / 2*pi\r\n",
        "frecuencia_angular = convert_to(f_a,[hertz]).n(2)\r\n",
        "print(\"Frecuencia Angular:\",frecuencia_angular)\r\n",
        "#periodo angular\r\n",
        "T_a = 2*pi / v_a\r\n",
        "periodo_angular = convert_to(T_a,[second]).n(2)\r\n",
        "print (\"Periodo Angular:\",periodo_angular)\r\n"
      ],
      "outputs": [
        {
          "output_type": "stream",
          "name": "stdout",
          "text": [
            "Velocidad Angular: 5.8e+10/second\n",
            "Frecuencia Angular: 9.2e+10*hertz\n",
            "Periodo Angular: 1.1e-10*second\n"
          ]
        }
      ],
      "execution_count": 8,
      "metadata": {
        "collapsed": true,
        "jupyter": {
          "source_hidden": false,
          "outputs_hidden": false
        },
        "nteract": {
          "transient": {
            "deleting": false
          }
        },
        "execution": {
          "iopub.status.busy": "2020-11-21T09:37:25.570Z",
          "iopub.execute_input": "2020-11-21T09:37:25.581Z",
          "iopub.status.idle": "2020-11-21T09:37:25.607Z",
          "shell.execute_reply": "2020-11-21T09:37:25.626Z"
        }
      }
    },
    {
      "cell_type": "markdown",
      "source": [
        "### Cálculo para un antineutrón\r\n",
        "Un antineutrón es la antipartícula de un neutrón. Tiene la misma masa ($m$) que éste y no tiene carga eléctrica, es decir, es eléctricamente neutro, por lo tanto, no se verá afectado por un campo magnético.\r\n"
      ],
      "metadata": {
        "nteract": {
          "transient": {
            "deleting": false
          }
        }
      }
    },
    {
      "cell_type": "code",
      "source": [
        "#masa de un neutron (m)\n",
        "\n",
        "antineutron = convert_to(m,[kilogram]).n(2)\n",
        "print (\"Masa del antineutrón:\",antineutron)\n"
      ],
      "outputs": [],
      "execution_count": null,
      "metadata": {
        "collapsed": true,
        "jupyter": {
          "source_hidden": false,
          "outputs_hidden": false
        },
        "nteract": {
          "transient": {
            "deleting": false
          }
        },
        "execution": {
          "iopub.status.busy": "2020-11-21T09:37:47.040Z",
          "iopub.execute_input": "2020-11-21T09:37:47.049Z",
          "iopub.status.idle": "2020-11-21T09:37:47.075Z",
          "shell.execute_reply": "2020-11-21T09:37:47.095Z"
        }
      }
    }
  ],
  "metadata": {
    "language_info": {
      "name": "python",
      "version": "3.7.9",
      "mimetype": "text/x-python",
      "codemirror_mode": {
        "name": "ipython",
        "version": 3
      },
      "pygments_lexer": "ipython3",
      "nbconvert_exporter": "python",
      "file_extension": ".py"
    },
    "orig_nbformat": 2,
    "kernelspec": {
      "name": "python3",
      "display_name": "Python 3"
    },
    "nteract": {
      "version": "0.26.0"
    }
  },
  "nbformat": 4,
  "nbformat_minor": 2
}