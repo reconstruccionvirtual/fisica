{
  "cells": [
    {
      "cell_type": "markdown",
      "source": [
        "# Caso grupal: \n",
        "# Boletín grupal sobre el efecto fotoeléctrico\n",
        "![some-id](https://image.jimcdn.com/app/cms/image/transf/dimension=590x10000:format=jpg/path/sc10897969bb6a5f1/image/i782f22d425d09673/version/1390083075/image.jpg)\n",
        "\n",
        "---\n",
        "## Grupo 10\n",
        "1. Campos Velasco, Luis Enrique\n",
        "2. Lasanta Ajona, David\n",
        "3. Oseni Triado\n",
        "4. Zafra Jurado, Oscar\n",
        "---"
      ],
      "metadata": {
        "nteract": {
          "transient": {
            "deleting": false
          }
        }
      }
    },
    {
      "cell_type": "markdown",
      "source": [
        "# 1.- Ejercicio sobre el efecto fotoeléctrico\n",
        "---\n",
        "\n",
        "### Índice del ejercicio\n",
        "[Section title](#El-electronvoltio)\n",
        "\n",
        "\n"
      ],
      "metadata": {
        "nteract": {
          "transient": {
            "deleting": false
          }
        }
      }
    },
    {
      "cell_type": "markdown",
      "source": [
        "## El electronvoltio\n",
        "### Comprobación de $eV$ tiene unidades de energía:\n",
        "***\n",
        "Un electronvoltio (también electrón voltio, $eV$) es una unidad de energía no perteneciente del SI que **equivale a aproximadamente $1,602\\dot\\ 10^{–19}$ julios** y se utiliza en la física atómica, nuclear y de partículas. Por definición, es la cantidad de energía ganada por la carga de un electrón que atraviesa una diferencia de potencial eléctrico de un voltio. \n",
        "\n",
        "Dado que el $julio\\ (J)$ es la unidad derivada del Sistema Internacional utilizada para medir **_energía_**, trabajo y calor, se puede comprobar que $eV$ se puede expresar con unidades de energia.\n",
        "\n"
      ],
      "metadata": {
        "nteract": {
          "transient": {
            "deleting": false
          }
        }
      }
    }
  ],
  "metadata": {
    "kernel_info": {
      "name": "node_nteract"
    },
    "language_info": {
      "name": "javascript",
      "version": "12.8.1",
      "mimetype": "application/javascript",
      "file_extension": ".js"
    },
    "kernelspec": {
      "argv": [
        "/Applications/nteract.app/Contents/MacOS/nteract",
        "/Applications/nteract.app/Contents/Resources/app.asar/node_modules/ijavascript/lib/kernel.js",
        "{connection_file}",
        "--protocol=5.0",
        "--hide-undefined"
      ],
      "display_name": "Node.js (nteract)",
      "env": {
        "ELECTRON_RUN_AS_NODE": "1",
        "NODE_PATH": "/Applications/nteract.app/Contents/Resources/app.asar/node_modules"
      },
      "language": "javascript",
      "name": "node_nteract"
    },
    "gist_id": "c2a89b301b31809291b8b97429e209e4",
    "nteract": {
      "version": "0.26.0"
    }
  },
  "nbformat": 4,
  "nbformat_minor": 0
}