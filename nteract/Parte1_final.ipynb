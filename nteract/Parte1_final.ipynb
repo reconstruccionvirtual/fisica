{
  "cells": [
    {
      "cell_type": "markdown",
      "source": [
        "![](https://2.bp.blogspot.com/-dQnkmMpqKfw/VPOSKSkSkYI/AAAAAAAAACE/Y3GWjq5dIFU/s1600/efecto_fotoel%C3%A9ctrico.jpg)\n",
        "# Boletín grupal sobre el efecto fotoeléctrico\n",
        "\n",
        "---\n",
        "## Grupo 10\n",
        "1. Campos Velasco, Luis Enrique\n",
        "2. Lasanta Ajona, David\n",
        "3. Oseni Triado, Antoni\n",
        "4. Zafra Jurado, Oscar\n",
        "---"
      ],
      "metadata": {
        "nteract": {
          "transient": {
            "deleting": false
          }
        }
      }
    },
    {
      "cell_type": "markdown",
      "source": [
        "# 1.- Ejercicio sobre el efecto fotoeléctrico\n",
        "---\n",
        "\n",
        "### Índice del ejercicio\n",
        "1.1 [El electronvoltio](#1.1-El-electronvoltio)\n",
        "\n",
        "1.2 [Ejercicio de calentamiento](#1.2-Ejercicio-de-calentamiento)\n",
        "\n",
        "1.3 [Primer ejercicio](#1.3-Primer-ejercicio)\n",
        "\n",
        "1.4 [Relación entre longiyud de onda y frecuencia](#1.4-Relación-entre-longiyud-de-onda-y-frecuencia)\n",
        "\n",
        "1.5 [UNPKG y CDN](#1.5-UNPKG-y-CDN)\n",
        "\n",
        "1.6 [Toma de medidas con el applet del efecto Fotoeléctrico](#1.6-Toma-de-medidas-con-el-applet-del-efecto-Fotoeléctrico)\n",
        "\n",
        "1.7 [Segundo ejercicio](#1.7-Segundo-ejercicio)\n",
        "\n",
        "1.8 [Resumen del efecto fotoeléctrico](#1.8-Resumen-del-ejercico-fotoeléctrico)\n",
        "\n",
        "1.9 [Ejercico Premium](#1.9-Ejercico-Premium)\n"
      ],
      "metadata": {
        "nteract": {
          "transient": {
            "deleting": false
          }
        }
      }
    },
    {
      "cell_type": "markdown",
      "source": [
        "## 1.1 El electronvoltio.\n",
        "### Comprobación de $eV$ tiene unidades de energía:\n",
        "***\n",
        "$1eV$, es la energía cinética adquirida por un solo electrón cuando se mueve a traves de un potencial eléctrico de $1V$.\n",
        "\n",
        "Como la carga elemental del electrón en módulo es $e = 1,602·10^{–19} C$ y la variación de energía potencial es la carga por la diferencia de potencial, $1 eV = 1,602·10^{–19} J$.\n",
        "\n",
        "Dado que el $julio (J)$ es la unidad derivada del Sistema Internacional utilizada para medir **energía**, trabajo y calor, se puede comprobar que $eV$ se puede expresar con unidades de energia.\n",
        "\n"
      ],
      "metadata": {
        "nteract": {
          "transient": {
            "deleting": false
          }
        }
      }
    },
    {
      "cell_type": "markdown",
      "source": [
        "## 1.2 Ejercicio de calentamiento:\n",
        "---\n",
        "Demostrar que la expresión matemática:\n",
        "$$\\frac{x - x_1}{x_2 - x_1} = \\frac{y - y_1}{y_2 - y_1}$$\n",
        "es equivalente a la expresión matemática:\n",
        "$$y = m\\dot\\ x + b$$\n",
        "donde:\n",
        "$$m = \\frac{y_1 - y_2}{x_1 - x_2}$$\n",
        "y \n",
        "$$b = \\frac{x_1\\dot\\ y_2 - x_2\\dot\\ y_1}{x_1 - x_2}$$\n",
        "***\n",
        "#### Paso 1. Multiplicamos $m$ por $-1$:\n",
        "$$m = \\frac{y_1 - y_2}{x_1 - x_2} = \\frac{y_2 - y_1}{x_2 - x_1}$$\n",
        "#### Paso 2. Despejamos $y$:\n",
        "$$\n",
        "y = (x - x_1)\\dot\\ \\frac{y_2 - y_1}{x_2 - x_1} + y_1  \n",
        "$$\n",
        "#### Paso 3. Aplicamos la igualdad de $m$:\n",
        "$$\n",
        "y = (x - x_1)\\dot\\ m + y_1 = m\\dot\\ x - (m\\dot\\ x_1) + y_1\n",
        "$$\n",
        "#### Paso 4. Sustituimos la segunda $m$ por su igualdad:\n",
        "$$\n",
        "y = m\\dot\\ x - (\\frac{y_1 - y_2}{x_1 - x_2})\\dot\\ x_1 + y_1 = m\\dot\\ x -(\\frac {x_1 \\dot\\ y_1 - x_1\\dot\\ y_2}{x_1 - x_2}) + y_1\n",
        "$$\n",
        "#### Paso 5. Hacemos factor comun con $y_1$, multiplicandola por una fración que es $=1$:\n",
        "$$\n",
        "y = m\\dot\\ x - (\\frac{y_1 - y_2}{x_1 - x_2})\\dot\\ x_1 + y_1\\dot\\ \\frac{x_1 - x_2}{x_1 - x_2}\n",
        "$$\n",
        "#### Paso 6. Resolvemos el factor comun:\n",
        "$$\n",
        "y = m\\dot\\ x + \\frac{-x_1\\dot\\ y_1 + x_1\\dot\\ y_2 + x_1\\dot\\ y_1 - x_2\\dot\\ y_1}{x_1 - x_2} = m\\dot\\ x + \\frac{x_1\\dot\\ y_2 - x_2\\dot\\ y_1}{x_1 - x_2}\n",
        "$$\n",
        "#### Paso 7. Dado que la fracción a la derecha del signo $+$ es igual a $b$, obtenemos que:\n",
        "$$\n",
        "y = m\\dot\\ x + b\n",
        "$$\n",
        "***\n",
        "### La equivalencia entre ambas expresiones, queda demostrada.\n",
        "***"
      ],
      "metadata": {
        "nteract": {
          "transient": {
            "deleting": false
          }
        }
      }
    },
    {
      "cell_type": "markdown",
      "source": [
        "## 1.3 Primer ejercicio\n",
        "---\n",
        "Tabla con el nombre de cada color del arcoíris (azul, rojo, amarillo, etc.) en una columna, en una segunda columna escribe su longitud de onda (en metros) y en una tercera columna, su frecuencia (en Hercios). \n",
        "\n",
        "\n",
        "|Color|Frecuencia $Hz$|Longitud de onda $m$|\n",
        "| -- | -- | -- |\n",
        "|Violeta|$$6,68^{14} - 7,89^{14}$$|$$3,8^{-7} - 4,5^{-7}$$|\n",
        "|Azul Oscuro|$$6,31^{14} - 6,68^{14}$$|$$4,5^{-7} - 4,75^{-7}$$|\n",
        "|Azul Claro|$$6,06^{14} - 6,3^{14}$$|$$7,75^{-7} - 4,95^{-7}$$|\n",
        "|Verde|$$5,62^{14} - 6,06^{14}$$|$$4,95^{-7} - 5,7^{-7}$$|\n",
        "|Amarillo|$$5,08^{14} - 5,26^{14}$$|$$5,7^{-7} - 5,9^{-7}$$|\n",
        "|Naranja|$$4,84^{14} - 5,08^{14}$$|$$5,9^{-7} - 6,2^{-7}$$|\n",
        "|Rojo|$$4^{14} - 4,84^{14}$$|$$6,2 - 7,5^{-7}$$|\n",
        "\n",
        "![](https://2.bp.blogspot.com/-7vvdsGybMRk/Vvp23C74-VI/AAAAAAAAAUg/0aJKwkwIkzALmixsagUcMTZai4u5miJww/w1200-h630-p-k-no-nu/espectro-de-luz.jpg)\n",
        " \n"
      ],
      "metadata": {
        "nteract": {
          "transient": {
            "deleting": false
          }
        }
      }
    },
    {
      "cell_type": "markdown",
      "source": [
        "## 1.4 Relación entre longiyud de onda y frecuencia\n",
        "### ¿Cuál es la relación matemática entre longitud de onda y frecuencia de una onda electromagnética?\n",
        "***\n",
        "A mayor frecuencia, menor es la longitud de onda y cuando la frecuencia es menor, mayor es la longitud de onda. La velocidad de propagación de una onda, se puede medir como el tiempo que transcurre desde que es emitida hasta que se recibe.\n",
        "Todas las ondas electromagnéticas se propagan en el vacío  a una velocidad constante de __300.000.000 m/s__, la velocidad de la luz. Debido a la poca diferencia que existe entre la velocidad de propagación en el vacío y en el aire, se considera que en el aire también se propagan a una velocidad de __300.000.000 m/s__.\n",
        "Si conocemos la velocidad de transmisión de una onda $\\lambda$ y su frecuencia ___f___, podemos calcular la longitud de onda $\\lambda$ a partir de la siguiente relación:\n",
        "$$\n",
        "\\lambda = \\frac {velocidad (m/s)}{frecuencia (Hz)}\n",
        "$$"
      ],
      "metadata": {
        "nteract": {
          "transient": {
            "deleting": false
          }
        }
      }
    },
    {
      "cell_type": "markdown",
      "source": [
        "\n",
        "## 1.5 UNPKG y CDN\n",
        "### ¿Para qué sirve UNPKG y porqué es uno de los servicios más usados de Internet (junto con jspm, ESM, cdnjs, jsdelivr, …)?\n",
        "***\n",
        "\n",
        "$UNPKG$ es una red rápida de distribución global de contenidos para cualquier $npm$. Se puede cargar rápidamente cualquier archivo de desde cualquier $pakage$ usando su $URL$ con este formato: $unpkg.com/:package@:version/:file$\n",
        "Es uno de los servicios mas usados de interner, por su usabilidad simple y potencia de servicio.\n",
        "\n",
        "#### ¿Qué son los CDN?\n",
        "\n",
        "Un CDN (Content Delivery Network) es un grupo de servidores instalados en diferentes ubicaciones para brindar contenido web en un área geográfica amplia.\n",
        "\n",
        "También se denominan «redes de distribución» y la idea detrás de ellas es ofrecer varios puntos de presencia (PoPs; Points of Prescence) fuera del servidor de origen. Esto permite que los sitios web administren mejor el tráfico al procesar las solicitudes de los usuarios más rápido, resultando en una experiencia general más satisfactoria."
      ],
      "metadata": {
        "nteract": {
          "transient": {
            "deleting": false
          }
        }
      }
    },
    {
      "cell_type": "markdown",
      "source": [
        "## 1.6 Toma de medidas con el applet del efecto Fotoeléctrico\n",
        "***\n",
        "Con cuatro metales, investigar los Voltajes de frenado $V_i$ que hay que aplicar en el circuito, para detener la emisión de electrones que se ha producido l ser extraídos mediante la colisión con partículas de luz (fotones) de longitud de onda $\\lambda_i$. \n",
        "\n",
        "### Metal 1: SODIUM\n",
        "\n",
        "|Color|Longitud de onda $nm$|Potencial de frenado $V$|\n",
        "| -- | -- | -- |\n",
        "|UV|300|1,82|\n",
        "|VIOLETA|400|0,76|\n",
        "|AZUL|425|0,57|\n",
        "|AZUL|450|0,39|\n",
        "\n",
        "\n",
        "### Metal 2: ZINC\n",
        "\n",
        "|Color|Longitud de onda $nm$|Potencial de frenado $V$|\n",
        "| -- | -- | -- |\n",
        "|UV|150|4,00|\n",
        "|UV|200|1,89|\n",
        "|UV|250|0,62|\n",
        "|UV|270|0,19|\n",
        "\n",
        "### Metal 3: CALCIUM\n",
        "\n",
        "|Color|Longitud de onda $nm$|Potencial de frenado $V$|\n",
        "| -- | -- | -- |\n",
        "| UV | 110 | -8,00 |\n",
        "| UV | 120 | -7,50 |\n",
        "| UV | 130 | -6,80 |\n",
        "| UV | 300 | -1,20 |\n",
        "| UV | 350 | -0,65 |\n",
        "\n",
        "### Metal 4: COPPER\n",
        "\n",
        "|Color|Longitud de onda $nm$|Potencial de frenado $V$|\n",
        "| -- | -- | -- |\n",
        "| UV | 100 | -7,40 |\n",
        "| UV | 150 | -3,50 |\n",
        "| UV | 200 | -1,50 |\n",
        "| UV | 250 | -0,26 |\n",
        "_\n",
        "![](https://i.imgur.com/B2iMcCa.png)\n",
        "\n"
      ],
      "metadata": {
        "nteract": {
          "transient": {
            "deleting": false
          }
        }
      }
    },
    {
      "cell_type": "code",
      "source": [
        "// Anotación de valores en array de Javascript\n",
        "// Array de SODIUM\n",
        "// Grabamos la información convertida de nm a m\n",
        "var longitudes_de_onda_medidas1 = [300, 400,425,450].map(x => x*1e-9);  \n",
        "// Gravamos el voltaje de frenado en V\n",
        "var voltajes_medidos1 = [1.82, 0.76, 0.57, 0.39];  \n",
        "// Array de ZINC\n",
        "var longitudes_de_onda_medidas2 = [150,200,250, 270].map(x => x*1e-9); \n",
        "var voltajes_medidos2 = [4,1.89,0.62,0.19];  \n",
        "// Array de CALCIUM\n",
        "var longitudes_de_onda_medidas3 = [110,120,130,300].map(x => x*1e-9);  \n",
        "var voltajes_medidos3 = [8,7.5,6.8,1.2];  \n",
        "// Array de COPPER\n",
        "var longitudes_de_onda_medidas4 = [100,150,200,250].map(x => x*1e-9);  \n",
        "var voltajes_medidos4 = [7.4,3.5,1.5,0.26];\n",
        "\n",
        "//Ajuste a una recta\n",
        "inversa_de_longitudes_de_onda1 = longitudes_de_onda_medidas1.map(lambda => 1/lambda );\n",
        "inversa_de_longitudes_de_onda2 = longitudes_de_onda_medidas2.map(lambda => 1/lambda );\n",
        "inversa_de_longitudes_de_onda3 = longitudes_de_onda_medidas3.map(lambda => 1/lambda );\n",
        "inversa_de_longitudes_de_onda4 = longitudes_de_onda_medidas4.map(lambda => 1/lambda );\n",
        "var datos_a_ajustar1 = voltajes_medidos1.reduce((tuplas_longitud_onda_voltaje1, b, i) => {\n",
        "    tuplas_longitud_onda_voltaje1.push([inversa_de_longitudes_de_onda1[i], b]);\n",
        "  return tuplas_longitud_onda_voltaje1;\n",
        "}, []);\n",
        "var datos_a_ajustar2 = voltajes_medidos2.reduce((tuplas_longitud_onda_voltaje2, b, i) => {\n",
        "    tuplas_longitud_onda_voltaje2.push([inversa_de_longitudes_de_onda2[i], b]);\n",
        "  return tuplas_longitud_onda_voltaje2;\n",
        "}, []);\n",
        "var datos_a_ajustar3 = voltajes_medidos3.reduce((tuplas_longitud_onda_voltaje3, b, i) => {\n",
        "    tuplas_longitud_onda_voltaje3.push([inversa_de_longitudes_de_onda3[i], b]);\n",
        "  return tuplas_longitud_onda_voltaje3;\n",
        "}, []);\n",
        "var datos_a_ajustar4 = voltajes_medidos4.reduce((tuplas_longitud_onda_voltaje4, b, i) => {\n",
        "    tuplas_longitud_onda_voltaje4.push([inversa_de_longitudes_de_onda4[i], b]);\n",
        "  return tuplas_longitud_onda_voltaje4;\n",
        "}, []);\n",
        "var regression = require('./regression.js');\n",
        "var result1 = regression.linear(datos_a_ajustar1, { precision: 15 });\n",
        "var result2 = regression.linear(datos_a_ajustar2, { precision: 15 });\n",
        "var result3 = regression.linear(datos_a_ajustar3, { precision: 15 });\n",
        "var result4 = regression.linear(datos_a_ajustar4, { precision: 15 });\n",
        "var m1 = result1.equation[0];  // pendiente\n",
        "var m2 = result2.equation[0];  // pendiente\n",
        "var m3 = result3.equation[0];  // pendiente\n",
        "var m4 = result4.equation[0];  // pendiente\n",
        "var b1 = result1.equation[1];  // ordenada en origen\n",
        "var b2 = result2.equation[1];  // ordenada en origen\n",
        "var b3 = result3.equation[1];  // ordenada en origen\n",
        "var b4 = result4.equation[1];  // ordenada en origen\n",
        "console.log(' Para el SODIUM, la pendiente es = ' + m1 + ' y la ordenada es = ' + b1);\n",
        "console.log(' Para el ZINC, la pendiente es = ' + m2 + ' y la ordenada es = ' + b2);\n",
        "console.log(' Para el CALCIUM, la pendiente es = ' + m3 + ' y la ordenada es = ' + b3);\n",
        "console.log(' Para el COPPER, la pendiente es = ' + m4 + ' y la ordenada es = ' + b4);"
      ],
      "outputs": [
        {
          "output_type": "stream",
          "name": "stdout",
          "text": [
            " Para el SODIUM, la pendiente es = 0.00000128140048 y la ordenada es = -2.449363177124183\n",
            " Para el ZINC, la pendiente es = 0.00000127914379 y la ordenada es = -4.519372242314815\n",
            " Para el CALCIUM, la pendiente es = 0.000001218205369 y la ordenada es = -2.789450191518064\n",
            " Para el COPPER, la pendiente es = 0.000001187389558 y la ordenada es = -4.454082997166666\n"
          ]
        }
      ],
      "execution_count": 8,
      "metadata": {
        "collapsed": false,
        "jupyter": {
          "source_hidden": false,
          "outputs_hidden": false
        },
        "nteract": {
          "transient": {
            "deleting": false
          }
        },
        "execution": {
          "shell.execute_reply": "2020-11-29T23:06:16.753Z",
          "iopub.status.busy": "2020-11-29T23:06:16.833Z",
          "iopub.execute_input": "2020-11-29T23:06:16.846Z",
          "iopub.status.idle": "2020-11-29T23:06:16.862Z"
        }
      }
    },
    {
      "cell_type": "code",
      "source": [
        "// constante de Plank\n",
        "/// la constante de Plank es h = 6.62607 x 10-34 J/s\n",
        "var planck = 6.62607e-34;\n",
        "var ce = 1.602e-19;// carga de un electron\n",
        "var c = 3e8; //velocidad luz\n",
        "\n",
        "var hh1 = (m1*ce)/(2*c*3.1416);\n",
        "var hh2 = (m2*ce)/(2*c*3.1416);\n",
        "var hh3 = (m3*ce)/(2*c*3.1416);\n",
        "var hh4 = (m4*ce)/(2*c*3.1416);\n",
        "\n",
        "\n",
        "var h1 = ((m1*ce)/(2*c*3.1416))*(2*3.1416);\n",
        "var h2 = ((m2*ce)/(2*c*3.1416))*(2*3.1416);\n",
        "var h3 = ((m3*ce)/(2*c*3.1416))*(2*3.1416);\n",
        "var h4 = ((m4*ce)/(2*c*3.1416))*(2*3.1416);\n",
        "\n",
        "var o1 = b1*ce;\n",
        "var o2 = b2*ce;\n",
        "var o3 = b3*ce;\n",
        "var o4 = b4*ce;\n",
        "\n",
        "console.log(hh1);\n",
        "console.log(hh2);\n",
        "console.log(hh3);\n",
        "console.log(hh4);\n",
        "console.log(\"---------------------\");\n",
        "\n",
        "console.log(h1);\n",
        "console.log(h2);\n",
        "console.log(h3);\n",
        "console.log(h4);\n",
        "console.log(\"---------------------\");\n",
        "\n",
        "console.log(planck-h1);\n",
        "console.log(planck-h2);\n",
        "console.log(planck-h3);\n",
        "console.log(planck-h4);\n",
        "console.log(\"---------------------\");\n",
        "\n",
        "console.log(o1, \" Julios\" );\n",
        "console.log(o2, \" Julios\");\n",
        "console.log(o3, \" Julios\");\n",
        "console.log(o4, \" Julios\");\n"
      ],
      "outputs": [
        {
          "output_type": "stream",
          "name": "stdout",
          "text": [
            "1.0890435706646294e-34\n",
            "1.08712564276165e-34\n",
            "1.0353349679239877e-34\n",
            "1.0091450597975553e-34\n",
            "---------------------\n",
            "6.842678563199999e-34\n",
            "6.8306278386e-34\n",
            "6.505216670459999e-34\n",
            "6.34066023972e-34\n",
            "---------------------\n",
            "-2.1660856319999872e-35\n",
            "-2.045578385999996e-35\n",
            "1.208533295400009e-35\n",
            "2.854097602800005e-35\n",
            "---------------------\n",
            "-3.923879809752941e-19  Julios\n",
            "-7.240034332188334e-19  Julios\n",
            "-4.468699206811939e-19  Julios\n",
            "-7.135440961460999e-19  Julios\n"
          ]
        }
      ],
      "execution_count": 9,
      "metadata": {
        "collapsed": true,
        "jupyter": {
          "source_hidden": false,
          "outputs_hidden": false
        },
        "nteract": {
          "transient": {
            "deleting": false
          }
        },
        "execution": {
          "iopub.status.busy": "2020-11-29T23:06:16.868Z",
          "iopub.execute_input": "2020-11-29T23:06:16.873Z",
          "iopub.status.idle": "2020-11-29T23:06:16.921Z",
          "shell.execute_reply": "2020-11-29T23:06:16.759Z"
        }
      }
    },
    {
      "cell_type": "markdown",
      "source": [
        "## 1.7 Segundo ejercicio\n",
        "### Constante de Planck\n",
        "![](https://www.scienceinschool.org/sites/default/files/articleContentImages/28/planck/issue28planck7_l.jpg)\n",
        "Con los valores obtenidos y para cada metal, calcular la Constante de Planck $h$, la Constante de Planck reducida $\\hbar$, el trabajo de extración $\\varnothing$ y la desviación de los resultados respecto a la útima $h$ de 20 de mayo de 2.019 de $6.626070\\dot\\ 10^{-34 } Js$ siendo:\n",
        "\n",
        "Constante de la velocidad de la luz $c = 3\\dot\\ 10^8$ m/s.\n",
        "\n",
        "Carga elemental del electrón en módulo es $e = 1,602·10^{–19} C$.\n",
        "$$\\hbar = \\frac {m_i\\dot\\ e}{2\\dot\\ c\\dot\\ \\pi}$$\n",
        "$$h = \\hbar\\dot\\ 2\\dot\\ \\pi\\$$\n",
        "$$\\varnothing = b_i\\dot\\ e$$\n",
        "\n",
        "|SODIUM| |\n",
        "| -- | -- |\n",
        "| $m_1$ | $1.28140048\\dot\\ 10^{-6} $ |\n",
        "| $\\hbar_1$ | $1.0890435706646294\\dot\\ 10^{-34} Js$ |\n",
        "| $h_1$ | $6.842678563199999\\dot\\ 10^{-34} Js$ |\n",
        "| Desviación $h_1$ con $h_{2019}$|$-2.1660856319999872^{-35} Js$|\n",
        "| $b_1$|$-2.449363177124183$|\n",
        "| $\\varnothing_1$|$3.923879809752941\\dot\\ 10^{-19} J$|\n",
        ".\n",
        "\n",
        "|ZINC| |\n",
        "| -- | -- |\n",
        "| $m_2$ | $1.27914379\\dot\\ 10^{-6} $ |\n",
        "| $\\hbar_2$ | $1.08712564276165\\dot\\ 10^{-34} Js$ |\n",
        "| $h_2$ | $6.8306278386\\dot\\ 10^{-34}$ Js |\n",
        "| Desviación $h_2$ con $h_{2019}$|$-2.045578385999996^{-35}$ Js|\n",
        "| $b_2$|$-4.519372242314815$|\n",
        "| $\\varnothing_2$|$7.240034332188334\\dot\\ 10^{-19} J$|\n",
        ".\n",
        "\n",
        "|CALCIUM| |\n",
        "| -- | -- |\n",
        "| $m_3$ | $1.222263424\\dot\\ 10^{-6} $ |\n",
        "| $\\hbar_3$ | $1.0387838496562262\\dot\\ 10^{-34} Js$ |\n",
        "| $h_3$ | $6.526886684160001\\dot\\ 10^{-34}$ Js |\n",
        "| Desviación $h_3$ con $h_{2019}$|$9.91833158399996^{-36}$ Js|\n",
        "| $b_3$|$-2.823086633856809$|\n",
        "| $\\varnothing_3$|$4.522584787438608\\dot\\ 10^{-19} J$|\n",
        ".\n",
        "\n",
        "|COPPER| |\n",
        "| -- | -- |\n",
        "| $m_4$ | $1.187389558\\dot\\ 10^{-6} $ |\n",
        "| $\\hbar_4$ | $1.0091450597975553\\dot\\ 10^{-34} Js$ |\n",
        "| $h_4$ | $6.34066023972\\dot\\ 10^{-34}$ Js |\n",
        "| Desviación $h_4$ con $h_{2019}$|$2.854097602800005^{-35}$ Js|\n",
        "| $b_4$|$4.454082997166666$|\n",
        "| $\\varnothing_4$|$7.135440961460999\\dot\\ 10^{-19} J$|\n",
        "\n"
      ],
      "metadata": {
        "nteract": {
          "transient": {
            "deleting": false
          }
        }
      }
    },
    {
      "cell_type": "code",
      "source": [
        "//intregrar Plotly\n",
        "function Plotly(data, layout, $$) {\n",
        "    $$ = $$ || global.$$;\n",
        "    $$.mime({ \"application/vnd.plotly.v1+json\": { data: data, layout: layout } });\n",
        "}"
      ],
      "outputs": [],
      "execution_count": 10,
      "metadata": {
        "collapsed": true,
        "jupyter": {
          "source_hidden": false,
          "outputs_hidden": false
        },
        "nteract": {
          "transient": {
            "deleting": false
          }
        },
        "execution": {
          "iopub.status.busy": "2020-11-29T23:06:16.926Z",
          "iopub.execute_input": "2020-11-29T23:06:16.930Z",
          "iopub.status.idle": "2020-11-29T23:06:16.934Z",
          "shell.execute_reply": "2020-11-29T23:06:16.765Z"
        }
      }
    },
    {
      "cell_type": "code",
      "source": [
        "//cálculo valores de m y b\n",
        "voltajes_de_frenado_calculados1 = inversa_de_longitudes_de_onda1.map(inversa_lambda => inversa_lambda * m1 + b1);\n",
        "voltajes_de_frenado_calculados2 = inversa_de_longitudes_de_onda2.map(inversa_lambda => inversa_lambda * m2 + b2);\n",
        "voltajes_de_frenado_calculados3 = inversa_de_longitudes_de_onda3.map(inversa_lambda => inversa_lambda * m3 + b3);\n",
        "voltajes_de_frenado_calculados4 = inversa_de_longitudes_de_onda4.map(inversa_lambda => inversa_lambda * m4 + b4);"
      ],
      "outputs": [
        {
          "output_type": "execute_result",
          "execution_count": 11,
          "data": {
            "text/plain": "[\n  7.419812582833335,\n  3.4618473895,\n  1.4828647928333343,\n  0.2954752348333338\n]"
          },
          "metadata": {}
        }
      ],
      "execution_count": 11,
      "metadata": {
        "collapsed": true,
        "jupyter": {
          "source_hidden": false,
          "outputs_hidden": false
        },
        "nteract": {
          "transient": {
            "deleting": false
          }
        },
        "execution": {
          "iopub.status.busy": "2020-11-29T23:06:16.940Z",
          "iopub.execute_input": "2020-11-29T23:06:16.943Z",
          "iopub.status.idle": "2020-11-29T23:06:16.949Z",
          "shell.execute_reply": "2020-11-29T23:06:16.769Z"
        }
      }
    },
    {
      "cell_type": "code",
      "source": [
        "var datos = [\n",
        "  { x: inversa_de_longitudes_de_onda1, \n",
        "    y: voltajes_medidos1, name: 'Datos experimentales SODIUM', mode: 'markers', \n",
        "        marker: {\n",
        "                color: 'rgb(204, 204, 0)',\n",
        "                size: 8\n",
        "                }\n",
        "   },\n",
        "  { x: inversa_de_longitudes_de_onda1, \n",
        "    y: voltajes_de_frenado_calculados1, name: 'Regresión lineal tras ajuste SODIUM', \n",
        "        marker: {\n",
        "                color: 'rgb(17, 157, 255, 0.5)',\n",
        "                size: 4\n",
        "                } \n",
        "    },\n",
        "  { x: inversa_de_longitudes_de_onda2, \n",
        "    y: voltajes_medidos2, name: 'Datos experimentales ZINC' , mode: 'markers', \n",
        "        marker: {\n",
        "                color: 'rgb(255, 0, 0)',\n",
        "                size: 8\n",
        "                }\n",
        "   },\n",
        "  { x: inversa_de_longitudes_de_onda2, \n",
        "    y: voltajes_de_frenado_calculados2, name: 'Regresión lineal tras ajuste ZINC', \n",
        "        marker: {\n",
        "                color: 'rgb(0, 153, 0, 0.5)',\n",
        "                size: 4\n",
        "                }    \n",
        "  },\n",
        "  { x: inversa_de_longitudes_de_onda3, \n",
        "    y: voltajes_medidos3, name: 'Datos experimentales CALCIUM' , mode: 'markers', \n",
        "        marker: {\n",
        "                color: 'rgb(0, 0, 255)',\n",
        "                size: 8\n",
        "                }\n",
        "   },\n",
        "  { x: inversa_de_longitudes_de_onda3, \n",
        "    y: voltajes_de_frenado_calculados3, name: 'Regresión lineal tras ajuste CALCIUM', \n",
        "        marker: {\n",
        "                color: 'rgb(255, 153, 255, 0.5)',\n",
        "                size: 4\n",
        "                }    \n",
        "  },\n",
        "  { x: inversa_de_longitudes_de_onda4, \n",
        "    y: voltajes_medidos4, name: 'Datos experimentales COPPER' , mode: 'markers', \n",
        "        marker: {\n",
        "                color: 'rgb(204, 0, 0)',\n",
        "                size: 8\n",
        "                }\n",
        "   },\n",
        "  { x: inversa_de_longitudes_de_onda4, \n",
        "    y: voltajes_de_frenado_calculados4, name: 'Regresión lineal tras ajuste COPPER', \n",
        "        marker: {\n",
        "                color: 'rgb(204, 229, 255, 0.5)',\n",
        "                size: 4\n",
        "                }    \n",
        "  }\n",
        "  \n",
        "];\n",
        "var layout = {\n",
        "  title: 'Regresión Lineal Efecto Fotoelectrico, voltaje en función de la inversa de la longitud de onda',\n",
        "  xaxis: { title: '1/λ Inversa de la Longitud de onda (metros<sup>-1</sup>)',\n",
        "    titlefont: { family: 'Courier New, monospace', size: 18, color: '#7f7f7f' }\n",
        "   \n",
        "        },\n",
        "  yaxis: {\n",
        "    title: 'Potencial de frenado (v)',\n",
        "     titlefont: {family: 'Courier New, monospace', size: 18, color: '#7f7f7f' }\n",
        "    \n",
        "  }\n",
        "};\n",
        "\n",
        "\n",
        "Plotly(datos, layout);\n"
      ],
      "outputs": [
        {
          "output_type": "execute_result",
          "execution_count": 12,
          "data": {
            "application/vnd.plotly.v1+json": {
              "data": [
                {
                  "x": [
                    3333333.333333333,
                    2500000,
                    2352941.1764705884,
                    2222222.222222222
                  ],
                  "y": [
                    1.82,
                    0.76,
                    0.57,
                    0.39
                  ],
                  "name": "Datos experimentales SODIUM",
                  "mode": "markers",
                  "marker": {
                    "color": "rgb(204, 204, 0)",
                    "size": 8
                  }
                },
                {
                  "x": [
                    3333333.333333333,
                    2500000,
                    2352941.1764705884,
                    2222222.222222222
                  ],
                  "y": [
                    1.82197175620915,
                    0.754138022875817,
                    0.5656967758169937,
                    0.3981934450980389
                  ],
                  "name": "Regresión lineal tras ajuste SODIUM",
                  "marker": {
                    "color": "rgb(17, 157, 255, 0.5)",
                    "size": 4
                  }
                },
                {
                  "x": [
                    6666666.666666666,
                    5000000,
                    3999999.9999999995,
                    3703703.7037037034
                  ],
                  "y": [
                    4,
                    1.89,
                    0.62,
                    0.19
                  ],
                  "name": "Datos experimentales ZINC",
                  "mode": "markers",
                  "marker": {
                    "color": "rgb(255, 0, 0)",
                    "size": 8
                  }
                },
                {
                  "x": [
                    6666666.666666666,
                    5000000,
                    3999999.9999999995,
                    3703703.7037037034
                  ],
                  "y": [
                    4.008253024351851,
                    1.876346707685185,
                    0.5972029176851841,
                    0.21819735027777742
                  ],
                  "name": "Regresión lineal tras ajuste ZINC",
                  "marker": {
                    "color": "rgb(0, 153, 0, 0.5)",
                    "size": 4
                  }
                },
                {
                  "x": [
                    9090909.09090909,
                    8333333.333333332,
                    7692307.692307692,
                    3333333.333333333
                  ],
                  "y": [
                    8,
                    7.5,
                    6.8,
                    1.2
                  ],
                  "name": "Datos experimentales CALCIUM",
                  "mode": "markers",
                  "marker": {
                    "color": "rgb(0, 0, 255)",
                    "size": 8
                  }
                },
                {
                  "x": [
                    9090909.09090909,
                    8333333.333333332,
                    7692307.692307692,
                    3333333.333333333
                  ],
                  "y": [
                    8.285144072118298,
                    7.362261216815266,
                    6.581360339251166,
                    1.271234371815269
                  ],
                  "name": "Regresión lineal tras ajuste CALCIUM",
                  "marker": {
                    "color": "rgb(255, 153, 255, 0.5)",
                    "size": 4
                  }
                },
                {
                  "x": [
                    10000000,
                    6666666.666666666,
                    5000000,
                    3999999.9999999995
                  ],
                  "y": [
                    7.4,
                    3.5,
                    1.5,
                    0.26
                  ],
                  "name": "Datos experimentales COPPER",
                  "mode": "markers",
                  "marker": {
                    "color": "rgb(204, 0, 0)",
                    "size": 8
                  }
                },
                {
                  "x": [
                    10000000,
                    6666666.666666666,
                    5000000,
                    3999999.9999999995
                  ],
                  "y": [
                    7.419812582833335,
                    3.4618473895,
                    1.4828647928333343,
                    0.2954752348333338
                  ],
                  "name": "Regresión lineal tras ajuste COPPER",
                  "marker": {
                    "color": "rgb(204, 229, 255, 0.5)",
                    "size": 4
                  }
                }
              ],
              "layout": {
                "title": "Regresión Lineal Efecto Fotoelectrico, voltaje en función de la inversa de la longitud de onda",
                "xaxis": {
                  "title": "1/λ Inversa de la Longitud de onda (metros<sup>-1</sup>)",
                  "titlefont": {
                    "family": "Courier New, monospace",
                    "size": 18,
                    "color": "#7f7f7f"
                  }
                },
                "yaxis": {
                  "title": "Potencial de frenado (v)",
                  "titlefont": {
                    "family": "Courier New, monospace",
                    "size": 18,
                    "color": "#7f7f7f"
                  }
                }
              }
            }
          },
          "metadata": {}
        }
      ],
      "execution_count": 12,
      "metadata": {
        "collapsed": true,
        "jupyter": {
          "source_hidden": false,
          "outputs_hidden": false
        },
        "nteract": {
          "transient": {
            "deleting": false
          }
        },
        "execution": {
          "iopub.status.busy": "2020-11-29T23:06:16.954Z",
          "iopub.execute_input": "2020-11-29T23:06:16.958Z",
          "iopub.status.idle": "2020-11-29T23:06:17.006Z",
          "shell.execute_reply": "2020-11-29T23:06:16.776Z"
        }
      }
    },
    {
      "cell_type": "markdown",
      "source": [
        "### 1.8 Resumen del efecto fotoeléctrico:\n",
        "***\n",
        "La explicación del efecto fotoeléctrico fue el trabajo principal citado cuando se le concedió el premio Nobel de Física en 1921 a Albert Einstein. La explicación de Einstein, propuesta en 1905, desempeñó un papel importante en el desarrollo de la física atómica. Basó su teoría en una hipótesis muy atrevida, ya que pocos de los detalles experimentales se conocían en 1905. Además, el punto clave de la explicación de Einstein contradecía las ideas clásicas de la época.\n",
        "\n",
        "Einstein asumió que la energía de la luz no estaba distribuida uniformemente en todo el frente de onda en expansión (como suponía la teoría clásica). En cambio, la energía de la luz se concentraría en «paquetes» separados. Además, la cantidad de energía en cada una de estas regiones no sería una cantidad cualquiera, sino una cantidad definida de energía que es proporcional a la frecuencia f de la onda luminosa. El factor de proporcionalidad sería una constante (símbolo $h$); se llama constante de Planck.\n",
        "\n",
        "Por lo tanto, en el modelo que propone Einstein, la energía luminosa en un haz de frecuencia viene en paquetes, cada uno con una energía $E = hf$, donde $h = 6,626\\dot\\ 10^{-34} Js$. La cantidad de energía radiante de cada paquete se llama cuanto de luz o cuanto de energía luminosa. Como \"cuanto de energía luminosa\" es muy largo, más tarde se le daría un nombre, fotón."
      ],
      "metadata": {
        "nteract": {
          "transient": {
            "deleting": false
          }
        }
      }
    },
    {
      "cell_type": "markdown",
      "source": [
        "### 1.9 Ejercico Premium\n",
        "Modificación del control de intensidad de la luz (el que va entre 0 y el 100%) para una longitud de onda de 100 nm, del metal SODIUM\n",
        "\n",
        "|Porcentajes %|Resultados eV|\n",
        "|--|--|\n",
        "|7|0.062|\n",
        "|15|0.131|\n",
        "|41|0.358|\n",
        "|45|0.394|\n",
        "|52|0.462|\n",
        "|60|0.531|\n",
        "|66|0.586|\n",
        "|75|0.662|\n",
        "|87|0.766|\n",
        "|91|0.806|\n",
        "|100|0.882|"
      ],
      "metadata": {
        "nteract": {
          "transient": {
            "deleting": false
          }
        }
      }
    },
    {
      "cell_type": "code",
      "source": [
        "var porcentaje_intensidad_luz = [7, 15, 41, 45, 52, 60, 66, 75, 87, 91, 100];\n",
        "var energia_electron = [0.062, 0.131, 0.358, 0.394, 0.462, 0.531, 0.586, 0.662, 0.766, 0.806, 0.882];"
      ],
      "outputs": [],
      "execution_count": 13,
      "metadata": {
        "collapsed": true,
        "jupyter": {
          "source_hidden": false,
          "outputs_hidden": false
        },
        "nteract": {
          "transient": {
            "deleting": false
          }
        },
        "execution": {
          "shell.execute_reply": "2020-11-29T23:06:16.781Z",
          "iopub.status.busy": "2020-11-29T23:06:17.012Z",
          "iopub.execute_input": "2020-11-29T23:06:17.015Z",
          "iopub.status.idle": "2020-11-29T23:06:17.020Z"
        }
      }
    },
    {
      "cell_type": "code",
      "source": [
        "var datos = [\n",
        "  { x: porcentaje_intensidad_luz, \n",
        "    y: energia_electron, \n",
        "    name: 'Datos Experimentales-SODIUM-',\n",
        "   },\n",
        "              \n",
        "];\n",
        "var layout = {\n",
        "  title: ' Intensidad de la corriente en función de la frecuencia de la luz (100nm)',\n",
        "  xaxis: { \n",
        "      title: 'Porcentaje Intensidad de la luz (%)',\n",
        "    titlefont: { family: 'Courier New, monospace', size: 18, color: '#7f7f7f' }\n",
        "    },\n",
        "  yaxis: {\n",
        "    title: 'Corriente(eV)',\n",
        "     titlefont: {family: 'Courier New, monospace', size: 18, color: '#7f7f7f' }\n",
        "    \n",
        "  }\n",
        "};\n",
        "Plotly(datos, layout);"
      ],
      "outputs": [
        {
          "output_type": "execute_result",
          "execution_count": 14,
          "data": {
            "application/vnd.plotly.v1+json": {
              "data": [
                {
                  "x": [
                    7,
                    15,
                    41,
                    45,
                    52,
                    60,
                    66,
                    75,
                    87,
                    91,
                    100
                  ],
                  "y": [
                    0.062,
                    0.131,
                    0.358,
                    0.394,
                    0.462,
                    0.531,
                    0.586,
                    0.662,
                    0.766,
                    0.806,
                    0.882
                  ],
                  "name": "Datos Experimentales-SODIUM-"
                }
              ],
              "layout": {
                "title": " Intensidad de la corriente en función de la frecuencia de la luz (100nm)",
                "xaxis": {
                  "title": "Porcentaje Intensidad de la luz (%)",
                  "titlefont": {
                    "family": "Courier New, monospace",
                    "size": 18,
                    "color": "#7f7f7f"
                  }
                },
                "yaxis": {
                  "title": "Corriente(eV)",
                  "titlefont": {
                    "family": "Courier New, monospace",
                    "size": 18,
                    "color": "#7f7f7f"
                  }
                }
              }
            }
          },
          "metadata": {}
        }
      ],
      "execution_count": 14,
      "metadata": {
        "collapsed": true,
        "jupyter": {
          "source_hidden": false,
          "outputs_hidden": false
        },
        "nteract": {
          "transient": {
            "deleting": false
          }
        },
        "execution": {
          "shell.execute_reply": "2020-11-29T23:06:16.786Z",
          "iopub.status.busy": "2020-11-29T23:06:17.025Z",
          "iopub.execute_input": "2020-11-29T23:06:17.029Z",
          "iopub.status.idle": "2020-11-29T23:06:17.059Z"
        }
      }
    },
    {
      "cell_type": "markdown",
      "source": [
        "### ¿Qué le ocurre a la corriente que se mide en el amperímetro?\n",
        "\n",
        "La corriente va aumentando según vamos incrementando el porcentaje de intensidad de la luz, al incrementar este porcentaje, observamos que se van generando mayor número de electrones.\n",
        "\n",
        "### ¿Que relación ser observa?\n",
        "\n",
        "A mayor porcentaje de intensidad de la luz mayor número de electrones, con lo que se obtiene una mayor energía."
      ],
      "metadata": {
        "nteract": {
          "transient": {
            "deleting": false
          }
        }
      }
    },
    {
      "cell_type": "code",
      "source": [],
      "outputs": [],
      "execution_count": null,
      "metadata": {
        "collapsed": true,
        "jupyter": {
          "source_hidden": false,
          "outputs_hidden": false
        },
        "nteract": {
          "transient": {
            "deleting": false
          }
        }
      }
    },
    {
      "cell_type": "code",
      "source": [],
      "outputs": [],
      "execution_count": null,
      "metadata": {
        "collapsed": true,
        "jupyter": {
          "source_hidden": false,
          "outputs_hidden": false
        },
        "nteract": {
          "transient": {
            "deleting": false
          }
        }
      }
    },
    {
      "cell_type": "code",
      "source": [],
      "outputs": [],
      "execution_count": null,
      "metadata": {
        "collapsed": true,
        "jupyter": {
          "source_hidden": false,
          "outputs_hidden": false
        },
        "nteract": {
          "transient": {
            "deleting": false
          }
        }
      }
    },
    {
      "cell_type": "code",
      "source": [
      "var Plot = require('plotly-notebook-js');\n",
      "var myPlot = Plot.createPlot([{ x: [1,2,3], y: [3,4,5] }], { title: 'Plotly in Tonicdev!' });\n,
      "
myPlot.render();
      ],
      "outputs": [],
      "execution_count": null,
      "metadata": {
        "collapsed": true,
        "jupyter": {
          "source_hidden": false,
          "outputs_hidden": false
        },
        "nteract": {
          "transient": {
            "deleting": false
          }
        }
      }
    }"
  ],
  "metadata": {
    "kernel_info": {
      "name": "node_nteract"
    },
    "language_info": {
      "name": "javascript",
      "version": "12.8.1",
      "mimetype": "application/javascript",
      "file_extension": ".js"
    },
    "kernelspec": {
      "argv": [
        "/Applications/nteract.app/Contents/MacOS/nteract",
        "/Applications/nteract.app/Contents/Resources/app.asar/node_modules/ijavascript/lib/kernel.js",
        "{connection_file}",
        "--protocol=5.0",
        "--hide-undefined"
      ],
      "display_name": "Node.js (nteract)",
      "env": {
        "ELECTRON_RUN_AS_NODE": "1",
        "NODE_PATH": "/Applications/nteract.app/Contents/Resources/app.asar/node_modules"
      },
      "language": "javascript",
      "name": "node_nteract"
    },
    "gist_id": "c2a89b301b31809291b8b97429e209e4",
    "nteract": {
      "version": "0.26.0"
    }
  },
  "nbformat": 4,
  "nbformat_minor": 0
}
