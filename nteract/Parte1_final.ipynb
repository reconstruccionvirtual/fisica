{
  "cells": [
    {
      "cell_type": "markdown",
      "source": [
        "# Caso grupal: \n",
        "# Boletín grupal sobre el efecto fotoeléctrico\n",
        "![some-id](https://image.jimcdn.com/app/cms/image/transf/dimension=590x10000:format=jpg/path/sc10897969bb6a5f1/image/i782f22d425d09673/version/1390083075/image.jpg)\n",
        "\n",
        "---\n",
        "## Grupo 10\n",
        "1. Campos Velasco, Luis Enrique\n",
        "2. Lasanta Ajona, David\n",
        "3. Oseni Triado\n",
        "4. Zafra Jurado, Oscar\n",
        "---"
      ],
      "metadata": {
        "nteract": {
          "transient": {
            "deleting": false
          }
        }
      }
    },
    {
      "cell_type": "markdown",
      "source": [
        "# 1.- Ejercicio sobre el efecto fotoeléctrico\n",
        "---\n",
        "\n",
        "### Índice del ejercicio\n",
        "[El electronvoltio](#El-electronvoltio)\n",
        "\n",
        "\n"
      ],
      "metadata": {
        "nteract": {
          "transient": {
            "deleting": false
          }
        }
      }
    },
    {
      "cell_type": "markdown",
      "source": [
        "## El electronvoltio.\n",
        "### Comprobación de $eV$ tiene unidades de energía:\n",
        "***\n",
        "$1eV$, es la energía cinética adquirida por un solo electrón cuando se mueve a traves de un potencial eléctrico de $1V$.\n",
        "\n",
        "Como la carga elemental del electrón en módulo es $e = 1,602·10^{–19} C$ y la variación de energía potencial es la carga por la diferencia de potencial, $1 eV = 1,602·10^{–19} J$.\n",
        "\n",
        "Dado que el $julio (J)$ es la unidad derivada del Sistema Internacional utilizada para medir **energía**, trabajo y calor, se puede comprobar que $eV$ se puede expresar con unidades de energia.\n",
        "\n",
        "[Back to top](#)"
      ],
      "metadata": {
        "nteract": {
          "transient": {
            "deleting": false
          }
        }
      }
    }
  ],
  "metadata": {
    "kernel_info": {
      "name": "node_nteract"
    },
    "language_info": {
      "name": "javascript",
      "version": "12.8.1",
      "mimetype": "application/javascript",
      "file_extension": ".js"
    },
    "kernelspec": {
      "argv": [
        "/Applications/nteract.app/Contents/MacOS/nteract",
        "/Applications/nteract.app/Contents/Resources/app.asar/node_modules/ijavascript/lib/kernel.js",
        "{connection_file}",
        "--protocol=5.0",
        "--hide-undefined"
      ],
      "display_name": "Node.js (nteract)",
      "env": {
        "ELECTRON_RUN_AS_NODE": "1",
        "NODE_PATH": "/Applications/nteract.app/Contents/Resources/app.asar/node_modules"
      },
      "language": "javascript",
      "name": "node_nteract"
    },
    "gist_id": "c2a89b301b31809291b8b97429e209e4",
    "nteract": {
      "version": "0.26.0"
    }
  },
  "nbformat": 4,
  "nbformat_minor": 0
}