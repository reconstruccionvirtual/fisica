{
  "cells": [
    {
      "cell_type": "code",
      "source": [
        "var longitudes_de_onda_medidas = [300,330,350,400,430,450,480,500,530].map(x => x*1e-9);  // para pasar a metros\n",
        "var voltajes_medidos = [-1.85, -1.45, -1.25, -0.8, -0.6, -0.5, -0.3, -0.2, -0.05];  // en voltios (voltaje de frenado)\n",
        "inversa_de_longitudes_de_onda = longitudes_de_onda_medidas.map(lambda => 1/lambda );  \n",
        "var datos_a_ajustar = voltajes_medidos.reduce((tuplas_longitud_onda_voltaje, b, i) => {\n",
        "    tuplas_longitud_onda_voltaje.push([inversa_de_longitudes_de_onda[i], b]);\n",
        "  return tuplas_longitud_onda_voltaje;\n",
        "}, []);\n",
        "console.log(datos_a_ajustar); // Verás que son tuplas de valores 1/lambda y voltajes\n",
        "var regression = require('./regression.js');\n",
        "var result = regression.linear(datos_a_ajustar, { precision: 15 });\n",
        "var m = result.equation[0];  // pendiente\n",
        "var b = result.equation[1];  // ordenada en origen\n",
        "console.log('la pendiente es = ' + m + ' y la ordenada es = ' + b);\n",
        "function Plotly(data, layout, $$) {\n",
        "    $$ = $$ || global.$$;\n",
        "    $$.mime({ \"application/vnd.plotly.v1+json\": { data: data, layout: layout } });\n",
        "}\n",
        "voltajes_de_frenado_calculados = inversa_de_longitudes_de_onda.map(inversa_lambda => inversa_lambda * m + b);\n",
        "datos = [\n",
        "  { x: inversa_de_longitudes_de_onda, y: voltajes_medidos, name: 'Datos experimentales' }, \n",
        "  { x: inversa_de_longitudes_de_onda, y: voltajes_de_frenado_calculados, name: 'Datos calculados tras ajuste' }\n",
        "];\n",
        "var layout = {\n",
        "  title: 'Plot de ejemplo',\n",
        "  xaxis: { title: 'x Axis',\n",
        "    titlefont: { family: 'Courier New, monospace', size: 18, color: '#7f7f7f' }\n",
        "  },\n",
        "  yaxis: {\n",
        "    title: 'y Axis', titlefont: {\n",
        "      family: 'Courier New, monospace', size: 18, color: '#7f7f7f' }\n",
        "  }\n",
        "};\n",
        "Plotly(datos, layout);\n"
      ],
      "outputs": [
        {
          "output_type": "stream",
          "name": "stdout",
          "text": [
            "[\n",
            "  [ 3333333.333333333, -1.85 ],\n",
            "  [ 3030303.0303030303, -1.45 ],\n",
            "  [ 2857142.857142857, -1.25 ],\n",
            "  [ 2500000, -0.8 ],\n",
            "  [ 2325581.395348837, -0.6 ],\n",
            "  [ 2222222.222222222, -0.5 ],\n",
            "  [ 2083333.333333333, -0.3 ],\n",
            "  [ 1999999.9999999998, -0.2 ],\n",
            "  [ 1886792.4528301887, -0.05 ]\n",
            "]\n",
            "la pendiente es = -0.000001228780747 y la ordenada es = 2.258499666216157\n"
          ]
        },
        {
          "output_type": "execute_result",
          "execution_count": 1,
          "data": {
            "application/vnd.plotly.v1+json": {
              "data": [
                {
                  "x": [
                    3333333.333333333,
                    3030303.0303030303,
                    2857142.857142857,
                    2500000,
                    2325581.395348837,
                    2222222.222222222,
                    2083333.333333333,
                    1999999.9999999998,
                    1886792.4528301887
                  ],
                  "y": [
                    -1.85,
                    -1.45,
                    -1.25,
                    -0.8,
                    -0.6,
                    -0.5,
                    -0.3,
                    -0.2,
                    -0.05
                  ],
                  "name": "Datos experimentales"
                },
                {
                  "x": [
                    3333333.333333333,
                    3030303.0303030303,
                    2857142.857142857,
                    2500000,
                    2325581.395348837,
                    2222222.222222222,
                    2083333.333333333,
                    1999999.9999999998,
                    1886792.4528301887
                  ],
                  "y": [
                    -1.837436157117176,
                    -1.4650783549959638,
                    -1.2523024680695567,
                    -0.8134522012838428,
                    -0.5991299779698891,
                    -0.472124216006065,
                    -0.30146022336717593,
                    -0.19906182778384274,
                    -0.05995457340648436
                  ],
                  "name": "Datos calculados tras ajuste"
                }
              ],
              "layout": {
                "title": "Plot de ejemplo",
                "xaxis": {
                  "title": "x Axis",
                  "titlefont": {
                    "family": "Courier New, monospace",
                    "size": 18,
                    "color": "#7f7f7f"
                  }
                },
                "yaxis": {
                  "title": "y Axis",
                  "titlefont": {
                    "family": "Courier New, monospace",
                    "size": 18,
                    "color": "#7f7f7f"
                  }
                }
              }
            }
          },
          "metadata": {}
        }
      ],
      "execution_count": 1,
      "metadata": {
        "collapsed": false,
        "jupyter": {
          "source_hidden": false,
          "outputs_hidden": false
        },
        "nteract": {
          "transient": {
            "deleting": false
          }
        },
        "execution": {
          "iopub.status.busy": "2020-11-19T22:02:25.301Z",
          "iopub.execute_input": "2020-11-19T22:02:25.308Z",
          "iopub.status.idle": "2020-11-19T22:02:25.377Z",
          "shell.execute_reply": "2020-11-19T22:02:25.277Z"
        }
      }
    }
  ],
  "metadata": {
    "kernel_info": {
      "name": "node_nteract"
    },
    "language_info": {
      "name": "javascript",
      "version": "12.8.1",
      "mimetype": "application/javascript",
      "file_extension": ".js"
    },
    "kernelspec": {
      "argv": [
        "/Applications/nteract.app/Contents/MacOS/nteract",
        "/Applications/nteract.app/Contents/Resources/app.asar/node_modules/ijavascript/lib/kernel.js",
        "{connection_file}",
        "--protocol=5.0",
        "--hide-undefined"
      ],
      "display_name": "Node.js (nteract)",
      "env": {
        "ELECTRON_RUN_AS_NODE": "1",
        "NODE_PATH": "/Applications/nteract.app/Contents/Resources/app.asar/node_modules"
      },
      "language": "javascript",
      "name": "node_nteract"
    },
    "gist_id": "d76fd07a8dc99e9ecab3c0868cc6308e",
    "nteract": {
      "version": "0.26.0"
    }
  },
  "nbformat": 4,
  "nbformat_minor": 0
}