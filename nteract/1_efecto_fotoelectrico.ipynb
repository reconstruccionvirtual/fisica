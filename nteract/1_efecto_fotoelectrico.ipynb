{
  "cells": [
    {
      "cell_type": "markdown",
      "source": [
        "# Ejercicio sobre el efecto fotoeléctrico\r\n",
        "Formulas para ejercicio grupal\r\n"
      ],
      "metadata": {
        "nteract": {
          "transient": {
            "deleting": false
          }
        }
      }
    },
    {
      "cell_type": "markdown",
      "source": [
        "### Comprobación de $eV$ tiene unidades de energía:\n",
        "***\n",
        "$1eV$, es la energía cinética adquirida por un solo electrón cuando se mueve a traves de un potencial eléctrico de $1V$.\n",
        "\n",
        "Como la carga elemental del electrón en módulo es $e = 1,602·10^{–19} C$ y la variación de energía potencial es la carga por la diferencia de potencial, $1 eV = 1,602·10^{–19} J$.\n",
        "\n",
        "Dado que el $julio (J)$ es la unidad derivada del Sistema Internacional utilizada para medir **energía**, trabajo y calor, se puede comprobar que $eV$ se puede expresar con unidades de energia."
      ],
      "metadata": {
        "nteract": {
          "transient": {
            "deleting": false
          }
        }
      }
    },
    {
      "cell_type": "markdown",
      "source": [
        "![](https://economipedia.com/wp-content/uploads/Regresi%C3%B3n-lineal.png)\n",
        "### Ejercicio de calentamiento:\n",
        "Demostrar que la expresión matemática:\n",
        "$$\\frac{x - x_1}{x_2 - x_1} = \\frac{y - y_1}{y_2 - y_1}$$\n",
        "es equivalente a la expresión matemática:\n",
        "$$y = m\\dot\\ x + b$$\n",
        "donde:\n",
        "$$m = \\frac{y_1 - y_2}{x_1 - x_2}$$\n",
        "y \n",
        "$$b = \\frac{x_1\\dot\\ y_2 - x_2\\dot\\ y_1}{x_1 - x_2}$$\n",
        "***\n",
        "### Paso 1. Multiplicamos $m$ por $-1$:\n",
        "$$m = \\frac{y_1 - y_2}{x_1 - x_2} = \\frac{y_2 - y_1}{x_2 - x_1}$$\n",
        "### Paso 2. Despejamos $y$:\n",
        "$$\n",
        "y = (x - x_1)\\dot\\ \\frac{y_2 - y_1}{x_2 - x_1} + y_1  \n",
        "$$\n",
        "### Paso 3. Aplicamos la igualdad de $m$:\n",
        "$$\n",
        "y = (x - x_1)\\dot\\ m + y_1 = m\\dot\\ x - (m\\dot\\ x_1) + y_1\n",
        "$$\n",
        "### Paso 4. Sustituimos la segunda $m$ por su igualdad:\n",
        "$$\n",
        "y = m\\dot\\ x - (\\frac{y_1 - y_2}{x_1 - x_2})\\dot\\ x_1 + y_1 = m\\dot\\ x -(\\frac {x_1 \\dot\\ y_1 - x_1\\dot\\ y_2}{x_1 - x_2}) + y_1\n",
        "$$\n",
        "### Paso 5. Hacemos factor comun con $y_1$, multiplicandola por una fración que es $=1$:\n",
        "$$\n",
        "y = m\\dot\\ x - (\\frac{y_1 - y_2}{x_1 - x_2})\\dot\\ x_1 + y_1\\dot\\ \\frac{x_1 - x_2}{x_1 - x_2}\n",
        "$$\n",
        "### Paso 6. Resolvemos el factor comun:\n",
        "$$\n",
        "y = m\\dot\\ x + \\frac{-x_1\\dot\\ y_1 + x_1\\dot\\ y_2 + x_1\\dot\\ y_1 - x_2\\dot\\ y_1}{x_1 - x_2} = m\\dot\\ x + \\frac{x_1\\dot\\ y_2 - x_2\\dot\\ y_1}{x_1 - x_2}\n",
        "$$\n",
        "### Paso 7. Dado que la fracción a la derecha del signo $+$ es igual a $b$, obtenemos que:\n",
        "$$\n",
        "y = m\\dot\\ x + b\n",
        "$$\n",
        "***\n",
        "## La equivalencia entre ambas expresiones, queda demostrada."
      ],
      "metadata": {
        "nteract": {
          "transient": {
            "deleting": false
          }
        }
      }
    },
    {
      "cell_type": "markdown",
      "source": [
        "### Primer ejercicio\n",
        "Haced una tabla rápida con el nombre de cada color del arcoíris (azul, rojo, amarillo, etc.) en una columna, en una segunda columna escribe su longitud de onda (en metros) y en una tercera columna, su frecuencia (en Hercios). \n",
        "***\n",
        "|Color|Frecuencia $Hz$|Longitud de onda $m$|\n",
        "| -- | -- | -- |\n",
        "|Violeta|$$6,68^{14} - 7,89^{14}$$|$$3,8^{-7} - 4,5^{-7}$$|\n",
        "|Azul Oscuro|$$6,31^{14} - 6,68^{14}$$|$$4,5^{-7} - 4,75^{-7}$$|\n",
        "|Azul Claro|$$6,06^{14} - 6,3^{14}$$|$$7,75^{-7} - 4,95^{-7}$$|\n",
        "|Verde|$$5,62^{14} - 6,06^{14}$$|$$4,95^{-7} - 5,7^{-7}$$|\n",
        "|Amarillo|$$5,08^{14} - 5,26^{14}$$|$$5,7^{-7} - 5,9^{-7}$$|\n",
        "|Naranja|$$4,84^{14} - 5,08^{14}$$|$$5,9^{-7} - 6,2^{-7}$$|\n",
        "|Rojo|$$4^{14} - 4,84^{14}$$|$$6,2 - 7,5^{-7}$$|\n",
        "\n"
      ],
      "metadata": {
        "nteract": {
          "transient": {
            "deleting": false
          }
        }
      }
    },
    {
      "cell_type": "markdown",
      "source": [
        "#### ¿Cuál es la relación matemática entre longitud de onda y frecuencia de una onda electromagnética?\n",
        "A mayor frecuencia, menor es la longitud de onda y cuando la frecuencia es menor, mayor es la longitud de onda. La velocidad de propagación de una onda, se puede medir como el tiempo que transcurre desde que es emitida hasta que se recibe.\n",
        "Todas las ondas electromagnéticas se propagan en el vacío  a una velocidad constante de __300.000.000 m/s__, la velocidad de la luz. Debido a la poca diferencia que existe entre la velocidad de propagación en el vacío y en el aire, se considera que en el aire también se propagan a una velocidad de __300.000.000 m/s__.\n",
        "Si conocemos la velocidad de transmisión de una onda $\\lambda$ y su frecuencia ___f___, podemos calcular la longitud de onda $\\lambda$ a partir de la siguiente relación:\n",
        "$$\n",
        "\\lambda = \\frac {velocidad (m/s)}{frecuencia (Hz)}\n",
        "$$\n"
      ],
      "metadata": {
        "nteract": {
          "transient": {
            "deleting": false
          }
        }
      }
    },
    {
      "cell_type": "markdown",
      "source": [
        "#### ¿Para qué sirve UNPKG y porqué es uno de los servicios más usados de Internet (junto con jspm, ESM, cdnjs, jsdelivr, …)?\n",
        "\n",
        "$UNPKG$ es una red rápida de distribución global de contenidos para cualquier $npm$. Se puede cargar rápidamente cualquier archivo de desde cualquier $pakage$ usando su $URL$ con este formato: $unpkg.com/:package@:version/:file$\n",
        "Es uno de los servicios mas usados de interner, por su usabilidad simple y potencia de servicio.\n",
        "\n",
        "#### ¿Qué son los CDN?\n",
        "\n",
        "Un CDN (Content Delivery Network) es un grupo de servidores instalados en diferentes ubicaciones para brindar contenido web en un área geográfica amplia.\n",
        "\n",
        "También se denominan «redes de distribución» y la idea detrás de ellas es ofrecer varios puntos de presencia (PoPs; Points of Prescence) fuera del servidor de origen. Esto permite que los sitios web administren mejor el tráfico al procesar las solicitudes de los usuarios más rápido, resultando en una experiencia general más satisfactoria.\n",
        "\n"
      ],
      "metadata": {
        "nteract": {
          "transient": {
            "deleting": false
          }
        }
      }
    },
    {
      "cell_type": "markdown",
      "source": [
        "#### Tablas de mediciones\n",
        "Mediciones con 4 metales y para cada uno, parejas de valores $[\\lambda, V]$ (4 como mínimo: $[\\lambda_1 , V_1]$, $[\\lambda_2, V_2]$, $[\\lambda_3 , V_3]$, $[\\lambda_4 , V_4]$, …).\n",
        "##### Metal 1: SODIUM\n",
        "|Color|Longitud de onda $nm$|Potencial de frenado $V$|\n",
        "| -- | -- | -- |\n",
        "|UV|300|-1,95|\n",
        "|UV|330|-1,65|\n",
        "|UV|350|-1,25|\n",
        "|VIOLETA|400|-0,80|\n",
        "|VIOLETA|430|-0,60|\n",
        "|AZUL|450|-0,50|\n",
        "|AZUL|480|-0,30|\n",
        "|VERDE|500|-0,20|\n",
        "\n",
        "##### Metal 2: ZINC\n",
        "|Color|Longitud de onda $nm$|Potencial de frenado $V$|\n",
        "| -- | -- | -- |\n",
        "| UV | 100 | -8,00 |\n",
        "| UV | 150 | -4,00 |\n",
        "| UV | 200 | -2,00 |\n",
        "| UV | 250 | -0,70 |\n",
        "\n",
        "##### Metal 3: CALCIUM\n",
        "|Color|Longitud de onda $nm$|Potencial de frenado $V$|\n",
        "| -- | -- | -- |\n",
        "| UV | 110 | -8,00 |\n",
        "| UV | 120 | -7,50 |\n",
        "| UV | 130 | -6,80 |\n",
        "| UV | 300 | -1,20 |\n",
        "| UV | 350 | -0,65 |\n",
        "\n",
        "##### Metal 4: COPPER\n",
        "|Color|Longitud de onda $nm$|Potencial de frenado $V$|\n",
        "| -- | -- | -- |\n",
        "| UV | 100 | -7,40 |\n",
        "| UV | 150 | -3,50 |\n",
        "| UV | 200 | -1,50 |\n",
        "| UV | 250 | -0,26 |\n"
      ],
      "metadata": {
        "nteract": {
          "transient": {
            "deleting": false
          }
        }
      }
    },
    {
      "cell_type": "code",
      "source": [
        "//Array con los valores obtenidos en la medición(SODIUM)\n",
        "var longitudes_de_onda_medidas1 = [300, 400,425,450].map(x => x*1e-9);  // para pasar a metros\n",
        "var voltajes_medidos1 = [-1.82, -0.76, -0.57, -0.39];  // en voltios (voltaje de frenado)\n",
        "var longitudes_de_onda_medidas2 = [150,200,250, 270].map(x => x*1e-9);  // para pasar a metros\n",
        "var voltajes_medidos2 = [-4,-1.89,-0.62,-0.19];  // en voltios (voltaje de frenado)\n",
        "var longitudes_de_onda_medidas3 = [110,120,130,300,350].map(x => x*1e-9);  // para pasar a metros\n",
        "var voltajes_medidos3 = [-8,-7.5,-6.8,-1.2,-0.65];  // en voltios (voltaje de frenado)\n",
        "var longitudes_de_onda_medidas4 = [100,150,200,250].map(x => x*1e-9);  // para pasar a metros\n",
        "var voltajes_medidos4 = [-7.4,-3.5,-1.5,-0.26];  // en voltios (voltaje de frenado)\n",
        "\n",
        "console.log(longitudes_de_onda_medidas1);\n",
        "console.log(longitudes_de_onda_medidas2);\n"
      ],
      "outputs": [
        {
          "output_type": "stream",
          "name": "stdout",
          "text": [
            "[\n",
            "  3.0000000000000004e-7,\n",
            "  4.0000000000000003e-7,\n",
            "  4.25e-7,\n",
            "  4.5000000000000003e-7\n",
            "]\n",
            "[\n",
            "  1.5000000000000002e-7,\n",
            "  2.0000000000000002e-7,\n",
            "  2.5000000000000004e-7,\n",
            "  2.7e-7\n",
            "]\n"
          ]
        }
      ],
      "execution_count": 228,
      "metadata": {
        "collapsed": true,
        "jupyter": {
          "source_hidden": false,
          "outputs_hidden": false
        },
        "nteract": {
          "transient": {
            "deleting": false
          }
        },
        "execution": {
          "iopub.status.busy": "2020-11-28T20:06:32.566Z",
          "iopub.execute_input": "2020-11-28T20:06:32.587Z",
          "iopub.status.idle": "2020-11-28T20:06:32.609Z",
          "shell.execute_reply": "2020-11-28T20:06:32.364Z"
        }
      }
    },
    {
      "cell_type": "code",
      "source": [
        "//Ajuste a una recta\n",
        "inversa_de_longitudes_de_onda1 = longitudes_de_onda_medidas1.map(lambda => 1/lambda );\n",
        "inversa_de_longitudes_de_onda2 = longitudes_de_onda_medidas2.map(lambda => 1/lambda );\n",
        "inversa_de_longitudes_de_onda3 = longitudes_de_onda_medidas3.map(lambda => 1/lambda );\n",
        "inversa_de_longitudes_de_onda4 = longitudes_de_onda_medidas4.map(lambda => 1/lambda );\n",
        "\n",
        "var datos_a_ajustar1 = voltajes_medidos1.reduce((tuplas_longitud_onda_voltaje1, b, i) => {\n",
        "    tuplas_longitud_onda_voltaje1.push([inversa_de_longitudes_de_onda1[i], b]);\n",
        "  return tuplas_longitud_onda_voltaje1;\n",
        "}, []);\n",
        "var datos_a_ajustar2 = voltajes_medidos2.reduce((tuplas_longitud_onda_voltaje2, b, i) => {\n",
        "    tuplas_longitud_onda_voltaje2.push([inversa_de_longitudes_de_onda2[i], b]);\n",
        "  return tuplas_longitud_onda_voltaje2;\n",
        "}, []);\n",
        "var datos_a_ajustar3 = voltajes_medidos3.reduce((tuplas_longitud_onda_voltaje3, b, i) => {\n",
        "    tuplas_longitud_onda_voltaje3.push([inversa_de_longitudes_de_onda3[i], b]);\n",
        "  return tuplas_longitud_onda_voltaje3;\n",
        "}, []);\n",
        "var datos_a_ajustar4 = voltajes_medidos4.reduce((tuplas_longitud_onda_voltaje4, b, i) => {\n",
        "    tuplas_longitud_onda_voltaje4.push([inversa_de_longitudes_de_onda4[i], b]);\n",
        "  return tuplas_longitud_onda_voltaje4;\n",
        "}, []);\n",
        "console.log(datos_a_ajustar1); // Verás que son tuplas de valores 1/lambda (longitud de onda) y voltajes\n",
        "console.log(datos_a_ajustar2); // Verás que son tuplas de valores 1/lambda (longitud de onda) y voltajes\n",
        "console.log(datos_a_ajustar3); // Verás que son tuplas de valores 1/lambda (longitud de onda) y voltajes\n",
        "console.log(datos_a_ajustar4); // Verás que son tuplas de valores 1/lambda (longitud de onda) y voltajes"
      ],
      "outputs": [
        {
          "output_type": "stream",
          "name": "stdout",
          "text": [
            "[\n",
            "  [ 3333333.333333333, -1.82 ],\n",
            "  [ 2500000, -0.76 ],\n",
            "  [ 2352941.1764705884, -0.57 ],\n",
            "  [ 2222222.222222222, -0.39 ]\n",
            "]\n",
            "[\n",
            "  [ 6666666.666666666, -4 ],\n",
            "  [ 5000000, -1.89 ],\n",
            "  [ 3999999.9999999995, -0.62 ],\n",
            "  [ 3703703.7037037034, -0.19 ]\n",
            "]\n",
            "[\n",
            "  [ 9090909.09090909, -8 ],\n",
            "  [ 8333333.333333332, -7.5 ],\n",
            "  [ 7692307.692307692, -6.8 ],\n",
            "  [ 3333333.333333333, -1.2 ],\n",
            "  [ 2857142.857142857, -0.65 ]\n",
            "]\n",
            "[\n",
            "  [ 10000000, -7.4 ],\n",
            "  [ 6666666.666666666, -3.5 ],\n",
            "  [ 5000000, -1.5 ],\n",
            "  [ 3999999.9999999995, -0.26 ]\n",
            "]\n"
          ]
        }
      ],
      "execution_count": 229,
      "metadata": {
        "collapsed": true,
        "jupyter": {
          "source_hidden": false,
          "outputs_hidden": false
        },
        "nteract": {
          "transient": {
            "deleting": false
          }
        },
        "execution": {
          "iopub.status.busy": "2020-11-28T20:06:32.628Z",
          "iopub.execute_input": "2020-11-28T20:06:32.639Z",
          "iopub.status.idle": "2020-11-28T20:06:32.678Z",
          "shell.execute_reply": "2020-11-28T20:06:32.397Z"
        }
      }
    },
    {
      "cell_type": "code",
      "source": [
        "//Obtenemos los valores de m y b\n",
        "var regression = require('./regression.js');\n",
        "var result1 = regression.linear(datos_a_ajustar1, { precision: 15 });\n",
        "var result2 = regression.linear(datos_a_ajustar2, { precision: 15 });\n",
        "var result3 = regression.linear(datos_a_ajustar3, { precision: 15 });\n",
        "var result4 = regression.linear(datos_a_ajustar4, { precision: 15 });\n",
        "var m1 = result1.equation[0];  // pendiente\n",
        "var m2 = result2.equation[0];  // pendiente\n",
        "var m3 = result3.equation[0];  // pendiente\n",
        "var m4 = result4.equation[0];  // pendiente\n",
        "var b1 = result1.equation[1];  // ordenada en origen\n",
        "var b2 = result2.equation[1];  // ordenada en origen\n",
        "var b3 = result3.equation[1];  // ordenada en origen\n",
        "var b4 = result4.equation[1];  // ordenada en origen\n",
        "\n",
        "console.log(' Para el SODIUM, la pendiente es = ' + m1 + ' y la ordenada es = ' + b1);\n",
        "console.log(' Para el ZINC, la pendiente es = ' + m2 + ' y la ordenada es = ' + b2);\n",
        "console.log(' Para el CALCIUM, la pendiente es = ' + m3 + ' y la ordenada es = ' + b3);\n",
        "console.log(' Para el COPPER, la pendiente es = ' + m4 + ' y la ordenada es = ' + b4);"
      ],
      "outputs": [
        {
          "output_type": "stream",
          "name": "stdout",
          "text": [
            " Para el SODIUM, la pendiente es = -0.00000128140048 y la ordenada es = 2.449363177124183\n",
            " Para el ZINC, la pendiente es = -0.00000127914379 y la ordenada es = 4.519372242314815\n",
            " Para el CALCIUM, la pendiente es = -0.000001222263424 y la ordenada es = 2.823086633856809\n",
            " Para el COPPER, la pendiente es = -0.000001187389558 y la ordenada es = 4.454082997166666\n"
          ]
        }
      ],
      "execution_count": 230,
      "metadata": {
        "collapsed": true,
        "jupyter": {
          "source_hidden": false,
          "outputs_hidden": false
        },
        "nteract": {
          "transient": {
            "deleting": false
          }
        },
        "execution": {
          "iopub.status.busy": "2020-11-28T20:06:32.695Z",
          "iopub.execute_input": "2020-11-28T20:06:32.705Z",
          "iopub.status.idle": "2020-11-28T20:06:32.747Z",
          "shell.execute_reply": "2020-11-28T20:06:32.410Z"
        }
      }
    },
    {
      "cell_type": "code",
      "source": [
        "///### calcular h constante de planck y 0 energía de arranque como se especifica.\n",
        "/// la constante de Plank es h = 6.62607015 x 10-34 J/s\n",
        "var ce = 1.602e-19;// carga de un electron\n",
        "var c = 3e8; //velocidad luz\n",
        "\n",
        "var h1 = ((m1*ce)/(2*c*3.1416))*(2*3.1416);\n",
        "var h2 = ((m2*ce)/(2*c*3.1416))*(2*3.1416);\n",
        "var h3 = ((m3*ce)/(2*c*3.1416))*(2*3.1416);\n",
        "var h4 = ((m4*ce)/(2*c*3.1416))*(2*3.1416);\n",
        "\n",
        "var o1 = b1*ce;\n",
        "var o2 = b2*ce;\n",
        "var o3 = b3*ce;\n",
        "var o4 = b4*ce;\n",
        "\n",
        "console.log(h1);\n",
        "console.log(h2);\n",
        "console.log(h3);\n",
        "console.log(h4);\n",
        "\n",
        "console.log(o1, \" Julios\" );\n",
        "console.log(o2, \" Julios\");\n"
      ],
      "outputs": [
        {
          "output_type": "stream",
          "name": "stdout",
          "text": [
            "-6.842678563199999e-34\n",
            "-6.8306278386e-34\n",
            "-6.526886684160001e-34\n",
            "-6.34066023972e-34\n",
            "3.923879809752941e-19  Julios\n",
            "7.240034332188334e-19  Julios\n"
          ]
        }
      ],
      "execution_count": 247,
      "metadata": {
        "collapsed": true,
        "jupyter": {
          "source_hidden": false,
          "outputs_hidden": false
        },
        "nteract": {
          "transient": {
            "deleting": false
          }
        },
        "execution": {
          "iopub.status.busy": "2020-11-28T20:14:39.553Z",
          "iopub.execute_input": "2020-11-28T20:14:39.564Z",
          "iopub.status.idle": "2020-11-28T20:14:39.618Z",
          "shell.execute_reply": "2020-11-28T20:14:39.628Z"
        }
      }
    },
    {
      "cell_type": "code",
      "source": [
        "//intregrar Plotly\r\n",
        "function Plotly(data, layout, $$) {\r\n",
        "    $$ = $$ || global.$$;\r\n",
        "    $$.mime({ \"application/vnd.plotly.v1+json\": { data: data, layout: layout } });\r\n",
        "}"
      ],
      "outputs": [],
      "execution_count": 232,
      "metadata": {
        "collapsed": true,
        "jupyter": {
          "source_hidden": false,
          "outputs_hidden": false
        },
        "nteract": {
          "transient": {
            "deleting": false
          }
        },
        "execution": {
          "iopub.status.busy": "2020-11-28T20:06:32.849Z",
          "iopub.execute_input": "2020-11-28T20:06:32.869Z",
          "iopub.status.idle": "2020-11-28T20:06:32.889Z",
          "shell.execute_reply": "2020-11-28T20:06:32.455Z"
        }
      }
    },
    {
      "cell_type": "code",
      "source": [
        "//cálculo valores de m y b\n",
        "voltajes_de_frenado_calculados1 = inversa_de_longitudes_de_onda1.map(inversa_lambda => inversa_lambda * m1 + b1);\n",
        "voltajes_de_frenado_calculados2 = inversa_de_longitudes_de_onda2.map(inversa_lambda => inversa_lambda * m2 + b2);\n",
        "voltajes_de_frenado_calculados3 = inversa_de_longitudes_de_onda3.map(inversa_lambda => inversa_lambda * m3 + b3);\n",
        "voltajes_de_frenado_calculados4 = inversa_de_longitudes_de_onda4.map(inversa_lambda => inversa_lambda * m4 + b4);\n"
      ],
      "outputs": [
        {
          "output_type": "execute_result",
          "execution_count": 233,
          "data": {
            "text/plain": "[\n  -7.419812582833335,\n  -3.4618473895,\n  -1.4828647928333343,\n  -0.2954752348333338\n]"
          },
          "metadata": {}
        }
      ],
      "execution_count": 233,
      "metadata": {
        "collapsed": true,
        "jupyter": {
          "source_hidden": false,
          "outputs_hidden": false
        },
        "nteract": {
          "transient": {
            "deleting": false
          }
        },
        "execution": {
          "iopub.status.busy": "2020-11-28T20:06:32.916Z",
          "iopub.execute_input": "2020-11-28T20:06:32.929Z",
          "iopub.status.idle": "2020-11-28T20:06:32.947Z",
          "shell.execute_reply": "2020-11-28T20:06:32.471Z"
        }
      }
    },
    {
      "cell_type": "code",
      "source": [
        "var datos1 = [\n",
        "  { x: inversa_de_longitudes_de_onda1, \n",
        "    y: voltajes_medidos1, name: 'Datos experimentales SODIUM', mode: 'markers' \n",
        "   },\n",
        "  { x: inversa_de_longitudes_de_onda1, \n",
        "    y: voltajes_de_frenado_calculados1, name: 'Datos calculados tras ajuste' \n",
        "    }\n",
        "  \n",
        "];\n",
        "var layout1 = {\n",
        "  title: 'Regresión Lineal Efecto Fotoelectrico, voltaje en función de la inversa de la longitud de onda (SODIUM)',\n",
        "  xaxis: { title: '1/λ Inversa de la Longitud de onda (metros<sup>-1</sup>)',\n",
        "    titlefont: { family: 'Courier New, monospace', size: 18, color: '#7f7f7f' }\n",
        "   \n",
        "        },\n",
        "  yaxis: {\n",
        "    title: 'Potencial de frenado (v)',\n",
        "     titlefont: {family: 'Courier New, monospace', size: 18, color: '#7f7f7f' }\n",
        "    \n",
        "  }\n",
        "};\n",
        "Plotly(datos1, layout1,);\n",
        "\n",
        "\n"
      ],
      "outputs": [
        {
          "output_type": "execute_result",
          "execution_count": 234,
          "data": {
            "application/vnd.plotly.v1+json": {
              "data": [
                {
                  "x": [
                    3333333.333333333,
                    2500000,
                    2352941.1764705884,
                    2222222.222222222
                  ],
                  "y": [
                    -1.82,
                    -0.76,
                    -0.57,
                    -0.39
                  ],
                  "name": "Datos experimentales SODIUM",
                  "mode": "markers"
                },
                {
                  "x": [
                    3333333.333333333,
                    2500000,
                    2352941.1764705884,
                    2222222.222222222
                  ],
                  "y": [
                    -1.82197175620915,
                    -0.754138022875817,
                    -0.5656967758169937,
                    -0.3981934450980389
                  ],
                  "name": "Datos calculados tras ajuste"
                }
              ],
              "layout": {
                "title": "Regresión Lineal Efecto Fotoelectrico, voltaje en función de la inversa de la longitud de onda (SODIUM)",
                "xaxis": {
                  "title": "1/λ Inversa de la Longitud de onda (metros<sup>-1</sup>)",
                  "titlefont": {
                    "family": "Courier New, monospace",
                    "size": 18,
                    "color": "#7f7f7f"
                  }
                },
                "yaxis": {
                  "title": "Potencial de frenado (v)",
                  "titlefont": {
                    "family": "Courier New, monospace",
                    "size": 18,
                    "color": "#7f7f7f"
                  }
                }
              }
            }
          },
          "metadata": {}
        }
      ],
      "execution_count": 234,
      "metadata": {
        "collapsed": true,
        "jupyter": {
          "source_hidden": false,
          "outputs_hidden": false
        },
        "nteract": {
          "transient": {
            "deleting": false
          }
        },
        "execution": {
          "iopub.status.busy": "2020-11-28T20:06:32.966Z",
          "iopub.execute_input": "2020-11-28T20:06:32.980Z",
          "iopub.status.idle": "2020-11-28T20:06:33.065Z",
          "shell.execute_reply": "2020-11-28T20:06:32.483Z"
        }
      }
    },
    {
      "cell_type": "code",
      "source": [
        "var datos2 = [\n",
        "  { x: inversa_de_longitudes_de_onda2, \n",
        "    y: voltajes_medidos2, name: 'Datos experimentales ZINC' , mode: 'markers'\n",
        "   },\n",
        "  { x: inversa_de_longitudes_de_onda2, \n",
        "    y: voltajes_de_frenado_calculados2, name: 'Datos calculados tras ajuste' \n",
        "    }\n",
        "  \n",
        "];\n",
        "var layout2 = {\n",
        "  title: 'Regresión Lineal Efecto Fotoelectrico, voltaje en función de la inversa de la longitud de onda (ZINC)',\n",
        "  xaxis: { title: '1/λ Inversa de la Longitud de onda (metros<sup>-1</sup>)',\n",
        "    titlefont: { family: 'Courier New, monospace', size: 18, color: '#7f7f7f' }\n",
        "   \n",
        "        },\n",
        "  yaxis: {\n",
        "    title: 'Potencial de frenado (v)',\n",
        "     titlefont: {family: 'Courier New, monospace', size: 18, color: '#7f7f7f' }\n",
        "    \n",
        "  }\n",
        "};\n",
        "Plotly(datos2, layout2,);"
      ],
      "outputs": [
        {
          "output_type": "execute_result",
          "execution_count": 235,
          "data": {
            "application/vnd.plotly.v1+json": {
              "data": [
                {
                  "x": [
                    6666666.666666666,
                    5000000,
                    3999999.9999999995,
                    3703703.7037037034
                  ],
                  "y": [
                    -4,
                    -1.89,
                    -0.62,
                    -0.19
                  ],
                  "name": "Datos experimentales ZINC",
                  "mode": "markers"
                },
                {
                  "x": [
                    6666666.666666666,
                    5000000,
                    3999999.9999999995,
                    3703703.7037037034
                  ],
                  "y": [
                    -4.008253024351851,
                    -1.876346707685185,
                    -0.5972029176851841,
                    -0.21819735027777742
                  ],
                  "name": "Datos calculados tras ajuste"
                }
              ],
              "layout": {
                "title": "Regresión Lineal Efecto Fotoelectrico, voltaje en función de la inversa de la longitud de onda (ZINC)",
                "xaxis": {
                  "title": "1/λ Inversa de la Longitud de onda (metros<sup>-1</sup>)",
                  "titlefont": {
                    "family": "Courier New, monospace",
                    "size": 18,
                    "color": "#7f7f7f"
                  }
                },
                "yaxis": {
                  "title": "Potencial de frenado (v)",
                  "titlefont": {
                    "family": "Courier New, monospace",
                    "size": 18,
                    "color": "#7f7f7f"
                  }
                }
              }
            }
          },
          "metadata": {}
        }
      ],
      "execution_count": 235,
      "metadata": {
        "collapsed": true,
        "jupyter": {
          "source_hidden": false,
          "outputs_hidden": false
        },
        "nteract": {
          "transient": {
            "deleting": false
          }
        },
        "execution": {
          "iopub.status.busy": "2020-11-28T20:06:33.096Z",
          "iopub.execute_input": "2020-11-28T20:06:33.109Z",
          "iopub.status.idle": "2020-11-28T20:06:33.231Z",
          "shell.execute_reply": "2020-11-28T20:06:32.499Z"
        }
      }
    },
    {
      "cell_type": "code",
      "source": [
        "var datos3 = [\n",
        "  { x: inversa_de_longitudes_de_onda3, \n",
        "    y: voltajes_medidos3, name: 'Datos experimentales CALCIUM' , mode: 'markers'\n",
        "   },\n",
        "  { x: inversa_de_longitudes_de_onda3, \n",
        "    y: voltajes_de_frenado_calculados3, name: 'Datos calculados tras ajuste' \n",
        "    }\n",
        "  \n",
        "];\n",
        "var layout3 = {\n",
        "  title: 'Regresión Lineal Efecto Fotoelectrico, voltaje en función de la inversa de la longitud de onda (CALCIUM)',\n",
        "  xaxis: { title: '1/λ Inversa de la Longitud de onda (metros<sup>-1</sup>)',\n",
        "    titlefont: { family: 'Courier New, monospace', size: 18, color: '#7f7f7f' }\n",
        "   \n",
        "        },\n",
        "  yaxis: {\n",
        "    title: 'Potencial de frenado (v)',\n",
        "     titlefont: {family: 'Courier New, monospace', size: 18, color: '#7f7f7f' }\n",
        "    \n",
        "  }\n",
        "};\n",
        "Plotly(datos3, layout3,);"
      ],
      "outputs": [
        {
          "output_type": "execute_result",
          "execution_count": 236,
          "data": {
            "application/vnd.plotly.v1+json": {
              "data": [
                {
                  "x": [
                    9090909.09090909,
                    8333333.333333332,
                    7692307.692307692,
                    3333333.333333333,
                    2857142.857142857
                  ],
                  "y": [
                    -8,
                    -7.5,
                    -6.8,
                    -1.2,
                    -0.65
                  ],
                  "name": "Datos experimentales CALCIUM",
                  "mode": "markers"
                },
                {
                  "x": [
                    9090909.09090909,
                    8333333.333333332,
                    7692307.692307692,
                    3333333.333333333,
                    2857142.857142857
                  ],
                  "y": [
                    -8.288399038870462,
                    -7.362441899476524,
                    -6.57893970460473,
                    -1.2511247794765241,
                    -0.6690945775717623
                  ],
                  "name": "Datos calculados tras ajuste"
                }
              ],
              "layout": {
                "title": "Regresión Lineal Efecto Fotoelectrico, voltaje en función de la inversa de la longitud de onda (CALCIUM)",
                "xaxis": {
                  "title": "1/λ Inversa de la Longitud de onda (metros<sup>-1</sup>)",
                  "titlefont": {
                    "family": "Courier New, monospace",
                    "size": 18,
                    "color": "#7f7f7f"
                  }
                },
                "yaxis": {
                  "title": "Potencial de frenado (v)",
                  "titlefont": {
                    "family": "Courier New, monospace",
                    "size": 18,
                    "color": "#7f7f7f"
                  }
                }
              }
            }
          },
          "metadata": {}
        }
      ],
      "execution_count": 236,
      "metadata": {
        "collapsed": true,
        "jupyter": {
          "source_hidden": false,
          "outputs_hidden": false
        },
        "nteract": {
          "transient": {
            "deleting": false
          }
        },
        "execution": {
          "iopub.status.busy": "2020-11-28T20:06:33.248Z",
          "iopub.execute_input": "2020-11-28T20:06:33.257Z",
          "iopub.status.idle": "2020-11-28T20:06:33.339Z",
          "shell.execute_reply": "2020-11-28T20:06:32.510Z"
        }
      }
    },
    {
      "cell_type": "code",
      "source": [
        "var datos4 = [\n",
        "  { x: inversa_de_longitudes_de_onda4, \n",
        "    y: voltajes_medidos4, name: 'Datos experimentales COPPER' , mode: 'markers'\n",
        "   },\n",
        "  { x: inversa_de_longitudes_de_onda4, \n",
        "    y: voltajes_de_frenado_calculados4, name: 'Datos calculados tras ajuste' \n",
        "    }\n",
        "  \n",
        "];\n",
        "var layout4 = {\n",
        "  title: 'Regresión Lineal Efecto Fotoelectrico, voltaje en función de la inversa de la longitud de onda (COPPER)',\n",
        "  xaxis: { title: '1/λ Inversa de la Longitud de onda (metros<sup>-1</sup>)',\n",
        "    titlefont: { family: 'Courier New, monospace', size: 18, color: '#7f7f7f' }\n",
        "   \n",
        "        },\n",
        "  yaxis: {\n",
        "    title: 'Potencial de frenado (v)',\n",
        "     titlefont: {family: 'Courier New, monospace', size: 18, color: '#7f7f7f' }\n",
        "    \n",
        "  }\n",
        "};\n",
        "Plotly(datos4, layout4,);"
      ],
      "outputs": [
        {
          "output_type": "execute_result",
          "execution_count": 237,
          "data": {
            "application/vnd.plotly.v1+json": {
              "data": [
                {
                  "x": [
                    10000000,
                    6666666.666666666,
                    5000000,
                    3999999.9999999995
                  ],
                  "y": [
                    -7.4,
                    -3.5,
                    -1.5,
                    -0.26
                  ],
                  "name": "Datos experimentales COPPER",
                  "mode": "markers"
                },
                {
                  "x": [
                    10000000,
                    6666666.666666666,
                    5000000,
                    3999999.9999999995
                  ],
                  "y": [
                    -7.419812582833335,
                    -3.4618473895,
                    -1.4828647928333343,
                    -0.2954752348333338
                  ],
                  "name": "Datos calculados tras ajuste"
                }
              ],
              "layout": {
                "title": "Regresión Lineal Efecto Fotoelectrico, voltaje en función de la inversa de la longitud de onda (COPPER)",
                "xaxis": {
                  "title": "1/λ Inversa de la Longitud de onda (metros<sup>-1</sup>)",
                  "titlefont": {
                    "family": "Courier New, monospace",
                    "size": 18,
                    "color": "#7f7f7f"
                  }
                },
                "yaxis": {
                  "title": "Potencial de frenado (v)",
                  "titlefont": {
                    "family": "Courier New, monospace",
                    "size": 18,
                    "color": "#7f7f7f"
                  }
                }
              }
            }
          },
          "metadata": {}
        }
      ],
      "execution_count": 237,
      "metadata": {
        "collapsed": true,
        "jupyter": {
          "source_hidden": false,
          "outputs_hidden": false
        },
        "nteract": {
          "transient": {
            "deleting": false
          }
        },
        "execution": {
          "iopub.status.busy": "2020-11-28T20:06:33.355Z",
          "iopub.execute_input": "2020-11-28T20:06:33.366Z",
          "iopub.status.idle": "2020-11-28T20:06:33.446Z",
          "shell.execute_reply": "2020-11-28T20:06:32.524Z"
        }
      }
    },
    {
      "cell_type": "markdown",
      "source": [
        "### Resumen del efecto fotoeléctrico:\n",
        "***\n",
        "El efecto fotoeléctrico fue descubierto y descrito por Heinrich Hertz en 1887, al observar que el arco que salta entre dos electrodos conectados a alta tensión alcanza distancias mayores cuando se ilumina con luz ultravioleta que cuando se deja en la oscuridad."
      ],
      "metadata": {
        "nteract": {
          "transient": {
            "deleting": false
          }
        }
      }
    },
    {
      "cell_type": "markdown",
      "source": [
        "## Ejercicio Premium"
      ],
      "metadata": {
        "nteract": {
          "transient": {
            "deleting": false
          }
        }
      }
    },
    {
      "cell_type": "code",
      "source": [
        "var porcentaje_intensidad_luz = [7, 15, 41, 45, 52, 60, 66, 75, 87, 91, 100];\n",
        "var energia_electron = [0.062, 0.131, 0.358, 0.394, 0.462, 0.531, 0.586, 0.662, 0.766, 0.806, 0.882];"
      ],
      "outputs": [],
      "execution_count": 238,
      "metadata": {
        "collapsed": true,
        "jupyter": {
          "source_hidden": false,
          "outputs_hidden": false
        },
        "nteract": {
          "transient": {
            "deleting": false
          }
        },
        "execution": {
          "iopub.status.busy": "2020-11-28T20:06:33.464Z",
          "iopub.execute_input": "2020-11-28T20:06:33.473Z",
          "iopub.status.idle": "2020-11-28T20:06:33.488Z",
          "shell.execute_reply": "2020-11-28T20:06:32.537Z"
        }
      }
    },
    {
      "cell_type": "code",
      "source": [
        "var datos = [\n",
        "  { x: porcentaje_intensidad_luz, \n",
        "    y: energia_electron, \n",
        "    name: 'Datos Experimentales-SODIUM-',\n",
        "   },\n",
        "              \n",
        "];\n",
        "var layout = {\n",
        "  title: ' Intensidad de la corriente en función de la frecuencia de la luz (100nm)',\n",
        "  xaxis: { \n",
        "      title: 'Porcentaje Intensidad de la luz (%)',\n",
        "    titlefont: { family: 'Courier New, monospace', size: 18, color: '#7f7f7f' }\n",
        "    },\n",
        "  yaxis: {\n",
        "    title: 'Corriente(eV)',\n",
        "     titlefont: {family: 'Courier New, monospace', size: 18, color: '#7f7f7f' }\n",
        "    \n",
        "  }\n",
        "};\n",
        "Plotly(datos, layout);"
      ],
      "outputs": [
        {
          "output_type": "execute_result",
          "execution_count": 239,
          "data": {
            "application/vnd.plotly.v1+json": {
              "data": [
                {
                  "x": [
                    7,
                    15,
                    41,
                    45,
                    52,
                    60,
                    66,
                    75,
                    87,
                    91,
                    100
                  ],
                  "y": [
                    0.062,
                    0.131,
                    0.358,
                    0.394,
                    0.462,
                    0.531,
                    0.586,
                    0.662,
                    0.766,
                    0.806,
                    0.882
                  ],
                  "name": "Datos Experimentales-SODIUM-"
                }
              ],
              "layout": {
                "title": " Intensidad de la corriente en función de la frecuencia de la luz (100nm)",
                "xaxis": {
                  "title": "Porcentaje Intensidad de la luz (%)",
                  "titlefont": {
                    "family": "Courier New, monospace",
                    "size": 18,
                    "color": "#7f7f7f"
                  }
                },
                "yaxis": {
                  "title": "Corriente(eV)",
                  "titlefont": {
                    "family": "Courier New, monospace",
                    "size": 18,
                    "color": "#7f7f7f"
                  }
                }
              }
            }
          },
          "metadata": {}
        }
      ],
      "execution_count": 239,
      "metadata": {
        "collapsed": true,
        "jupyter": {
          "source_hidden": false,
          "outputs_hidden": false
        },
        "nteract": {
          "transient": {
            "deleting": false
          }
        },
        "execution": {
          "iopub.status.busy": "2020-11-28T20:06:33.505Z",
          "iopub.execute_input": "2020-11-28T20:06:33.517Z",
          "iopub.status.idle": "2020-11-28T20:06:33.602Z",
          "shell.execute_reply": "2020-11-28T20:06:32.551Z"
        }
      }
    },
    {
      "cell_type": "markdown",
      "source": [
        "### ¿Qué le ocurre a la corriente que se mide en el amperímetro?\n",
        "\n",
        "La corriente va aumentando según vamos incrementando el porcentaje de intensidad de la luz, al incrementar este porcentaje, observamos que se van generando mayor número de electrones.\n",
        "\n",
        "### ¿Que relación ser observa?\n",
        "\n",
        "A mayor porcentaje de intensidad de la luz mayor número de electrones, con lo que se obtiene una mayor energía."
      ],
      "metadata": {
        "nteract": {
          "transient": {
            "deleting": false
          }
        }
      }
    }
  ],
  "metadata": {
    "kernel_info": {
      "name": "node_nteract"
    },
    "language_info": {
      "name": "javascript",
      "version": "12.8.1",
      "mimetype": "application/javascript",
      "file_extension": ".js"
    },
    "kernelspec": {
      "name": "python3",
      "display_name": "Python 3.8.2 64-bit",
      "metadata": {
        "interpreter": {
          "hash": "5edc29c2ed010d6458d71a83433b383a96a8cbd3efe8531bc90c4b8a5b8bcec9"
        }
      }
    },
    "nteract": {
      "version": "0.26.0"
    },
    "gist_id": "f050e5bbfb9d61d6d0a1804c165abd78"
  },
  "nbformat": 4,
  "nbformat_minor": 0
}