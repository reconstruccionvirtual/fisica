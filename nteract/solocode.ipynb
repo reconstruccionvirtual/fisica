{
  "cells": [
    {
      "cell_type": "code",
      "source": [
        "var longitudes_de_onda_medidas = [300, 350, 400, 450].map(x => x*1e-9);  // para pasar a metros\n",
        "var voltajes_medidos = [1.8, 1.4, 0.8, 0.6];  // en voltios (voltaje de frenado)"
      ],
      "outputs": [],
      "execution_count": 10,
      "metadata": {
        "collapsed": true,
        "jupyter": {
          "source_hidden": false,
          "outputs_hidden": false
        },
        "nteract": {
          "transient": {
            "deleting": false
          }
        },
        "execution": {
          "shell.execute_reply": "2020-11-26T14:14:16.359Z",
          "iopub.status.busy": "2020-11-26T14:14:15.973Z",
          "iopub.execute_input": "2020-11-26T14:14:15.979Z",
          "iopub.status.idle": "2020-11-26T14:14:15.990Z"
        }
      }
    },
    {
      "cell_type": "code",
      "source": [
        "inversa_de_longitudes_de_onda = longitudes_de_onda_medidas.map(lambda => 1/lambda );  \n",
        "var datos_a_ajustar = voltajes_medidos.reduce((tuplas_longitud_onda_voltaje, b, i) => {\n",
        "    tuplas_longitud_onda_voltaje.push([inversa_de_longitudes_de_onda[i], b]);\n",
        "  return tuplas_longitud_onda_voltaje;\n",
        "}, []);\n",
        "console.log(datos_a_ajustar); // Verás que son tuplas de valores 1/lambda y voltajes"
      ],
      "outputs": [
        {
          "output_type": "stream",
          "name": "stdout",
          "text": [
            "[\n",
            "  [ 3333333.333333333, 1.8 ],\n",
            "  [ 2857142.857142857, 1.4 ],\n",
            "  [ 2500000, 0.8 ],\n",
            "  [ 2222222.222222222, 0.6 ]\n",
            "]\n"
          ]
        }
      ],
      "execution_count": 11,
      "metadata": {
        "collapsed": true,
        "jupyter": {
          "source_hidden": false,
          "outputs_hidden": false
        },
        "nteract": {
          "transient": {
            "deleting": false
          }
        },
        "execution": {
          "shell.execute_reply": "2020-11-26T14:14:16.363Z",
          "iopub.status.busy": "2020-11-26T14:14:15.999Z",
          "iopub.execute_input": "2020-11-26T14:14:16.005Z",
          "iopub.status.idle": "2020-11-26T14:14:16.022Z"
        }
      }
    },
    {
      "cell_type": "code",
      "source": [
        "var regression = require('./regression.js');\n",
        "var result = regression.linear(datos_a_ajustar, { precision: 15 });\n",
        "var m = result.equation[0];  // pendiente\n",
        "var b = result.equation[1];  // ordenada en origen\n",
        "console.log('la pendiente es = ' + m + ' y la ordenada es = ' + b);"
      ],
      "outputs": [
        {
          "output_type": "stream",
          "name": "stdout",
          "text": [
            "la pendiente es = 0.000001134358974 y la ordenada es = -1.94472934375\n"
          ]
        }
      ],
      "execution_count": 12,
      "metadata": {
        "collapsed": true,
        "jupyter": {
          "source_hidden": false,
          "outputs_hidden": false
        },
        "nteract": {
          "transient": {
            "deleting": false
          }
        },
        "execution": {
          "shell.execute_reply": "2020-11-26T14:14:16.367Z",
          "iopub.status.busy": "2020-11-26T14:14:16.030Z",
          "iopub.execute_input": "2020-11-26T14:14:16.036Z",
          "iopub.status.idle": "2020-11-26T14:14:16.052Z"
        }
      }
    },
    {
      "cell_type": "code",
      "source": [
        "function Plotly(data, layout, $$) {\n",
        "    $$ = $$ || global.$$;\n",
        "    $$.mime({ \"application/vnd.plotly.v1+json\": { data: data, layout: layout } });\n",
        "}"
      ],
      "outputs": [],
      "execution_count": 13,
      "metadata": {
        "collapsed": true,
        "jupyter": {
          "source_hidden": false,
          "outputs_hidden": false
        },
        "nteract": {
          "transient": {
            "deleting": false
          }
        },
        "execution": {
          "shell.execute_reply": "2020-11-26T14:14:16.371Z",
          "iopub.status.busy": "2020-11-26T14:14:16.062Z",
          "iopub.execute_input": "2020-11-26T14:14:16.067Z",
          "iopub.status.idle": "2020-11-26T14:14:16.079Z"
        }
      }
    },
    {
      "cell_type": "code",
      "source": [
        "voltajes_de_frenado_calculados = inversa_de_longitudes_de_onda.map(inversa_lambda => inversa_lambda * m + b);\n"
      ],
      "outputs": [
        {
          "output_type": "execute_result",
          "execution_count": 14,
          "data": {
            "text/plain": "[\n  1.8364672362499996,\n  1.2962962962499993,\n  0.8911680912499997,\n  0.5760683762499996\n]"
          },
          "metadata": {}
        }
      ],
      "execution_count": 14,
      "metadata": {
        "collapsed": true,
        "jupyter": {
          "source_hidden": false,
          "outputs_hidden": false
        },
        "nteract": {
          "transient": {
            "deleting": false
          }
        },
        "execution": {
          "shell.execute_reply": "2020-11-26T14:14:16.375Z",
          "iopub.status.busy": "2020-11-26T14:14:16.089Z",
          "iopub.execute_input": "2020-11-26T14:14:16.104Z",
          "iopub.status.idle": "2020-11-26T14:14:16.129Z"
        }
      }
    },
    {
      "cell_type": "code",
      "source": [
        "datos = [\n",
        "  { x: inversa_de_longitudes_de_onda, y: voltajes_medidos, name: 'Datos experimentales' }, \n",
        "  { x: inversa_de_longitudes_de_onda, y: voltajes_de_frenado_calculados, name: 'Datos calculados tras ajuste' }\n",
        "];\n",
        "var layout = {\n",
        "  title: 'Plot de ejemplo',\n",
        "  xaxis: { title: 'x Axis',\n",
        "    titlefont: { family: 'Courier New, monospace', size: 18, color: '#7f7f7f' }\n",
        "  },\n",
        "  yaxis: {\n",
        "    title: 'y Axis', titlefont: {\n",
        "      family: 'Courier New, monospace', size: 18, color: '#7f7f7f' }\n",
        "  }\n",
        "};\n",
        "Plotly(datos, layout);"
      ],
      "outputs": [
        {
          "output_type": "execute_result",
          "execution_count": 15,
          "data": {
            "application/vnd.plotly.v1+json": {
              "data": [
                {
                  "x": [
                    3333333.333333333,
                    2857142.857142857,
                    2500000,
                    2222222.222222222
                  ],
                  "y": [
                    1.8,
                    1.4,
                    0.8,
                    0.6
                  ],
                  "name": "Datos experimentales"
                },
                {
                  "x": [
                    3333333.333333333,
                    2857142.857142857,
                    2500000,
                    2222222.222222222
                  ],
                  "y": [
                    1.8364672362499996,
                    1.2962962962499993,
                    0.8911680912499997,
                    0.5760683762499996
                  ],
                  "name": "Datos calculados tras ajuste"
                }
              ],
              "layout": {
                "title": "Plot de ejemplo",
                "xaxis": {
                  "title": "x Axis",
                  "titlefont": {
                    "family": "Courier New, monospace",
                    "size": 18,
                    "color": "#7f7f7f"
                  }
                },
                "yaxis": {
                  "title": "y Axis",
                  "titlefont": {
                    "family": "Courier New, monospace",
                    "size": 18,
                    "color": "#7f7f7f"
                  }
                }
              }
            }
          },
          "metadata": {}
        }
      ],
      "execution_count": 15,
      "metadata": {
        "collapsed": true,
        "jupyter": {
          "source_hidden": false,
          "outputs_hidden": false
        },
        "nteract": {
          "transient": {
            "deleting": false
          }
        },
        "execution": {
          "shell.execute_reply": "2020-11-26T14:14:16.378Z",
          "iopub.status.busy": "2020-11-26T14:14:16.156Z",
          "iopub.execute_input": "2020-11-26T14:14:16.174Z",
          "iopub.status.idle": "2020-11-26T14:14:16.350Z"
        }
      }
    }
  ],
  "metadata": {
    "kernel_info": {
      "name": "node_nteract"
    },
    "language_info": {
      "name": "javascript",
      "version": "12.8.1",
      "mimetype": "application/javascript",
      "file_extension": ".js"
    },
    "kernelspec": {
      "argv": [
        "/Applications/nteract.app/Contents/MacOS/nteract",
        "/Applications/nteract.app/Contents/Resources/app.asar/node_modules/ijavascript/lib/kernel.js",
        "{connection_file}",
        "--protocol=5.0",
        "--hide-undefined"
      ],
      "display_name": "Node.js (nteract)",
      "env": {
        "ELECTRON_RUN_AS_NODE": "1",
        "NODE_PATH": "/Applications/nteract.app/Contents/Resources/app.asar/node_modules"
      },
      "language": "javascript",
      "name": "node_nteract"
    },
    "nteract": {
      "version": "0.26.0"
    }
  },
  "nbformat": 4,
  "nbformat_minor": 0
}