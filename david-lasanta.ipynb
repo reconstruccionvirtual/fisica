{
  "cells": [
    {
      "cell_type": "markdown",
      "source": [
        "# Laboratorio: Spice\n",
        "![](https://media-exp1.licdn.com/dms/image/C5612AQGqg7q8aZIKsg/article-cover_image-shrink_600_2000/0?e=1611792000&v=beta&t=XS0F9hZXXGl7ckQ1zJS7eo9P7u73mpZ69wRL_gssrWk)\n",
        "---\n",
        "## Autor: **David Lasanta**\n",
        "  \n",
        "  \n",
        "# Objetivo del laboratorio\n",
        "---\n",
        "El objetivo de la presenta práctica es conocer el estándar de simulación de circuitos [SPICE](http://bwrcs.eecs.berkeley.edu/Classes/IcBook/SPICE) y realizar pequeñas simulaciones en corriente continua con el mismo. SPICE es una forma elegante y sencilla de codificar circuitos eléctricos de manera que puedan ser procesados por un ordenador. Mediante un sencillo lenguaje podemos definir resistencias, fuentes de alimentación, etc., las conexiones entre ellos y los resultados que deseamos obtener.\n"
      ],
      "metadata": {
        "nteract": {
          "transient": {
            "deleting": false
          }
        }
      }
    },
    {
      "cell_type": "markdown",
      "source": [
        "\n",
        " # El estándar SPICE\n",
        " **SPICE** es una abreviabiación de *Simulation Program with Integrated Circtuit Emphasis*.\n",
        " Se trata básicamente de un método estándar para describir circuitos usando texto plano en\n",
        " lugar de una representación gráfica (o *esquemática*). A esta descripción en texto se\n",
        " la llama también **netlist** y básicamente se corresponde con la *lista* de los componentes del circuito y cómo estos están conectados entre sí, es decir, de los nodos de unión.\n",
        " Los ficheros netlist pueden tener extensiones `.cir`, `.net`, `.ckt`, ó `.sp` y es muy común encontrárselos con cualquiera de estas.\n",
        "\n",
        " Existen en el mercado muchas variantes (intérpretes) de Spice, aunque el original fue descrito\n",
        " en la Universidad de Berkeley. En la lista de intérpretes de Spice tenemos desde esfuerzos y proyectos comerciales hasta *open source* y regidos por distintas comunidades de usuarios y programadores.\n",
        "\n",
        "> **Pregunta:** Enumera todos los intérprete de Spice que puedas encontrar. Crea una tabla en Markdown con varias columnas (para el nombre, fabricante, versión actual, licencia y alguna característica sobresaliente). Aquí tienes un ejemplo del que puedes partir y seguir completando:\n",
        "\n",
        "### Intérpretes libres ###\n",
        "\n",
        "| Intérprete | Versión actual | Licencia       | Autor              | Características            |\n",
        "| ---------- | -------------- | -------------- | ------------------ | -------------------------- |\n",
        "| Ahkab      | 0.18 (2.015)   | GPL            | Giuseppe Venturini | Basado en Python           |\n",
        "| Spice      | 3              | No especifican | Dr. Laurence Nagel | Spice original U. Berkeley |\n",
        "| PySpice    | 1.4 (2.020)    | GPL v3         | Fabrice Salvaire   | Módulo Python open source  |\n",
        "| NgSpice    | 3.3 (2.020)    | (CC-BY-SA)v4.0 | Varios (ver web)   | Basado en C                |\n",
        "| ASCO tool  | ASCO-0.4.10    | GNU GPL        | Joao Ramos         | Basado en FORTRAN          |\n",
        "| gEDA       | estable 1.8.2  | GNU            | Ales Hvezda et al. | Basado en C                |\n",
        "| Gnucap     | 0.33           | GNU            | Albert Davis       | Basado en C                |\n",
        "| MacSpice   | 3.1.22         | No especifican | Charles Williams   | Act. tecnología INTEL      |\n",
        "| Oregano    | 0.84.43        | GNU            | Richard Hult       | Para Linux      \t\t     |\n",
        "| Qucs       | 0.0.19         | GNU GPL v2+    | Michael Margraf    | Basado en C++              |\n",
        "\n",
        "\n",
        "\n",
        "### Intérpretes de software propietario ###\n",
        "\n",
        "| Intérprete           | Versión actual | Licencia       | Autor               | Características            |\n",
        "| -------------------- | -------------- | -------------- | ------------------- | -------------------------- |\n",
        "| Spice OPUS           | 2.33           | (c)            | Tadej Tuma          | Basado en C                |\n",
        "| PSpice               | 17.2           | EDA            | John Durbetaki      | Plugin para OrCAD          |\n",
        "| HSpice               | M-2017.03      | SAE            | Synopsys            | Parte de uns suite de pago |\n",
        "| Proteus Design Suite | 8.7 SP1        | EDA            | John Jameson        | Tipo CAD                   |\n",
        "| Intusoft             | V8.x.11        | EDA            | Intusoft            | Basado en C++              |\n",
        "| SIMetrix Intro       | 8.40c          | (c)            | SIMetrix            | Basado en C                |\n",
        "| TopSPICE             | 8.84           | (c)            | Penzar Development  | Basado en C++              |\n",
        "| Mentor Graphics      | No especifican | EDA            | Mentor / Siemens    | Soporta fichero encriptados|\n",
        "| Tina Pro\t           | v12            | EDA            | Dr. Dogan Ibrahim   | Opción Cloud               | \n",
        "| Multisim             | v12            | EDA            | NATIONAL INSTRUMENTS| On Line                    |\n",
        "| Altium Designe       | altium 365     | PCB            | Nick Martin         | Plataforma Cloud           | \n",
        "\n",
        "> **Curiosidad:** Por norma general, las versiones libres exponen las caractareisticas de su versión de forma simple y directa. En software propietario, esta **\"adornado\"** con expresiones como **\"referente de la industria\"**, **\"el mejor en su rango de precio\"**, **\"la solución mas completa\"**, etc...\n",
        "\n",
        "---\n",
        " \n",
        "> **Pregunta:** ¿Qué comparación puedes efectuar entre C y Spice como estándares (lenguajes) y sus respectivas implementaciones en software? ¿Qué implementaciones reales (compiladores) del lenguaje C conoces? \n",
        "\n",
        "**Comparación entre C y Spice:**\n",
        "\n",
        "**C** es un lenguaje de programación de propósito general, pero **Spice** es un estándar internacional cuyo objetivo es simular circuitos electrónicos analógicos compuestos por resistencias, condensadores, diodos, transistores, etc.\n",
        "\n",
        "\n",
        "\n"
      ],
      "metadata": {}
    },
    {
      "cell_type": "markdown",
      "source": [
        "\n",
        " ## Elementos de un netlist\n",
        " Como acabamos de comentar, un netlist se corresponde con la codificación de los elementos electrónicos de un circuito y las uniones entre los mismos. Veamos con más concreción qué partes y secciones lo componen.\n",
        "\n",
        " ## Comentarios\n",
        "\n",
        " La primera línea de un netlist se corresponderá siempre con un comentario. A partir de esta línea se pueden introducir más comentarios pero tienen que ir siempre precedidos de un `*`. Ejemplo:\n",
        " \n",
        " ```spice\n",
        " Mi primer circuito\n",
        " * Otro comentario\n",
        " * más comentarios\n",
        " *\n",
        " ```\n",
        "\n",
        " ## Dispositivos básicos de un circuito\n",
        " Los elementos de un netlist son los mismos que encontramos en cualquier circuito eléctrico sencillo,\n",
        " tales como resistencias, **condensadores**, **bobinas**, **interruptores**, **hilos** y **fuentes** de alimentación.\n",
        " Para distinguir uno de otro, se reserva una letra característica: `V` para fuentes de alimentación, `R` para resistencias, `C` para condensadores y `L` para bobinas. También es posible usar estas letras en su versión en minúscula (`r`, `v`, `c`, `l`, etc.).\n",
        " Después de esta letra característica se puede sufijar cualquier texto para diferenciar un elemento de otro (números, letras, palabras, etc.). Ejemplo:\n",
        "\n",
        " ```\n",
        " * Una resistencia\n",
        " R1\n",
        " *  Otra resistencia\n",
        " R2\n",
        " * Fuente de alimentación\n",
        " V\n",
        " * Un condensador\n",
        " Cprincipal\n",
        " ```\n",
        "\n",
        " ## Conexiones\n",
        " A continuación de indicar el elemento eléctrico, tenemos que informar a Spice cuáles\n",
        " son los puntos de unión tanto a un lado como al otro del elemento.\n",
        " Así es como Spice sabe qué está conectado a qué: porque comparten un **punto**\n",
        " (o **nodo**, aunque este término se reserva sobretodo a uniones de más de dos elementos)\n",
        " que hemos señalizado correctamente. Para nombrar nodos, lo mejor es emplear una\n",
        " numeración secuencial: 0...n. **La enumeración de los puntos de unión es completamente\n",
        " a nuestro criterio**.\n",
        "\n",
        " ```\n",
        " * Una resistencia\n",
        " * entre cables 0 y 1\n",
        " R1 0 1\n",
        " ```\n",
        "\n",
        " **Sólo es necesario seguir un criterio**: en el caso de una\n",
        " fuente de alimentación, el nodo que pondremos primero será\n",
        " aquel que está más cerca del *borne* positivo. Ejemplo:\n",
        "\n",
        " ```spice\n",
        " * Para una fuente indicamos primeramente conexión a nodo positivo.\n",
        " v 2 3 type=vdc vdc=1\n",
        " ```\n",
        " \n",
        "En el *caso de LTspice* no es necesario indicar los parámetros `type=vdc` y `vdc=X`, sino que si no se especifica nada, se supone que el último valor es el del voltaje a corriente continua:\n",
        "\n",
        "```spice\n",
        "* Especificación de una fuente de alimentación de 10 V en corrient continua en el caso de LTspice\n",
        "v 0 1 10\n",
        "```\n",
        "\n",
        "Aquí tienes un ejemplo gráfico de los componentes comentados justo arriba (resistencia y voltaje):\n",
        "\n",
        "![](https://raw.githubusercontent.com/pammacdotnet/spicelab/master/resistencia%20y%20pila%20con%20nodos.svg?sanitize=true)\n",
        "\n",
        " ## Unidades en SPICE\n",
        "\n",
        " Las unidades de las magnitudes características del circuito son siempre [unidades\n",
        " del Sistema Internacional](https://en.wikipedia.org/wiki/SI_electromagnetism_units) y no es necesario indicarlo explícitamente en el netlist.\n",
        "\n",
        " La forma de especificar múltiplos de estas cantidades es añadiendo una letra.\n",
        " Básicamente las que nos interesan y las que suelen aparecer mayoritariamente son `k` para \"kilo-,\" `m` para \"mili?\" y `u` para \"micro?\".\n",
        "\n",
        " > **Pregunta:** Crea una tabla en Markdown con todos los prefijos de múltiplos que puedas, su abreviatura y su equivalencia numérica.\n",
        "\n",
        "| Múltiplo    | Prefijo | Abreviatura |\n",
        "| ----------- | ------- | ----------- |\n",
        "| $$10^{24}$$ | yotta   | $$Y$$       |\n",
        "| $$10^{21}$$ | zetta   | $$Z$$       |\n",
        "| $$10^{18}$$ | exa     | $$E$$       |\n",
        "| $$10^{15}$$ | peta    | $$P$$       |\n",
        "| $$10^{12}$$ | tera    | $$T$$       |\n",
        "| $$10^{9}$$  | giga    | $$G$$       |\n",
        "| $$10^{6}$$  | mega    | $$M$$       |\n",
        "| $$10^{3}$$  | kilo    | $$k$$       |\n",
        "| $$10^{2}$$  | hecto   | $$h$$       |\n",
        "| $$10^{1}$$  | deca    | $$da$$      |\n",
        "| $$10^{-1}$$ | deci    | $$d$$       |\n",
        "| $$10^{-2}$$ | centi   | $$c$$       |\n",
        "| $$10^{-3}$$ | mili    | $$m$$       |\n",
        "| $$10^{-6}$$ | micro   | $$\\mu$$     |\n",
        "| $$10^{-9}$$ | nano    | $$n$$       |\n",
        "| $$10^{-12}$$| pico    | $$p$$       |\n",
        "| $$10^{-15}$$| femto   | $$f$$       |\n",
        "| $$10^{-18}$$| ato     | $$a$$       |\n",
        "| $$10^{-21}$$| zepto   | $$z$$       |\n",
        "| $$10^{-24}$$| yocto   | $$y$$       |\n",
        "\n",
        "---\n",
        "\n",
        " \n",
        " \n",
        "En el caso de las fuentes de alimentación hemos de especificar si se trata de corriente contínua (`vdc`) o alterna (`ac`).\n",
        "\n",
        "```\n",
        " * Una resistencia de 5 Ohmios\n",
        " R2 1 0 5\n",
        " * Una pila de 10 Voltios (continua)\n",
        " V1 1 0 type=vdc vdc=10\n",
        " * Una resistencia de 5 kΩ\n",
        " RX 2 4 5k\n",
        "```"
      ],
      "metadata": {
        "nteract": {
          "transient": {
            "deleting": false
          }
        }
      }
    },
    {
      "cell_type": "markdown",
      "source": [
        " > **Pregunta**: ¿qué unidades del Sistema Internacional relacionadas con la asignatura –y los circuitos en general– conoces? Responde aquí mismo en una celda de Markdown con una tabla.\n",
        " \n",
        "| Abreviatura            | Unidad física              | Abreviatura | Unidad física         | Abreviatura | Unidad física         |\n",
        "| ---------------------- | -------------------------- | ----------- | --------------------- | ----------- | --------------------- |\n",
        "| $$A$$                  | amperio                    | $$H$$       | henry                 | $$nm$$      | nanómetro             |\n",
        "| $$\\overset{\\circ}{A}$$ | angstrom                   | $$h$$       | hora                  | $$pt$$      | pinta                 |\n",
        "| $$atm$$                | atmósfera                  | $$Hz$$      | hertz                 | $$qt$$      | cuarto de galón       |\n",
        "| $$Btu$$                | unidad térmica británica   | $$in$$      | pulgada               | $$rev$$     | revolición            |\n",
        "| $$Bq$$                 | becquerel                  | $$J$$       | julio                 | $$R$$       | roentgen              |\n",
        "| $$C$$                  | culombio                   | $$K$$       | kelvin                | $$Sv$$      | seivert               |\n",
        "| $$^{\\circ}{C}$$        | grado Celsius              | $$kg$$      | kilogramo             | $$s$$       | segundo               |\n",
        "| $$cal$$                | caloría                    | $$km$$      | kilómtero             | $$T$$       | tesla                 |\n",
        "| $$Ci$$                 | curie                      | $$keV$$     | kiloelectrón voltio   | $$u$$       | ud. de masa unificada |\n",
        "| $$cm$$                 | centímetro                 | $$lb$$      | libra                 | $$V$$       | voltio                |\n",
        "| $$din$$                | dina                       | $$L$$       | litro                 | $$W$$       | vatio                 |\n",
        "| $$eV$$                 | electrón voltio            | $$m$$       | metro                 | $$Wb$$      | weber                 |\n",
        "| $$^{\\circ}{F}$$        | grado Fahrenheit           | $$MeV$$     | megaelectrón voltio   | $$a$$       | año                   |\n",
        "| $$fm$$                 | femtómtero                 | $$Mm$$      | megámetro             | $$yd$$      | yarda                 |\n",
        "| $$ft$$                 | pie                        | $$mi$$      | milla                 | $$\\mu m$$   | micrómetro            |\n",
        "| $$Gm$$                 | gigámtro                   | $$min$$     | minuto                | $$\\mu s$$   | microsegundo          |\n",
        "| $$G$$                  | gauss                      | $$mm$$      | milímetro             | $$\\mu C$$   | microculombio         |\n",
        "| $$Gy$$                 | gray                       | $$ms$$      | milisegundo           | $$\\Omega$$  | ohmio                 |\n",
        "| $$g$$                  | gramo                      | $$N$$       | newton                |             |                       | \n",
        "\n",
        "\n",
        "\n",
        " "
      ],
      "metadata": {
        "nteract": {
          "transient": {
            "deleting": false
          }
        }
      }
    },
    {
      "cell_type": "markdown",
      "source": [
        "## Valores iniciales\n",
        "\n",
        " Aparecen justo al final de la definición del componente (`ic`). Suelen aplicarse principalmente con condensadores.\n",
        "\n",
        " ```\n",
        " * Una condensador inicialmente no cargado\n",
        " c 1 0 1u ic=0\n",
        " ```\n",
        "\n",
        " ## Fin del circuito\n",
        "\n",
        " El fin de la descripción de un netlist se especifica mediante el\n",
        " comando `.end`.\n",
        "\n",
        " ```spice\n",
        " * Mi primer circuito\n",
        " V 1 0 vdc=10 type=vdc\n",
        " R 1 0 5\n",
        " * Fin del circuito\n",
        " .end\n",
        " ```\n",
        "\n",
        "\n",
        " ## Comandos SPICE para circuitos en corriente continua\n",
        "\n",
        " Además de la descripción del circuito, hemos de indicar al intérprete de Spice qué\n",
        " tipo de análisis queremos realizar en sobre el mismo y cómo queremos presentar\n",
        " la salida de la simulación. Los comandos en Spice empiezan por un `.` y suelen\n",
        " escribirse justo al final del circuito, pero antes del comando `.end`.\n",
        "\n",
        " ```\n",
        "  Mi primer circuito\n",
        " * Aquí van los componentes\n",
        " R 1 0 6k\n",
        " ...\n",
        " * Comandos\n",
        " .op\n",
        " ...\n",
        " * Fin del circuito\n",
        " .end\n",
        " ```\n",
        "\n",
        " > **Pregunta**: Hasta lo que has visto del lenguaje Spice, ¿dentro de qué tipo o conjunto de lenguajes encajaría? ¿Funcionales? ¿Específicos de dominio? ¿Procedurales? ¿Estructurados? ¿Orientado a Objetos ¿Funcionales? Justifica tu respuesta. \n",
        " \n",
        "**Spice**  encaja dentro de la programación estructurada, ya que se implementa con una secuencia que indica el orden de ejecución de las instrucciones. Tambien puede ser considerado un lenguaje específico de dominio, ya que está optimizado para una clase específica de problemas.\n",
        "\n",
        "Veamos los principales comandos de simulación:\n",
        "\n",
        " - `.op` es el comando más sencillo que podemos emplear en. Devuelve el voltaje e intensidad en cada ramal y componente del circuito. Este comando no necesita parámetros.\n",
        " - `.dc` es uy parecido al comando `.op` pero nos permite cambiar el valor del voltaje de una fuente de alimentación en pasos consecutivos entre el valor A y el valor B.\n",
        " En el caso de que la fuente tuviera asignada ya un valor para su voltaje, este sería ignorado. Ejemplo:\n",
        "\n",
        "\n",
        " ```spice\n",
        " * Variamos el valor del voltaje\n",
        " * de la fuente \"v\" de 1 a 1000\n",
        " * en pasos de 5 voltios\n",
        " v 1 0 type=vdc vdc=10\n",
        " .dc v 1 start=1 stop=1000 step=20\n",
        " v2a 2 4 type=vdc vdc=9\n",
        " * Igual para v2a. Se ignora su voltaje de 9V\n",
        " .dc v2a start=0 stop=10 step=2\n",
        " ```\n",
        "\n",
        " - El comando `.tran` realiza un análisis en el tiempo de los parámetros del\n",
        " circuito. Si no se emplea la directiva `uic` (*use initial conditions*) o esta es igual a cero, este análisis se realiza desde el punto estable de funcionamiento del circuito hasta un tiempo `tfinal`.\n",
        " y en intervalos `tstep`. Si empleamos un varlor distinto para parámetro `uic`,\n",
        " entonces se hará uso de las condiciones iniciales definidas para cada componente\n",
        "  (típicamente `ic=X` en el caso de los condensadores, que da cuenta de la carga incial que estos pudieran tener).\n",
        "\n",
        "\n",
        " ```\n",
        " * Hacemos avanzar el tiempo entre\n",
        " * tinicial y tfinal en pasos tstep\n",
        " .tran tstart=X tstop=Y tstep=Z uic=0/1/2/3\n",
        " ```\n",
        "\n",
        " `X`, `Y` y `Z` tienen, evidentemente unidades de tiempo en el S.I. (segundos).\n",
        "\n"
      ],
      "metadata": {
        "nteract": {
          "transient": {
            "deleting": false
          }
        }
      }
    },
    {
      "cell_type": "markdown",
      "source": [
        " > **Pregunta**: El parámetro `uic` puede tener varios valores y cada uno significa una cosa. Detállalo usando un celda Markdown y consultando la [documentación de Ahkab](https://buildmedia.readthedocs.org/media/pdf/ahkab/latest/ahkab.pdf).\n",
        " \n",
        "**UIC (Use Initial Conditions)**: Usado para especificar el estado del circuito en el momento time t = tstart.\n",
        "Los valores disponibles son 0, 1, 2 o 3, con los siguientes resultados:\n",
        "\n",
        "| Valor | Estado del circuito |\n",
        "| ----- | :---------------------------------------------------------------------------------------------------------------------------------- |\n",
        "| uic=0 | Se supondrá que todos los voltajes y corrientes de los nodos a través de las fuentes v / h / e / son cero en **t = tstart**         |\n",
        "| uic=1 | El estado en **'t = tstart** es el último resultado de un análisis OP                                                               |\n",
        "| uic=2 | El estado en **t = tstart** es el último resultado de un análisis OP en el que se establecen los valores de corrientes a través de inductores y voltajes en condensadores especificados en su ic. Esto se hace muy aproximadamente, se recomienda comprobar. |\n",
        "| uic=3 | Cargar un ic proporcionado por el usuario. Esto requiere una directiva **.ic** en algún lugar de la lista de conexiones y una El nombre de **.ic** y **ic_label** deben coincidir. |\n",
        "\n",
        " "
      ],
      "metadata": {
        "nteract": {
          "transient": {
            "deleting": false
          }
        }
      }
    },
    {
      "cell_type": "markdown",
      "source": [
        "## Intérprete SPICE que vamos a usar: Ahkab\n",
        "Tras un estándar siempre hay una o varias implementaciones. Ahkab no deja de ser una implmentación más en Python del estándar Spice.\n",
        "> **Pregunta:** Comenta las distintas implementaciones de lenguajes y estándares que conozcas. Hazlo usando una tabla en Markdown. [Aquí](https://www.markdownguide.org/extended-syntax/#tables) tienes un poco de ayuda (aunque antes ya se ha puesto el ejemplo de una tabla).\n",
        "  \n",
        "| Estandar   | Implementación |\n",
        "| ---------- | -------------- |\n",
        "| ECMAScript | JavaScript     |\n",
        "| ECMAScript | JScript        |\n",
        "| ECMAScript | ActionScript   |\n",
        "| Python     | CPyton         |\n",
        "| Python     | IronPython     |\n",
        "\n",
        "---\n",
        "\n",
        "> **Pregunta:** Describe brevemente este software (creador, objetivos, versiones, licencia, características principales, dependencias, etc.).\n",
        "\n",
        "### Autor: ###\n",
        "El autor de **Ahkab** es [Giuseppe Venturini](https://github.com/ggventurini), con contribuciones de [Ian Daniher](https://github.com/itdaniher), [Rob Crowther](https://github.com/weilawei) y otros.\n",
        "\n",
        "### Objetivos: ###\n",
        "Distribuido bajo licencia Open Source (GNU), el objetivo del software es la simulación de circuitos, aportando como valor añadido, respecto a otros software de mismo fin, la impresión de todas la matrices de ecuaciones, insistiendo en la disponibilidad bajo una licencia \"copy left\".\n",
        "\n",
        "### Versiones: ###\n",
        "A fecha de creación del presente documento, Akhab se encuentra en su versión 0.18, de fecha 17 de abril de 2.017, segun su [web](https://ahkab.readthedocs.io/en/latest/), aunque la fecha de *release* que consta en su repositorio de [github.com](https://github.com/ahkab/ahkab), es el 12 de julio de 2.015.\n",
        "Existen 7 [versiones](https://github.com/ahkab/ahkab/releases) anteriores, desde la 0.10, a la 0.17.\n",
        "\n",
        "### Licencia: ###\n",
        "Como se ha comentado, la [licencia](https://ahkab.readthedocs.io/en/latest/misc/COPYING.html), bajo la que se distubuye el software es la GNU, mas concretamente, la versión 2 (GNU v2) de este tipo de lincencia de proposito general.\n",
        "\n",
        "### Caracteristicas principales: ###\n",
        "Como implementación del estandar Spice, nos encontramos un un programa ligero y de uso sencillo.\n",
        "\n",
        "#### Simulaciones compatibles: ####\n",
        "- **Numérico**:\n",
        "    - Punto de operación , con cálculo de conjeturas para acelerar la solución. Ver ejemplo: Espejo de corriente descendente\n",
        "    - Barrido de CC\n",
        "    - Análisis de transitorios , fórmulas de diferenciación disponibles: Euler implícito, trapezoidal, órdenes de marcha de 2 a 5. Ver por ejemplo la simulación de un oscilador de Colpitts .\n",
        "    - Análisis de CA\n",
        "    - Análisis PZ\n",
        "    - Análisis periódico de estado estable de circuitos no autónomos, disparos en el dominio del tiempo y algoritmos de fuerza bruta.\n",
        "- **Simbólico**:\n",
        "    - Análisis de pequeña señal , AC o DC, con extracción de funciones de transferencia, ganancia DC, polos y ceros. Varios ejemplos de análisis simbólico en esta página .\n",
        "\n",
        "Los resultados se guardan en el disco, se grafican o imprimen en la salida estándar y se pueden leer / procesar con las herramientas más comunes (por ejemplo , [Octave](http://www.gnu.org/software/octave/) , [gnuplot](http://www.gnuplot.info/) , [Matlab](http://www.mathworks.com/products/matlab/) , [gwave](http://www.telltronics.org/software/gwave/) y otras)\n",
        "\n",
        "### Dependencias ###\n",
        "\n",
        "El programa redistribuye la libreria *py3compat.py*.\n",
        "\n",
        "El programa requiere **Python 2** (>=v.2.6) o **Python 3** (>=v.3.3).\n",
        "\n",
        "**numpy** >= 1.7.0\n",
        "\n",
        "**scipy** >= 0.14.0\n",
        "\n",
        "**sympy** >= 0.7.6\n",
        "\n",
        "**tabulate** >= 0.7.3\n",
        "\n",
        "\n",
        "y se recomiena tener instalado:\n",
        "\n",
        "**matplotlib** >= 1.1.1\n",
        "\n",
        "**nose** (para para ejecutar la suite de pruebas)\n",
        "\n",
        "\n",
        "### Otras caracteristicas ###\n",
        "Como otras iniciativas Open Source, la gente de Ahkab solicita donciones para soportar los costes de desarrollo. Pero... en este caso en concreto, si alguien quiere colaborar en el soporte del desarrollo de Ahkab, se solicita una donación a dos entidades que **investigan en la curación del cancer**:\n",
        "\n",
        "[Association for International Cancer Research (eng)](http://www.aicr.org.uk/donate.aspx)\n",
        "\n",
        "[Fond. IRCCS Istituto Nazionale dei Tumori (it)](http://www.istitutotumori.mi.it/modules.php?name=Content&pa=showpage&pid=24)"
      ],
      "metadata": {
        "nteract": {
          "transient": {
            "deleting": false
          }
        }
      }
    },
    {
      "cell_type": "markdown",
      "source": [
        "\n",
        "\n",
        " # Trabajo práctico\n",
        " Muy bien, ahora toca definir circuitos y ejecutar simulaciones sobre los mismos gracias a Ahkab.\n",
        " ## Instalación de bibliotecas necesarias\n",
        " Si estás utilizando Anaconda, asegúrate de tener su entorno activado:\n",
        " \n",
        " ```cmd\n",
        " C:\\> conda activate base (en el caso de Windows)\n",
        " ```\n",
        " ó\n",
        "\n",
        " ```bash\n",
        " $ source /usr/local/Caskroom/miniconda/base/bin/activate (en el caso de macOS)\n",
        " ```\n",
        "\n",
        "En el caso de Windows tienes que tener en el PATH el directorio donde se encuentre el comando `conda` (visita la sección de [Environment Variables](https://superuser.com/questions/949560/how-do-i-set-system-environment-variables-in-windows-10) del [Panel de Control](https://www.digitalcitizen.life/8-ways-start-control-panel-windows-10)). Si has instalado Anaconda con [esta opción](https://docs.anaconda.com/_images/win-install-options.png) marcada, ya no tienes que preocuparte por ello. \n",
        "\n",
        "En el caso de usar Visual Studio Code, este puede encontrar automáticamente la distintas distribuciones de Python que tengamos instaladas y si abrimos un terminal, este se adaptará automáticamente al entorno Python que hayamos seleccionado. \n",
        "\n",
        "![](https://raw.githubusercontent.com/microsoft/vscode-python/main/images/InterpreterSelectionZoom.gif)\n",
        "\n",
        "Ahora ya puedes instalar Ahkab:\n",
        "\n",
        " ```\n",
        " (base) $ pip install ahkab\n",
        " ``` "
      ],
      "metadata": {
        "nteract": {
          "transient": {
            "deleting": false
          }
        }
      }
    },
    {
      "cell_type": "markdown",
      "source": [
        "También puedes instalar Ahkab directamente desde este mismo notebook:"
      ],
      "metadata": {}
    },
    {
      "cell_type": "code",
      "source": [
        "!pip install ahkab"
      ],
      "outputs": [
        {
          "output_type": "stream",
          "name": "stdout",
          "text": [
            "Requirement already satisfied: ahkab in /usr/local/anaconda3/lib/python3.8/site-packages (0.18)\n",
            "Requirement already satisfied: scipy>=0.14.0 in /usr/local/anaconda3/lib/python3.8/site-packages (from ahkab) (1.5.2)\n",
            "Requirement already satisfied: tabulate>=0.7.3 in /usr/local/anaconda3/lib/python3.8/site-packages (from ahkab) (0.8.7)\n",
            "Requirement already satisfied: sympy>=0.7.6 in /usr/local/anaconda3/lib/python3.8/site-packages (from ahkab) (1.6.2)\n",
            "Requirement already satisfied: numpy>1.7.0 in /usr/local/anaconda3/lib/python3.8/site-packages (from ahkab) (1.19.2)\n",
            "Requirement already satisfied: mpmath>=0.19 in /usr/local/anaconda3/lib/python3.8/site-packages (from sympy>=0.7.6->ahkab) (1.1.0)\n"
          ]
        }
      ],
      "execution_count": 90,
      "metadata": {
        "execution": {
          "iopub.execute_input": "2021-01-06T22:52:34.849Z",
          "iopub.status.busy": "2021-01-06T22:52:34.815Z",
          "iopub.status.idle": "2021-01-06T22:52:34.951Z",
          "shell.execute_reply": "2021-01-06T22:52:47.876Z"
        }
      }
    },
    {
      "cell_type": "markdown",
      "source": [
        "\n",
        " Como siempre, una vez instalado cualquier framework para Python, ya lo podemos utilizar, tanto desde el [REPL](https://en.wikipedia.org/wiki/Read–eval–print_loop) como desde un entorno Jupyter (Jupyter, [Jupyterlab](http://jupyterlab.readthedocs.io/en/stable/), VS Code o nteract). Recuerda que para usar el kernel Python (que viene con Anaconda) desde nteract debes seguir las instrucciones que se indican en su [documentación oficial](https://nteract.io/kernels). "
      ],
      "metadata": {}
    },
    {
      "cell_type": "markdown",
      "source": [
        "Como vamos a pintar algunas gráficas, necesitamos instlar [matplotlib](https://matplotlib.org). Al igual que con Ahkab, esto lo podemos hacer directamente desde este mismo notebook. Si hemos usado Anaconda: "
      ],
      "metadata": {}
    },
    {
      "cell_type": "code",
      "source": [
        "!conda install -y -c conda-forge matplotlib"
      ],
      "outputs": [
        {
          "output_type": "stream",
          "name": "stdout",
          "text": [
            "Collecting package metadata (current_repodata.json): - \b\b\\ \b\b| \b\b/ \b\b- \b\b\\ \b\b| \b\b/ \b\b- \b\b\\ \b\b| \b\b/ \b\b- \b\b\\ \b\b| \b\b/ \b\b- \b\b\\ \b\b| \b\b/ \b\b- \b\b\\ \b\b| \b\b/ \b\b- \b\b\\ \b\b| \b\b/ \b\b- \b\b\\ \b\b| \b\b/ \b\b- \b\b\\ \b\b| \b\b/ \b\b- \b\b\\ \b\b| \b\b/ \b\b- \b\b\\ \b\b| \b\b/ \b\b- \b\b\\ \b\b| \b\b/ \b\b- \b\b\\ \b\b| \b\b/ \b\b- \b\b\\ \b\b| \b\b/ \b\b- \b\b\\ \b\b| \b\b/ \b\b- \b\b\\ \b\b| \b\b/ \b\b- \b\b\\ \b\b| \b\b/ \b\b- \b\b\\ \b\b| \b\b/ \b\b- \b\b\\ \b\b| \b\bdone\n",
            "Solving environment: - \b\b\\ \b\b| \b\b/ \b\b- \b\b\\ \b\b| \b\b/ \b\b- \b\b\\ \b\b| \b\b/ \b\b- \b\b\\ \b\b| \b\b/ \b\b- \b\b\\ \b\b| \b\b/ \b\b- \b\b\\ \b\b| \b\b/ \b\b- \b\b\\ \b\b| \b\b/ \b\b- \b\b\\ \b\b| \b\b/ \b\b- \b\bdone\n",
            "\n",
            "# All requested packages already installed.\n",
            "\n"
          ]
        }
      ],
      "execution_count": 91,
      "metadata": {
        "execution": {
          "iopub.execute_input": "2021-01-06T22:52:35.027Z",
          "iopub.status.busy": "2021-01-06T22:52:34.997Z",
          "iopub.status.idle": "2021-01-06T22:52:37.224Z",
          "shell.execute_reply": "2021-01-06T22:52:47.890Z"
        }
      }
    },
    {
      "cell_type": "code",
      "source": [
        "import pylab as plt\n",
        "import ahkab"
      ],
      "outputs": [],
      "execution_count": 92,
      "metadata": {
        "execution": {
          "iopub.execute_input": "2021-01-06T22:52:37.303Z",
          "iopub.status.busy": "2021-01-06T22:52:37.274Z",
          "iopub.status.idle": "2021-01-06T22:52:37.347Z",
          "shell.execute_reply": "2021-01-06T22:52:47.905Z"
        }
      }
    },
    {
      "cell_type": "markdown",
      "source": [
        "> **Pregunta:** ¿Qué es y para qué sirve PyLab?\n",
        "\n",
        "**PyLab** es un conglomerado de varias librerías entre las que se incluyen **numpy**, **scipy**, **sympy**, **pandas**, **matplotlib** y **ipython**. \n",
        "\n",
        "Con esta suite podremos usar de manera muy parecida al interprete de Python como si de MatLab se tratara y hacer nuestros .py como si fueran scripts de MatLab.\n",
        "\n",
        "La ventaja, es que PyLab es Open Source y MatLab, es propiedad de la empresa [MathWorks](https://www.mathworks.com/products/matlab.html). "
      ],
      "metadata": {}
    },
    {
      "cell_type": "markdown",
      "source": [
        " ## Circuitos sencillos para trabjar con la ley de Ohm:\n",
        "\n",
        " La *mal llamada* ley de Ohm reza que el voltaje (la *energía por unidad de carga*) que se disipa en un tramo de un circuito eléctrico es equivalente a la intensidad ($I$) de la corriente (es decir, cuántos electrones circulan por unidad de tiempo) por la resistencia del material ($R$) en el que está desplazándose dicha corriente. Matemáticamente:\n",
        "\n",
        " $$\n",
        " V = I\\cdot R\n",
        " $$\n",
        "\n",
        " > **Pregunta:** comprueba que la ecuación anterior está ajustada a nivel dimensional, es decir, que la naturaleza de lo que está a ambos lados del signo igual es la misma. Realiza este ejercicio con LaTeX en una celda Markdown.\n",
        "\n"
      ],
      "metadata": {
        "nteract": {
          "transient": {
            "deleting": false
          }
        }
      }
    },
    {
      "cell_type": "markdown",
      "source": [
        "## Ley de Ohm :##\n",
        "$ V = I \\cdot R$\n",
        "\n",
        "---\n",
        "### $V$ (voltaje) ###\n",
        "El voltio se define de forma equivalente como la diferencia de potencial existente entre dos puntos tales que hay que realizar un trabajo de 1 J para trasladar del uno al otro la carga de 1 C.\n",
        "\n",
        "$ V = \\frac{J}{C}$\n",
        "\n",
        "### $I$ (intensidad) ###\n",
        "El amperio es una unidad básica, junto con el metro, el segundo, y el kilogramo.5​Su definición no depende de la cantidad de carga eléctrica, sino que a la inversa, el culombio es una unidad derivada definida como la cantidad de carga desplazada por una corriente de un amperio en un período de tiempo de un segundo.\n",
        "\n",
        "$I = \\frac{C}{s}$\n",
        "\n",
        "### $R$ (resistencia) ###\n",
        "Se define a un ohmio como la resistencia eléctrica que existe entre dos puntos de un conductor, cuando una diferencia de potencial constante de 1 voltio aplicada entre estos dos puntos, produce, en dicho conductor, una corriente de intensidad de 1 amperio (cuando no haya fuerza electromotriz en el conductor).\n",
        "\n",
        "$R = \\frac{J \\cdot s}{C^2}$\n",
        "\n",
        "---\n",
        "\n",
        "Por lo tanto, si $V = I \\cdot R$:\n",
        "$$ \\frac{J}{C} = \\frac{C}{s} \\cdot \\frac{J \\cdot s}{C^2} $$\n",
        "\n",
        "reordenando: \n",
        "$$ \\frac{J}{C} = \\frac{s \\cdot C \\cdot J}{s \\cdot C^2} $$\n",
        "\n",
        "y despejando $s$ y $C$ obtenemos:\n",
        "\n",
        "$$ \\frac{J}{C} = \\frac{J}{C} $$\n",
        "\n",
        "---\n",
        "\n",
        "**Queda demostrado que la naturaleza de lo que está a ambos lados del signo igual es la misma.**\n",
        "\n",
        "\n"
      ],
      "metadata": {
        "nteract": {
          "transient": {
            "deleting": false
          }
        }
      }
    },
    {
      "cell_type": "markdown",
      "source": [
        "Comencemos con el circuito más sencillo posible de todos:\n",
        "\n",
        "![](https://raw.githubusercontent.com/pammacdotnet/spicelab/master/primer%20circuito.svg?sanitize=true)\n",
        "\n",
        "Vamos a escribir su contenido (componentes o *netlist*) en disco con el nombre `circuito sencillo.sp`. Esto lo podemos lograr directamente y en tiempo real desde una celda de Jupyter gracias a los *comandos mágicos* de este entorno de programación literaria. En concreto vamos a utilizar `%%writefile` que guarda los contenidos de una celda como un fichero. "
      ],
      "metadata": {
        "nteract": {
          "transient": {
            "deleting": false
          }
        }
      }
    },
    {
      "cell_type": "code",
      "source": [
        "%%writefile \"circuito sencillo.sp\"\n",
        "* Este es un circuito sencillo\n",
        "r1 1 0 100\n",
        "v1 0 1 type=vdc vdc=9\n",
        ".op\n",
        ".dc v1 start=0 stop=9 step=1\n",
        ".end\n"
      ],
      "outputs": [
        {
          "output_type": "stream",
          "name": "stdout",
          "text": [
            "Overwriting circuito sencillo.sp\n"
          ]
        }
      ],
      "execution_count": 93,
      "metadata": {
        "execution": {
          "iopub.execute_input": "2021-01-06T22:52:37.423Z",
          "iopub.status.busy": "2021-01-06T22:52:37.394Z",
          "iopub.status.idle": "2021-01-06T22:52:37.485Z",
          "shell.execute_reply": "2021-01-06T22:52:47.919Z"
        }
      }
    },
    {
      "cell_type": "markdown",
      "source": [
        "Ahora vamos a leer su descripción con Ahkab, interpretar y ejecutar las simulaciones que en él estén descritas."
      ],
      "metadata": {}
    },
    {
      "cell_type": "code",
      "source": [
        "circuito_y_análisis = ahkab.netlist_parser.parse_circuit('circuito sencillo.sp')"
      ],
      "outputs": [],
      "execution_count": 94,
      "metadata": {
        "execution": {
          "iopub.execute_input": "2021-01-06T22:52:37.567Z",
          "iopub.status.busy": "2021-01-06T22:52:37.533Z",
          "iopub.status.idle": "2021-01-06T22:52:37.620Z",
          "shell.execute_reply": "2021-01-06T22:52:47.934Z"
        }
      }
    },
    {
      "cell_type": "markdown",
      "source": [
        " Separamos la información del netlist (componentes) de los análisis (uno de tipo `op` y otro de tipo `dc`):"
      ],
      "metadata": {}
    },
    {
      "cell_type": "code",
      "source": [
        "circuito = circuito_y_análisis[0]\n",
        "análisis_en_netlist = circuito_y_análisis[1]\n",
        "lista_de_análisis = ahkab.netlist_parser.parse_analysis(circuito, análisis_en_netlist)\n",
        "print(lista_de_análisis)\n"
      ],
      "outputs": [
        {
          "output_type": "stream",
          "name": "stdout",
          "text": [
            "[{'type': 'op', 'guess': True, 'x0': None}, {'type': 'dc', 'source': 'v1', 'start': 0.0, 'stop': 9.0, 'step': 1.0, 'sweep_type': 'LIN'}]\n"
          ]
        }
      ],
      "execution_count": 95,
      "metadata": {
        "execution": {
          "iopub.execute_input": "2021-01-06T22:52:37.712Z",
          "iopub.status.busy": "2021-01-06T22:52:37.682Z",
          "iopub.status.idle": "2021-01-06T22:52:37.782Z",
          "shell.execute_reply": "2021-01-06T22:52:47.948Z"
        }
      }
    },
    {
      "cell_type": "markdown",
      "source": [
        "> **Pregunta:** ¿qué tipo de estructura de Python es `lista_de_análisis`?\n",
        "\n",
        "La ejecución de ```print(lista_de_análisis)```, arroja una estructura ```[{},{}]```\n",
        "\n",
        "La estructura, al estar contenida entre corchetes, se conoce en python como *'lista'*.\n",
        "\n",
        "El interior de la estructura, esta formado por dos series de datos entre llaves *{}*, conocido en python como *'diccionarios'*.\n",
        "\n",
        "---\n",
        "Las simulaciones que implican listas de datos (`.dc`, `.tran`, etc.) necesitan de un fichero temporal (`outfile`)\n",
        " donde almacenar los resultados. Para ello tenemos que definir la propiedad `outfile`."
      ],
      "metadata": {}
    },
    {
      "cell_type": "markdown",
      "source": [
        " > **Pregunta:** escribe el código Python necesario para identificar qué análisis de `lista_de_análisis`\n",
        " son de tipo `dc` ó `tran` y sólo añadir la propiedad `outfile` en estos casos.\n",
        "Aquí tenéis un post de Stackoverflow con algo de [ayuda](https://stackoverflow.com/questions/49194107/how-to-find-index-of-a-dictionary-key-value-within-a-list-python).\n",
        " Un poco más de ayuda: el siguiente código (sí, una única línea) devuelve el índice de la simulación que es de tipo `dc`. Para simplificar un poco el ejercicio, suponed que, como máximo, habrá un análisis de tipo `tran` y/o `dc`."
      ],
      "metadata": {}
    },
    {
      "cell_type": "code",
      "source": [
        "tipo = [i for i, d in enumerate(lista_de_análisis) if \"dc\" in d.values() or \"trans\" in d.values()][0]\n",
        "\n",
        "if tipo == 1:\n",
        "    lista_de_análisis[1]['outfile'] = \"simulación dc.tsv\"\n",
        "else:\n",
        "    print(\"No hay tipos 'dc' o 'trans'\")"
      ],
      "outputs": [],
      "execution_count": 96,
      "metadata": {
        "execution": {
          "iopub.execute_input": "2021-01-06T22:52:37.867Z",
          "iopub.status.busy": "2021-01-06T22:52:37.833Z",
          "iopub.status.idle": "2021-01-06T22:52:37.918Z",
          "shell.execute_reply": "2021-01-06T22:52:47.962Z"
        }
      }
    },
    {
      "cell_type": "markdown",
      "source": [
        "Una vez que ya hemos separado netlists de simulaciones, ahora ejecutamos las segundas (¡todas a la vez!) gracias al método `.run` de Ahkab: "
      ],
      "metadata": {}
    },
    {
      "cell_type": "code",
      "source": [
        "resultados = ahkab.run(circuito, lista_de_análisis)\n"
      ],
      "outputs": [
        {
          "output_type": "stream",
          "name": "stdout",
          "text": [
            "Starting op analysis:\n",
            "Calculating guess: skipped. (linear circuit)\n",
            "Solving...  -\b\\\b done.\n",
            "Solving...  -\b\\\b done.\n",
            "Difference check within margins.\n",
            "(Voltage: er=0.001, ea=1e-06, Current: er=0.001, ea=1e-09)\n",
            "Starting DC analysis:\n",
            "Solving...  -\b\\\b|\b/\b-\b\\\b|\b/\b-\b\\\b|\bdone\n"
          ]
        }
      ],
      "execution_count": 97,
      "metadata": {
        "execution": {
          "iopub.execute_input": "2021-01-06T22:52:38.005Z",
          "iopub.status.busy": "2021-01-06T22:52:37.969Z",
          "iopub.status.idle": "2021-01-06T22:52:38.580Z",
          "shell.execute_reply": "2021-01-06T22:52:47.977Z"
        }
      }
    },
    {
      "cell_type": "markdown",
      "source": [
        "### Resultados de la simulación `.dc`\n",
        "Imprimimos información sobre la simulación de tipo `.dc`:"
      ],
      "metadata": {}
    },
    {
      "cell_type": "code",
      "source": [
        "print(resultados['dc'])"
      ],
      "outputs": [
        {
          "output_type": "stream",
          "name": "stdout",
          "text": [
            "<DC simulation results for '* este es un circuito sencillo' (netlist circuito sencillo.sp). LIN sweep of V1 from 0 to 9 V. Run on 2021-01-06 22:52:08, data file simulación dc.tsv>\n"
          ]
        }
      ],
      "execution_count": 98,
      "metadata": {
        "execution": {
          "iopub.execute_input": "2021-01-06T22:52:38.665Z",
          "iopub.status.busy": "2021-01-06T22:52:38.631Z",
          "iopub.status.idle": "2021-01-06T22:52:38.735Z",
          "shell.execute_reply": "2021-01-06T22:52:47.994Z"
        }
      }
    },
    {
      "cell_type": "markdown",
      "source": [
        " Veamos qué variables podemos dibujar para el caso del análisis `dc`."
      ],
      "metadata": {}
    },
    {
      "cell_type": "code",
      "source": [
        "print(resultados['dc'].keys())"
      ],
      "outputs": [
        {
          "output_type": "stream",
          "name": "stdout",
          "text": [
            "['V1', 'V1', 'I(V1)']\n"
          ]
        }
      ],
      "execution_count": 99,
      "metadata": {
        "execution": {
          "iopub.execute_input": "2021-01-06T22:52:38.831Z",
          "iopub.status.busy": "2021-01-06T22:52:38.797Z",
          "iopub.status.idle": "2021-01-06T22:52:38.894Z",
          "shell.execute_reply": "2021-01-06T22:52:48.010Z"
        }
      }
    },
    {
      "cell_type": "markdown",
      "source": [
        "Y ahora graficamos el resultado del análisis anterior. Concretamente vamos a representar el voltaje en el borne 1 (`V1`) con respecto a la intensidad del circuito (`I(V1)`)."
      ],
      "metadata": {}
    },
    {
      "cell_type": "code",
      "source": [
        "figura = plt.figure()\n",
        "plt.title(\"Prueba DC\")\n",
        "plt.xlabel('Voltaje (voltios)')\n",
        "plt.ylabel('Intensidad (amperios)')\n",
        "plt.plot(resultados['dc']['V1'], resultados['dc']['I(V1)'], 'bo-', label='I = V/R')\n",
        "plt.legend()\n",
        "plt.show()"
      ],
      "outputs": [
        {
          "output_type": "display_data",
          "data": {
            "text/plain": "<Figure size 1440x360 with 1 Axes>",
            "image/png": "[encoded data removed]"
          },
          "metadata": {
            "needs_background": "light"
          }
        }
      ],
      "execution_count": 100,
      "metadata": {
        "execution": {
          "iopub.execute_input": "2021-01-06T22:52:38.969Z",
          "iopub.status.busy": "2021-01-06T22:52:38.939Z",
          "iopub.status.idle": "2021-01-06T22:52:39.026Z",
          "shell.execute_reply": "2021-01-06T22:52:48.024Z"
        }
      }
    },
    {
      "cell_type": "markdown",
      "source": [
        "> **Pregunta:** comenta la gráfica anterior… ¿qué estamos viendo exactamente? \n",
        "\n",
        "Estamos viendo una representación gráfica de la Ley de Ohm, y se comprueba que existe un diferencial de intensidad, relaccionado directamente con el diferencial de voltaje, manteniendo constante la resistencia: $\\Delta I = \\frac{\\Delta V}{R}$\n",
        "\n",
        "> ¿Qué biblioteca estamos usando para graficar? \n",
        "\n",
        "La primera linea de código Python de este trabajo es: ```import pylab as plt``` \n",
        "\n",
        "Con esta orden, se carga la bibliteca **pylab** en la variable **plt**.\n",
        "\n",
        "**PyLab** que es un conglomerado de varias librerías entre las que se incluyen *numpy, scipy, sympy, pandas, matplotlib, ipython*. Con esta suite podremos usar de manera muy parecida al interprete de *Python* como si de *MatLab* se tratara y hacer nuestros .py como si fueran **scripts de MatLab**.\n",
        "\n",
        "**Importante**: *PyLab* es **Open Source**."
      ],
      "metadata": {}
    },
    {
      "cell_type": "markdown",
      "source": [
        " ### Resultados de la simulación `.op` \n",
        " El método `.results` nos devuelve un diccionario con los resultados de la simulación."
      ],
      "metadata": {}
    },
    {
      "cell_type": "code",
      "source": [
        "print(resultados['op'].results)"
      ],
      "outputs": [
        {
          "output_type": "stream",
          "name": "stdout",
          "text": [
            "{V1: -9.0, I(V1): -0.09}\n"
          ]
        }
      ],
      "execution_count": 101,
      "metadata": {
        "execution": {
          "iopub.execute_input": "2021-01-06T22:52:39.092Z",
          "iopub.status.busy": "2021-01-06T22:52:39.068Z",
          "iopub.status.idle": "2021-01-06T22:52:39.141Z",
          "shell.execute_reply": "2021-01-06T22:52:48.040Z"
        }
      }
    },
    {
      "cell_type": "markdown",
      "source": [
        " > **Pregunta:** justifica el sencillo resultado anterior (análisis `op`). Repite el cálculo con Sympy, atendiendo con mimo a las unidades y al formateo de los resultados (tal y como hemos visto en muchos otros notebooks en clase).\n",
        " \n",
        "El circuito esta compuesto por una pila de $9V$ y una resistencia de 100 $\\Omega$.\n",
        "\n",
        "La tensión en el borne $V1 = -9V$\n",
        "\n",
        "$$\n",
        "I = \\frac{V}{R} = \\frac{-9}{100} = -0.09 A\n",
        "$$"
      ],
      "metadata": {}
    },
    {
      "cell_type": "code",
      "source": [
        "# Cargamos las librerias necesarias\n",
        "from sympy.physics.units import ohms, amperes, volts\n",
        "from sympy.physics.units import convert_to\n",
        "from sympy import sympify\n",
        "\n",
        "R = 100*ohms\n",
        "V = resultados['op'].results['V1']*volts\n",
        "I = convert_to(V/R, [amperes]).n(2)\n",
        "print (\"I = V/R = -9 V / 100\",'\\u03A9',\" = \")\n",
        "I\n",
        "\n"
      ],
      "outputs": [
        {
          "output_type": "stream",
          "name": "stdout",
          "text": [
            "I = V/R = -9 V / 100 Ω  = \n"
          ]
        },
        {
          "output_type": "execute_result",
          "execution_count": 102,
          "data": {
            "text/plain": "-0.09*ampere",
            "text/latex": "$\\displaystyle - 0.09 \\text{A}$"
          },
          "metadata": {}
        }
      ],
      "execution_count": 102,
      "metadata": {
        "execution": {
          "iopub.execute_input": "2021-01-06T22:52:39.208Z",
          "iopub.status.busy": "2021-01-06T22:52:39.179Z",
          "iopub.status.idle": "2021-01-06T22:52:39.293Z",
          "shell.execute_reply": "2021-01-06T22:52:48.055Z"
        },
        "jupyter": {
          "outputs_hidden": false,
          "source_hidden": false
        },
        "nteract": {
          "transient": {
            "deleting": false
          }
        }
      }
    },
    {
      "cell_type": "markdown",
      "source": [
        "## Resolución del mismo circuito pero con LTspice\n",
        "¿Cómo? ¿Es esto posible? ¿Desde Jupyter? Sí!!! Pero primero, por comodidad, deberíamos crear un alias del comando que apunte a nuestro ejecutable. Además, con un poco de inteligencia, podemos adelantarnos al hecho de si estamos en Windows o macOS:"
      ],
      "metadata": {}
    },
    {
      "cell_type": "code",
      "source": [
        "import platform\n",
        "%alias lts /Applications/LTspice.app/Contents/MacOS/LTspice -ascii -b\n",
        "if platform.system() == \"Windows\":\n",
        "    %alias lts C:\\Program Files\\LTC\\LTspiceXVII\\XVIIx64.exe -ascii -b"
      ],
      "outputs": [],
      "execution_count": 103,
      "metadata": {
        "execution": {
          "iopub.execute_input": "2021-01-06T22:52:39.355Z",
          "iopub.status.busy": "2021-01-06T22:52:39.330Z",
          "iopub.status.idle": "2021-01-06T22:52:39.392Z",
          "shell.execute_reply": "2021-01-06T22:52:48.069Z"
        }
      }
    },
    {
      "cell_type": "markdown",
      "source": [
        "**Pregunta**: ¿Qué significan las opciones `-b` y `-ascii`?\n",
        "\n",
        "Al crear el *alias* con la opción **-ascii**, se puede leer los archivos ```*.raw``` escritos en ASCII. Activar esta facultad degrada el rendimiento del programa.\n",
        "\n",
        "Al crear el *alias* con la opción **-b**, dejará los datos en el archivo ```*.raw```."
      ],
      "metadata": {}
    },
    {
      "cell_type": "markdown",
      "source": [
        "También tenemos que cambiar ligeramente la sintaxis. Ejecuta esta línea para que se escriba el fichero siguiente. Para LTspice, vamos a reservar la extensión `.net`:"
      ],
      "metadata": {}
    },
    {
      "cell_type": "code",
      "source": [
        "%%writefile \"circuito sencillo.net\"\n",
        "* Este es un circuito sencillo adaptado para LTspice\n",
        "r1 1 0 100\n",
        "v1 0 1 9\n",
        ".op\n",
        "* Comentamos el análisis .dc para centrarnos primero en el .op\n",
        "* .dc v1 1 10 \n",
        ".end"
      ],
      "outputs": [
        {
          "output_type": "stream",
          "name": "stdout",
          "text": [
            "Overwriting circuito sencillo.net\n"
          ]
        }
      ],
      "execution_count": 104,
      "metadata": {
        "execution": {
          "iopub.execute_input": "2021-01-06T22:52:39.456Z",
          "iopub.status.busy": "2021-01-06T22:52:39.432Z",
          "iopub.status.idle": "2021-01-06T22:52:39.504Z",
          "shell.execute_reply": "2021-01-06T22:52:48.084Z"
        }
      }
    },
    {
      "cell_type": "markdown",
      "source": [
        "Ejecutamos LTspice con el circuito (de la misma manera que antes habíamos hecho con Ahkab)."
      ],
      "metadata": {}
    },
    {
      "cell_type": "code",
      "source": [
        "lts \"circuito sencillo.net\""
      ],
      "outputs": [],
      "execution_count": 105,
      "metadata": {
        "execution": {
          "iopub.execute_input": "2021-01-06T22:52:39.566Z",
          "iopub.status.busy": "2021-01-06T22:52:39.540Z",
          "iopub.status.idle": "2021-01-06T22:52:39.605Z",
          "shell.execute_reply": "2021-01-06T22:52:48.098Z"
        }
      }
    },
    {
      "cell_type": "markdown",
      "source": [
        "Veamos el contenido de la simulación."
      ],
      "metadata": {}
    },
    {
      "cell_type": "code",
      "source": [
        "!cat 'circuito sencillo.log'"
      ],
      "outputs": [
        {
          "output_type": "stream",
          "name": "stdout",
          "text": [
            "C\u0000i\u0000r\u0000c\u0000u\u0000i\u0000t\u0000:\u0000 \u0000*\u0000 \u0000E\u0000s\u0000t\u0000e\u0000 \u0000e\u0000s\u0000 \u0000u\u0000n\u0000 \u0000c\u0000i\u0000r\u0000c\u0000u\u0000i\u0000t\u0000o\u0000 \u0000s\u0000e\u0000n\u0000c\u0000i\u0000l\u0000l\u0000o\u0000 \u0000a\u0000d\u0000a\u0000p\u0000t\u0000a\u0000d\u0000o\u0000 \u0000p\u0000a\u0000r\u0000a\u0000 \u0000L\u0000T\u0000s\u0000p\u0000i\u0000c\u0000e\u0000\r\n",
            "\u0000\r\n",
            "\u0000D\u0000i\u0000r\u0000e\u0000c\u0000t\u0000 \u0000N\u0000e\u0000w\u0000t\u0000o\u0000n\u0000 \u0000i\u0000t\u0000e\u0000r\u0000a\u0000t\u0000i\u0000o\u0000n\u0000 \u0000f\u0000o\u0000r\u0000 \u0000.\u0000o\u0000p\u0000 \u0000p\u0000o\u0000i\u0000n\u0000t\u0000 \u0000s\u0000u\u0000c\u0000c\u0000e\u0000e\u0000d\u0000e\u0000d\u0000.\u0000\r\n",
            "\u0000O\u0000p\u0000e\u0000r\u0000a\u0000t\u0000i\u0000n\u0000g\u0000 \u0000B\u0000i\u0000a\u0000s\u0000 \u0000P\u0000o\u0000i\u0000n\u0000t\u0000 \u0000S\u0000o\u0000l\u0000u\u0000t\u0000i\u0000o\u0000n\u0000:\u0000\r\n",
            "\u0000V\u0000(\u0000)\u0000 \u0000 \u0000 \u0000 \u0000 \u0000 \u0000 \u0000 \u0000 \u0000 \u0000 \u0000 \u0000 \u0000 \u0000 \u0000 \u0000 \u0000-\u00009\u0000 \u0000 \u0000 \u0000v\u0000o\u0000l\u0000t\u0000a\u0000g\u0000e\u0000\r\n",
            "\u0000I\u0000(\u0000R\u00001\u0000)\u0000 \u0000 \u0000 \u0000 \u0000 \u0000 \u0000 \u0000 \u0000 \u0000 \u0000 \u0000 \u0000 \u0000 \u0000-\u00000\u0000.\u00000\u00009\u0000 \u0000 \u0000 \u0000d\u0000e\u0000v\u0000i\u0000c\u0000e\u0000_\u0000c\u0000u\u0000r\u0000r\u0000e\u0000n\u0000t\u0000\r\n",
            "\u0000I\u0000(\u0000V\u00001\u0000)\u0000 \u0000 \u0000 \u0000 \u0000 \u0000 \u0000 \u0000 \u0000 \u0000 \u0000 \u0000 \u0000 \u0000 \u0000-\u00000\u0000.\u00000\u00009\u0000 \u0000 \u0000 \u0000d\u0000e\u0000v\u0000i\u0000c\u0000e\u0000_\u0000c\u0000u\u0000r\u0000r\u0000e\u0000n\u0000t\u0000\r\n",
            "\u0000\r\n",
            "\u0000\r\n",
            "\u0000D\u0000a\u0000t\u0000e\u0000:\u0000 \u0000W\u0000e\u0000d\u0000 \u0000J\u0000a\u0000n\u0000 \u0000 \u00006\u0000 \u00002\u00003\u0000:\u00005\u00002\u0000:\u00000\u00009\u0000 \u00002\u00000\u00002\u00001\u0000\r\n",
            "\u0000T\u0000o\u0000t\u0000a\u0000l\u0000 \u0000e\u0000l\u0000a\u0000p\u0000s\u0000e\u0000d\u0000 \u0000t\u0000i\u0000m\u0000e\u0000:\u0000 \u00000\u0000.\u00000\u00000\u00008\u0000 \u0000s\u0000e\u0000c\u0000o\u0000n\u0000d\u0000s\u0000.\u0000\r\n",
            "\u0000\r\n",
            "\u0000t\u0000n\u0000o\u0000m\u0000 \u0000=\u0000 \u00002\u00007\u0000\r\n",
            "\u0000t\u0000e\u0000m\u0000p\u0000 \u0000=\u0000 \u00002\u00007\u0000\r\n",
            "\u0000m\u0000e\u0000t\u0000h\u0000o\u0000d\u0000 \u0000=\u0000 \u0000t\u0000r\u0000a\u0000p\u0000\r\n",
            "\u0000t\u0000o\u0000t\u0000i\u0000t\u0000e\u0000r\u0000 \u0000=\u0000 \u00003\u0000\r\n",
            "\u0000t\u0000r\u0000a\u0000n\u0000i\u0000t\u0000e\u0000r\u0000 \u0000=\u0000 \u00000\u0000\r\n",
            "\u0000t\u0000r\u0000a\u0000n\u0000p\u0000o\u0000i\u0000n\u0000t\u0000s\u0000 \u0000=\u0000 \u00000\u0000\r\n",
            "\u0000a\u0000c\u0000c\u0000e\u0000p\u0000t\u0000 \u0000=\u0000 \u00000\u0000\r\n",
            "\u0000r\u0000e\u0000j\u0000e\u0000c\u0000t\u0000e\u0000d\u0000 \u0000=\u0000 \u00000\u0000\r\n",
            "\u0000m\u0000a\u0000t\u0000r\u0000i\u0000x\u0000 \u0000s\u0000i\u0000z\u0000e\u0000 \u0000=\u0000 \u00002\u0000\r\n",
            "\u0000f\u0000i\u0000l\u0000l\u0000i\u0000n\u0000s\u0000 \u0000=\u0000 \u00000\u0000\r\n",
            "\u0000s\u0000o\u0000l\u0000v\u0000e\u0000r\u0000 \u0000=\u0000 \u0000N\u0000o\u0000r\u0000m\u0000a\u0000l\u0000\r\n",
            "\u0000M\u0000a\u0000t\u0000r\u0000i\u0000x\u0000 \u0000C\u0000o\u0000m\u0000p\u0000i\u0000l\u0000e\u0000r\u00001\u0000:\u0000 \u0000 \u0000 \u0000 \u0000 \u0000 \u0000 \u00002\u0000 \u0000o\u0000p\u0000c\u0000o\u0000d\u0000e\u0000s\u0000\r\n",
            "\u0000M\u0000a\u0000t\u0000r\u0000i\u0000x\u0000 \u0000C\u0000o\u0000m\u0000p\u0000i\u0000l\u0000e\u0000r\u00002\u0000:\u0000 \u0000 \u0000 \u0000 \u0000 \u0000 \u0000 \u00009\u0000 \u0000o\u0000p\u0000c\u0000o\u0000d\u0000e\u0000s\u0000\r\n",
            "\u0000"
          ]
        }
      ],
      "execution_count": 106,
      "metadata": {
        "execution": {
          "iopub.execute_input": "2021-01-06T22:52:39.665Z",
          "iopub.status.busy": "2021-01-06T22:52:39.641Z",
          "iopub.status.idle": "2021-01-06T22:52:39.717Z",
          "shell.execute_reply": "2021-01-06T22:52:48.113Z"
        }
      }
    },
    {
      "cell_type": "markdown",
      "source": [
        "Ahora repitamos lo mismo para el análisis `.dc`:"
      ],
      "metadata": {}
    },
    {
      "cell_type": "code",
      "source": [
        "%%writefile \"circuito sencillo.net\"\n",
        "* Este es un circuito sencillo adaptado para LTspice\n",
        "r1 1 0 100\n",
        "v1 0 1 9\n",
        "* Ahora obviamos el análisis .op\n",
        "* .op\n",
        ".dc v1 1 10 \n",
        ".end\n"
      ],
      "outputs": [
        {
          "output_type": "stream",
          "name": "stdout",
          "text": [
            "Overwriting circuito sencillo.net\n"
          ]
        }
      ],
      "execution_count": 107,
      "metadata": {
        "execution": {
          "iopub.execute_input": "2021-01-06T22:52:39.784Z",
          "iopub.status.busy": "2021-01-06T22:52:39.758Z",
          "iopub.status.idle": "2021-01-06T22:52:39.835Z",
          "shell.execute_reply": "2021-01-06T22:52:48.127Z"
        }
      }
    },
    {
      "cell_type": "code",
      "source": [
        "lts \"circuito sencillo.net\""
      ],
      "outputs": [],
      "execution_count": 108,
      "metadata": {
        "execution": {
          "iopub.execute_input": "2021-01-06T22:52:39.895Z",
          "iopub.status.busy": "2021-01-06T22:52:39.871Z",
          "iopub.status.idle": "2021-01-06T22:52:39.931Z",
          "shell.execute_reply": "2021-01-06T22:52:48.143Z"
        }
      }
    },
    {
      "cell_type": "markdown",
      "source": [
        "Al ejecutar esta simulación, se genera un fichero `.raw` con los resultados. Es muy parecido al `outfile` que hemos empleado antes con Ahkab. Para leer este fichero, tenemos que usar el paquete [ltspice de Python](https://github.com/DongHoonPark/ltspice_pytool), el cual podéis instalar directamente desde Jupyter:"
      ],
      "metadata": {}
    },
    {
      "cell_type": "code",
      "source": [
        "!pip install ltspice"
      ],
      "outputs": [
        {
          "output_type": "stream",
          "name": "stdout",
          "text": [
            "Requirement already satisfied: ltspice in /usr/local/anaconda3/lib/python3.8/site-packages (1.0.0)\r\n",
            "Requirement already satisfied: numpy in /usr/local/anaconda3/lib/python3.8/site-packages (from ltspice) (1.19.2)\r\n"
          ]
        }
      ],
      "execution_count": 109,
      "metadata": {
        "execution": {
          "iopub.execute_input": "2021-01-06T22:52:40.003Z",
          "iopub.status.busy": "2021-01-06T22:52:39.968Z",
          "iopub.status.idle": "2021-01-06T22:52:40.053Z",
          "shell.execute_reply": "2021-01-06T22:52:48.161Z"
        }
      }
    },
    {
      "cell_type": "markdown",
      "source": [
        "Ahora ya podemos leer este fichero `.raw` y pintar una recta de voltaje muy parecida a la que obtuvimos anteriormente con Ahkab:"
      ],
      "metadata": {}
    },
    {
      "cell_type": "code",
      "source": [
        "import ltspice\n",
        "l = ltspice.Ltspice(\"circuito sencillo.raw\")\n",
        "l.parse()\n",
        "time = l.get_time()\n",
        "V1 = l.get_data('V(1)')\n",
        "plt.title(\"Prueba DC\")\n",
        "plt.xlabel('Tiempo (segundos)')\n",
        "plt.ylabel('Voltaje (voltios)')\n",
        "plt.plot(time, V1, label='Voltaje en función del tiempo')\n",
        "plt.legend()\n",
        "plt.show()\n",
        "\n"
      ],
      "outputs": [
        {
          "output_type": "display_data",
          "data": {
            "text/plain": "<Figure size 1440x360 with 1 Axes>",
            "image/png": "[encoded data removed]"
          },
          "metadata": {
            "needs_background": "light"
          }
        }
      ],
      "execution_count": 110,
      "metadata": {
        "execution": {
          "iopub.execute_input": "2021-01-06T22:52:40.114Z",
          "iopub.status.busy": "2021-01-06T22:52:40.090Z",
          "iopub.status.idle": "2021-01-06T22:52:40.169Z",
          "shell.execute_reply": "2021-01-06T22:52:48.177Z"
        }
      }
    },
    {
      "cell_type": "markdown",
      "source": [
        "** En resumen: ** hemos usado dos *compiladores* Spice distintos para hacer el mismo ejercicio. De igual manera podríamos haber usado [Ngspice](http://ngspice.sourceforge.net) u otro. De hecho, podíamos haber usado Ahkab en modo comando. Si tenemos correctamente instalado este framework, en princpio podemos invocarlo [directamente desde línea de comandos](https://ahkab.readthedocs.io/en/latest/help/Command-Line-Help.html):"
      ],
      "metadata": {}
    },
    {
      "cell_type": "code",
      "source": [
        "!ahkab \"circuito sencillo.sp\""
      ],
      "outputs": [
        {
          "output_type": "stream",
          "name": "stdout",
          "text": [
            "W: Locale appears not set! please export LANG=\"en_US.UTF-8\" or equivalent, \n",
            "W: or ahkab's unicode support is broken.\n",
            "2021-01-06 22:52:23\n",
            "ahkab v. 0.18 (c) 2006-2015 Giuseppe Venturini\n",
            "\n",
            "Operating Point (OP) analysis\n",
            "\n",
            "Netlist: circuito sencillo.sp\n",
            "Title: * este es un circuito sencillo\n",
            "At 300.00 K\n",
            "Options:\n",
            "\tvea = 1.000000e-06\n",
            "\tver = 0.001000\n",
            "\tiea = 1.000000e-09\n",
            "\tier = 0.001000\n",
            "\tgmin = 0.000000e+00\n",
            "\n",
            "Convergence reached in 2 iterations.\n",
            "\n",
            "========\n",
            "RESULTS:\n",
            "========\n",
            "\n",
            "Variable    Units      Value        Error    %\n",
            "----------  -------  -------  -----------  ---\n",
            "V1          V          -9     9.00001e-12    0\n",
            "I(V1)       A          -0.09  0              0\n",
            "\n",
            "========================\n",
            "ELEMENTS OP INFORMATION:\n",
            "========================\n",
            "\n",
            "Part ID      R [Ω]    V(n1,n2) [V]    I(n1->n2) [A]    P [W]\n",
            "---------  -------  --------------  ---------------  -------\n",
            "R1             100              -9            -0.09     0.81\n",
            "\n",
            "Part ID      V(n1,n2) [V]    I(n1->n2) [A]    P [W]\n",
            "---------  --------------  ---------------  -------\n",
            "V1                      9            -0.09    -0.81\n",
            "\n",
            "Total power dissipation: 0.81 W\n",
            "\n",
            "#V1\tV1\tI(V1)\n",
            "0.000000000000000000e+00\t0.000000000000000000e+00\t0.000000000000000000e+00\n",
            "1.000000000000000000e+00\t-1.000000000000000000e+00\t-1.000000000000000021e-02\n",
            "2.000000000000000000e+00\t-2.000000000000000000e+00\t-2.000000000000000042e-02\n",
            "3.000000000000000000e+00\t-3.000000000000000000e+00\t-2.999999999999999889e-02\n",
            "4.000000000000000000e+00\t-4.000000000000000000e+00\t-4.000000000000000083e-02\n",
            "5.000000000000000000e+00\t-5.000000000000000000e+00\t-5.000000000000000278e-02\n",
            "6.000000000000000000e+00\t-6.000000000000000000e+00\t-5.999999999999999778e-02\n",
            "7.000000000000000000e+00\t-7.000000000000000000e+00\t-7.000000000000000666e-02\n",
            "8.000000000000000000e+00\t-8.000000000000000000e+00\t-8.000000000000000167e-02\n",
            "9.000000000000000000e+00\t-9.000000000000000000e+00\t-8.999999999999999667e-02\n"
          ]
        }
      ],
      "execution_count": 111,
      "metadata": {
        "execution": {
          "iopub.execute_input": "2021-01-06T22:52:40.232Z",
          "iopub.status.busy": "2021-01-06T22:52:40.207Z",
          "iopub.status.idle": "2021-01-06T22:52:40.302Z",
          "shell.execute_reply": "2021-01-06T22:52:48.192Z"
        }
      }
    },
    {
      "cell_type": "code",
      "source": [
        "!ahkab \"circuito sencillo.sp\""
      ],
      "outputs": [
        {
          "output_type": "stream",
          "name": "stdout",
          "text": [
            "W: Locale appears not set! please export LANG=\"en_US.UTF-8\" or equivalent, \n",
            "W: or ahkab's unicode support is broken.\n",
            "2021-01-06 22:52:27\n",
            "ahkab v. 0.18 (c) 2006-2015 Giuseppe Venturini\n",
            "\n",
            "Operating Point (OP) analysis\n",
            "\n",
            "Netlist: circuito sencillo.sp\n",
            "Title: * este es un circuito sencillo\n",
            "At 300.00 K\n",
            "Options:\n",
            "\tvea = 1.000000e-06\n",
            "\tver = 0.001000\n",
            "\tiea = 1.000000e-09\n",
            "\tier = 0.001000\n",
            "\tgmin = 0.000000e+00\n",
            "\n",
            "Convergence reached in 2 iterations.\n",
            "\n",
            "========\n",
            "RESULTS:\n",
            "========\n",
            "\n",
            "Variable    Units      Value        Error    %\n",
            "----------  -------  -------  -----------  ---\n",
            "V1          V          -9     9.00001e-12    0\n",
            "I(V1)       A          -0.09  0              0\n",
            "\n",
            "========================\n",
            "ELEMENTS OP INFORMATION:\n",
            "========================\n",
            "\n",
            "Part ID      R [Ω]    V(n1,n2) [V]    I(n1->n2) [A]    P [W]\n",
            "---------  -------  --------------  ---------------  -------\n",
            "R1             100              -9            -0.09     0.81\n",
            "\n",
            "Part ID      V(n1,n2) [V]    I(n1->n2) [A]    P [W]\n",
            "---------  --------------  ---------------  -------\n",
            "V1                      9            -0.09    -0.81\n",
            "\n",
            "Total power dissipation: 0.81 W\n",
            "\n",
            "#V1\tV1\tI(V1)\n",
            "0.000000000000000000e+00\t0.000000000000000000e+00\t0.000000000000000000e+00\n",
            "1.000000000000000000e+00\t-1.000000000000000000e+00\t-1.000000000000000021e-02\n",
            "2.000000000000000000e+00\t-2.000000000000000000e+00\t-2.000000000000000042e-02\n",
            "3.000000000000000000e+00\t-3.000000000000000000e+00\t-2.999999999999999889e-02\n",
            "4.000000000000000000e+00\t-4.000000000000000000e+00\t-4.000000000000000083e-02\n",
            "5.000000000000000000e+00\t-5.000000000000000000e+00\t-5.000000000000000278e-02\n",
            "6.000000000000000000e+00\t-6.000000000000000000e+00\t-5.999999999999999778e-02\n",
            "7.000000000000000000e+00\t-7.000000000000000000e+00\t-7.000000000000000666e-02\n",
            "8.000000000000000000e+00\t-8.000000000000000000e+00\t-8.000000000000000167e-02\n",
            "9.000000000000000000e+00\t-9.000000000000000000e+00\t-8.999999999999999667e-02\n"
          ]
        }
      ],
      "execution_count": 112,
      "metadata": {
        "execution": {
          "iopub.execute_input": "2021-01-06T22:52:40.368Z",
          "iopub.status.busy": "2021-01-06T22:52:40.344Z",
          "iopub.status.idle": "2021-01-06T22:52:40.437Z",
          "shell.execute_reply": "2021-01-06T22:52:48.211Z"
        },
        "jupyter": {
          "outputs_hidden": false,
          "source_hidden": false
        },
        "nteract": {
          "transient": {
            "deleting": false
          }
        }
      }
    },
    {
      "cell_type": "markdown",
      "source": [
        " ## Análisis de circuito con resistencias en serie"
      ],
      "metadata": {}
    },
    {
      "cell_type": "markdown",
      "source": [
        "Vamos a resolver (en punto de operación) el siguiente circuito:\n",
        "\n",
        "![](https://raw.githubusercontent.com/pammacdotnet/spicelab/master/resistencias%20en%20serie.svg?sanitize=true)\n",
        "\n",
        "Al igual que antes, grabamos el netlist en disco desde Jupyter gracias a la *palabra mágica* [`%writefile`](https://ipython.readthedocs.io/en/stable/interactive/magics.html#cellmagic-writefile). "
      ],
      "metadata": {}
    },
    {
      "cell_type": "code",
      "source": [
        "%%writefile \"resistencias en serie.net\"\n",
        "* circuito con tres resistencias en serie\n",
        "v1 1 0 type=vdc vdc=9\n",
        "R1 0 2 3k\n",
        "R2 2 3 10k  \n",
        "R3 3 1 5k\n",
        "* análisis del circuito\n",
        ".op\n",
        ".end"
      ],
      "outputs": [
        {
          "output_type": "stream",
          "name": "stdout",
          "text": [
            "Overwriting resistencias en serie.net\n"
          ]
        }
      ],
      "execution_count": 113,
      "metadata": {
        "execution": {
          "iopub.execute_input": "2021-01-06T22:52:40.508Z",
          "iopub.status.busy": "2021-01-06T22:52:40.481Z",
          "iopub.status.idle": "2021-01-06T22:52:40.565Z",
          "shell.execute_reply": "2021-01-06T22:52:48.225Z"
        }
      }
    },
    {
      "cell_type": "code",
      "source": [
        "circuito_y_análisis = ahkab.netlist_parser.parse_circuit('resistencias en serie.net')\n",
        "circuito = circuito_y_análisis[0]       \n",
        "análisis_en_netlist = circuito_y_análisis[1]\n",
        "lista_de_análisis = ahkab.netlist_parser.parse_analysis(circuito, análisis_en_netlist)\n",
        "resultados = ahkab.run(circuito, lista_de_análisis)"
      ],
      "outputs": [
        {
          "output_type": "stream",
          "name": "stdout",
          "text": [
            "Starting op analysis:\n",
            "Calculating guess: skipped. (linear circuit)\n",
            "Solving...  -\b\\\b done.\n",
            "Solving...  -\b\\\b done.\n",
            "Difference check within margins.\n",
            "(Voltage: er=0.001, ea=1e-06, Current: er=0.001, ea=1e-09)\n"
          ]
        }
      ],
      "execution_count": 114,
      "metadata": {
        "execution": {
          "iopub.execute_input": "2021-01-06T22:52:40.632Z",
          "iopub.status.busy": "2021-01-06T22:52:40.608Z",
          "iopub.status.idle": "2021-01-06T22:52:40.811Z",
          "shell.execute_reply": "2021-01-06T22:52:48.240Z"
        }
      }
    },
    {
      "cell_type": "markdown",
      "source": [
        "Imprimos los resultados del análisis `.op`:"
      ],
      "metadata": {}
    },
    {
      "cell_type": "code",
      "source": [
        "print(resultados['op'])"
      ],
      "outputs": [
        {
          "output_type": "stream",
          "name": "stdout",
          "text": [
            "OP simulation results for '* circuito con tres resistencias en serie'(netlist resistencias en serie.net).\n",
            "Run on 2021-01-06 22:52:27, data file None.\n",
            "Variable    Units      Value     Error    %\n",
            "----------  -------  -------  --------  ---\n",
            "V1          V         9       -9e-12      0\n",
            "V2          V         1.5     -1.5e-12    0\n",
            "V3          V         6.5     -6.5e-12    0\n",
            "I(V1)       A        -0.0005   0          0\n"
          ]
        }
      ],
      "execution_count": 115,
      "metadata": {
        "execution": {
          "iopub.execute_input": "2021-01-06T22:52:40.870Z",
          "iopub.status.busy": "2021-01-06T22:52:40.847Z",
          "iopub.status.idle": "2021-01-06T22:52:40.918Z",
          "shell.execute_reply": "2021-01-06T22:52:48.254Z"
        }
      }
    },
    {
      "cell_type": "markdown",
      "source": [
        "Los cantidades `V1`, `V2` y `V3` hacen referencia a los distintos valores del potencial que se ha perdido en cada uno de los bornes que has elegido para describir el netlist (`1`, `2`, etc.). Por ejemplo, podemos calcular el *potencial consumido* por la resistencia `R1` y verás que coincide con el del punto `V2` devuelto por Ahkab. **Ejercicio**: compruébalo tú mismo y refléjalo por escrito.\n",
        "\n",
        "---\n",
        "\n",
        "La intensidad del circuito completo es $I = \\frac{V}{R} = \\frac{-9V}{3K \\Omega} = -0.0005 A$\n",
        "\n",
        "La perdida de potencial para V2 es el producto de la intensidad del circuto por esa resistencia: $V2 = -0.0005 \\cdot 3000 = -1.5 V$\n"
      ],
      "metadata": {}
    },
    {
      "cell_type": "code",
      "source": [
        "r1 = 3E3*ohms\n",
        "intensidad_ahkab = resultados['op']['I(V1)'][0][0]*amperes\n",
        "v2 = convert_to(intensidad_ahkab*r1, [volts])\n",
        "v2"
      ],
      "outputs": [
        {
          "output_type": "execute_result",
          "execution_count": 116,
          "data": {
            "text/plain": "-1.5*volt",
            "text/latex": "$\\displaystyle - 1.5 \\text{V}$"
          },
          "metadata": {}
        }
      ],
      "execution_count": 116,
      "metadata": {
        "execution": {
          "iopub.execute_input": "2021-01-06T22:52:40.980Z",
          "iopub.status.busy": "2021-01-06T22:52:40.954Z",
          "iopub.status.idle": "2021-01-06T22:52:41.045Z",
          "shell.execute_reply": "2021-01-06T22:52:48.269Z"
        }
      }
    },
    {
      "cell_type": "markdown",
      "source": [
        " > **Pregunta**: reproduce el resto de los valores anteriores de manera *manual* mediante Sympy (es decir, aplicando la ley de Ohm, pero con un *toque computacional*). Te pongo aquí un ejemplo del que puedes partir… En él sólo calculo la corriente que circula por el circuito (sí, justo la que antes Ahkab ha devuelto de manera automática). Para ello necesito previamente computar la resistencia total (`r_total`). Faltarían el resto de resultados y convertirlos a unidades más *vistosas* (mediante la orden `convert_to` y `.n()`).\n",
        " \n",
        " "
      ],
      "metadata": {}
    },
    {
      "cell_type": "code",
      "source": [
        "from sympy.physics.units import kilo\n",
        "from sympy import solve, symbols, Eq\n",
        "v1 = 9*volts\n",
        "r1 = 3*kilo*ohms\n",
        "r2 = 10*kilo*ohms\n",
        "r3 = 5*kilo*ohms\n",
        "r_total = r1 + r2 + r3\n",
        "intensidad = symbols('i')\n",
        "ley_ohm = Eq(v1, intensidad*r_total)\n",
        "solucion_para_intensidad = solve(ley_ohm, intensidad)\n",
        "convert_to(solucion_para_intensidad[0], [amperes]).n(2)\n"
      ],
      "outputs": [
        {
          "output_type": "execute_result",
          "execution_count": 117,
          "data": {
            "text/plain": "0.0005*ampere",
            "text/latex": "$\\displaystyle 0.0005 \\text{A}$"
          },
          "metadata": {}
        }
      ],
      "execution_count": 117,
      "metadata": {
        "execution": {
          "iopub.execute_input": "2021-01-06T22:52:41.106Z",
          "iopub.status.busy": "2021-01-06T22:52:41.083Z",
          "iopub.status.idle": "2021-01-06T22:52:41.161Z",
          "shell.execute_reply": "2021-01-06T22:52:48.283Z"
        }
      }
    },
    {
      "cell_type": "code",
      "source": [
        "## Perdida de potencia V1\n",
        "voltaje = symbols('v')\n",
        "ley_ohm2 = Eq(voltaje, convert_to(solucion_para_intensidad[0], [amperes]).n(2)*r_total)\n",
        "solucionV = solve(ley_ohm2, voltaje)\n",
        "convert_to(solucionV[0], [volts]).n(2)"
      ],
      "outputs": [
        {
          "output_type": "execute_result",
          "execution_count": 118,
          "data": {
            "text/plain": "9.0*volt",
            "text/latex": "$\\displaystyle 9.0 \\text{V}$"
          },
          "metadata": {}
        }
      ],
      "execution_count": 118,
      "metadata": {
        "execution": {
          "iopub.execute_input": "2021-01-06T22:52:41.225Z",
          "iopub.status.busy": "2021-01-06T22:52:41.201Z",
          "iopub.status.idle": "2021-01-06T22:52:41.283Z",
          "shell.execute_reply": "2021-01-06T22:52:48.297Z"
        },
        "jupyter": {
          "outputs_hidden": false,
          "source_hidden": false
        },
        "nteract": {
          "transient": {
            "deleting": false
          }
        }
      }
    },
    {
      "cell_type": "code",
      "source": [
        "## Perdida de potencia V2\n",
        "voltaje = symbols('v')\n",
        "ley_ohm2 = Eq(voltaje, convert_to(solucion_para_intensidad[0], [amperes]).n(2)*r1)\n",
        "solucionV = solve(ley_ohm2, voltaje)\n",
        "convert_to(solucionV[0], [volts]).n(2)"
      ],
      "outputs": [
        {
          "output_type": "execute_result",
          "execution_count": 119,
          "data": {
            "text/plain": "1.5*volt",
            "text/latex": "$\\displaystyle 1.5 \\text{V}$"
          },
          "metadata": {}
        }
      ],
      "execution_count": 119,
      "metadata": {
        "execution": {
          "iopub.execute_input": "2021-01-06T22:52:41.344Z",
          "iopub.status.busy": "2021-01-06T22:52:41.320Z",
          "iopub.status.idle": "2021-01-06T22:52:41.402Z",
          "shell.execute_reply": "2021-01-06T22:52:48.312Z"
        },
        "jupyter": {
          "outputs_hidden": false,
          "source_hidden": false
        },
        "nteract": {
          "transient": {
            "deleting": false
          }
        }
      }
    },
    {
      "cell_type": "code",
      "source": [
        "## Perdida de potencia V3\n",
        "voltaje = symbols('v')\n",
        "ley_ohm2 = Eq(voltaje, convert_to(solucion_para_intensidad[0], [amperes]).n(2)*(r1+r2))\n",
        "solucionV = solve(ley_ohm2, voltaje)\n",
        "convert_to(solucionV[0], [volts]).n(2)"
      ],
      "outputs": [
        {
          "output_type": "execute_result",
          "execution_count": 120,
          "data": {
            "text/plain": "6.5*volt",
            "text/latex": "$\\displaystyle 6.5 \\text{V}$"
          },
          "metadata": {}
        }
      ],
      "execution_count": 120,
      "metadata": {
        "execution": {
          "iopub.execute_input": "2021-01-06T22:52:41.463Z",
          "iopub.status.busy": "2021-01-06T22:52:41.438Z",
          "iopub.status.idle": "2021-01-06T22:52:41.534Z",
          "shell.execute_reply": "2021-01-06T22:52:48.327Z"
        },
        "jupyter": {
          "outputs_hidden": false,
          "source_hidden": false
        },
        "nteract": {
          "transient": {
            "deleting": false
          }
        }
      }
    },
    {
      "cell_type": "markdown",
      "source": [
        "> **Pregunta**: Demuestra que se cumple la Ley de Kirchhoff de la energía en un circuito, es decir, que la suma de la energía suministrada por las fuentes (pilas) es igual a la consumida por las resistencias. Realiza la operación con Sympy.\n",
        "\n",
        "$$\n",
        "\\sum_i^N V_{\\text{fuentes}} = \\sum_j^M V_{\\text{consumido en resistencias}}\n",
        "$$\n",
        "\n",
        "Ten en cuenta que en este caso sólo hay una fuente.\n",
        "\n",
        "---\n",
        "Voltaje consumido por R1: $V_{R1} = I \\cdot 3K\\Omega = 0.0005 \\cdot 3000 = 1.5V$\n",
        "\n",
        "Voltaje consumido por R2: $V_{R2} = I \\cdot 10K\\Omega = 0.0005 \\cdot 10000 = 5V$\n",
        "\n",
        "Voltaje consumido por R3: $V_{R3} = I \\cdot 5K\\Omega = 0.0005 \\cdot 5000 = 2.5V$\n",
        "\n",
        "El voltaje de todas las fuentes $V_f$ (en este caso solo una) = $9V$\n",
        "\n",
        "---\n",
        "\n",
        "Según la Ley de Kirchhoff $V_f = V_{R1} + V_{R2} +V_{R3}$\n",
        "\n",
        "$$\n",
        "9V = 1.5V + 5V + 2.5V\n",
        "$$\n",
        "\n",
        "$$\n",
        "9V = 9V\n",
        "$$"
      ],
      "metadata": {}
    },
    {
      "cell_type": "code",
      "source": [
        "# solución con Sympy\n",
        "voltaje = symbols('v')\n",
        "Vfuente = 9.0*volts \n",
        "Icircuito = convert_to(solucion_para_intensidad[0], [amperes]).n(2)\n",
        "V1 = Icircuito*r1\n",
        "V2 = Icircuito*r2\n",
        "V3 = Icircuito*r3\n",
        "leyK = Eq(voltaje, V1+V2+V3)\n",
        "sol_leyK = solve(leyK, voltaje)\n",
        "vol_cir = convert_to(sol_leyK[0], [volts]).n(2)\n",
        "print(\"Voltaje consumido por las resistencias:\")\n",
        "print(vol_cir)\n",
        "print(\"Voltaje de las fuentes:\")\n",
        "print(Vfuente)\n",
        "print(\"Queda comprobada la Ley de Kirchhoff !!\")"
      ],
      "outputs": [
        {
          "output_type": "stream",
          "name": "stdout",
          "text": [
            "Voltaje consumido por las resistencias:\n",
            "9.0*volt\n",
            "Voltaje de las fuentes:\n",
            "9.0*volt\n",
            "Queda comprobada la Ley de Kirchhoff !!\n"
          ]
        }
      ],
      "execution_count": 121,
      "metadata": {
        "execution": {
          "iopub.execute_input": "2021-01-06T22:52:41.610Z",
          "iopub.status.busy": "2021-01-06T22:52:41.583Z",
          "iopub.status.idle": "2021-01-06T22:52:41.664Z",
          "shell.execute_reply": "2021-01-06T22:52:48.341Z"
        },
        "jupyter": {
          "outputs_hidden": false,
          "source_hidden": false
        },
        "nteract": {
          "transient": {
            "deleting": false
          }
        }
      }
    },
    {
      "cell_type": "markdown",
      "source": [
        "## Análisis `.op` de circuitos con resistencias en paralelo\n",
        "\n",
        "Vamos a complicar un poco el trabajo añadiendo elementos en paralelo.\n",
        "\n",
        " > **Pregunta**: realiza los análisis `.op` de los siguientes circuitos.\n",
        " Para ello crea un netlist separado para cada uno donde queden correctamente descritos\n",
        " junto con la simulación (`.op`). Comenta los resultados que devuelve Ahkab (no imprimas los resultados de las simulaciones *sin más*).\n",
        "\n",
        " ![](https://raw.githubusercontent.com/pammacdotnet/spicelab/master/resistencias%20en%20paralelo.svg?sanitize=true)\n",
        "\n",
        " Aquí tienes el análisis del primer circuito, para que sirva de ejemplo:"
      ],
      "metadata": {}
    },
    {
      "cell_type": "code",
      "source": [
        "%%writefile \"resistencias en paralelo 1.cir\"\n",
        "* resistencia y pila en paralelo\n",
        "vdd 0 1 vdc=12 type=vdc\n",
        "r2 1 2 1k\n",
        "r3 2 3 220\n",
        "r4 3 0 1.5k\n",
        "r5 2 0 470\n",
        ".op\n",
        ".end"
      ],
      "outputs": [
        {
          "output_type": "stream",
          "name": "stdout",
          "text": [
            "Overwriting resistencias en paralelo 1.cir\n"
          ]
        }
      ],
      "execution_count": 122,
      "metadata": {
        "execution": {
          "iopub.execute_input": "2021-01-06T22:52:41.738Z",
          "iopub.status.busy": "2021-01-06T22:52:41.708Z",
          "iopub.status.idle": "2021-01-06T22:52:41.792Z",
          "shell.execute_reply": "2021-01-06T22:52:48.355Z"
        }
      }
    },
    {
      "cell_type": "code",
      "source": [
        "%%writefile \"resistencias en paralelo 2.cir\"\n",
        "* resistencias en paralelo\n",
        "v1 0 1 vdc=9 type=vdc\n",
        "v2 0 5 vdc=1.5 type=vdc\n",
        "r1 1 2 47\n",
        "r2 2 3 220\n",
        "r3 2 5 180\n",
        "r4 3 4 1k\n",
        "r5 4 0 560\n",
        ".op\n",
        ".end"
      ],
      "outputs": [
        {
          "output_type": "stream",
          "name": "stdout",
          "text": [
            "Overwriting resistencias en paralelo 2.cir\n"
          ]
        }
      ],
      "execution_count": 123,
      "metadata": {
        "execution": {
          "iopub.execute_input": "2021-01-06T22:52:41.856Z",
          "iopub.status.busy": "2021-01-06T22:52:41.831Z",
          "iopub.status.idle": "2021-01-06T22:52:41.912Z",
          "shell.execute_reply": "2021-01-06T22:52:48.370Z"
        },
        "jupyter": {
          "outputs_hidden": false,
          "source_hidden": false
        },
        "nteract": {
          "transient": {
            "deleting": false
          }
        }
      }
    },
    {
      "cell_type": "code",
      "source": [
        "%%writefile \"resistencias en paralelo 3.cir\"\n",
        "* resistencias en paralelo\n",
        "v 0 1 vdc=9 type=vdc\n",
        "v1 5 1 vdc=0 type=vdc\n",
        "v2 4 1 vdc=0 type=vdc\n",
        "v3 2 1 vdc=0 type=vdc\n",
        "r1 5 0 10k\n",
        "r2 4 0 2k\n",
        "r3 2 0 1k\n",
        ".op\n",
        ".end"
      ],
      "outputs": [
        {
          "output_type": "stream",
          "name": "stdout",
          "text": [
            "Overwriting resistencias en paralelo 3.cir\n"
          ]
        }
      ],
      "execution_count": 124,
      "metadata": {
        "execution": {
          "iopub.execute_input": "2021-01-06T22:52:41.973Z",
          "iopub.status.busy": "2021-01-06T22:52:41.949Z",
          "iopub.status.idle": "2021-01-06T22:52:42.026Z",
          "shell.execute_reply": "2021-01-06T22:52:48.384Z"
        },
        "jupyter": {
          "outputs_hidden": false,
          "source_hidden": false
        },
        "nteract": {
          "transient": {
            "deleting": false
          }
        }
      }
    },
    {
      "cell_type": "code",
      "source": [
        "circuito_y_análisis = ahkab.netlist_parser.parse_circuit('resistencias en paralelo 1.cir')\n",
        "circuito_y_análisis2 = ahkab.netlist_parser.parse_circuit('resistencias en paralelo 2.cir')\n",
        "circuito_y_análisis3 = ahkab.netlist_parser.parse_circuit('resistencias en paralelo 3.cir')\n",
        "\n",
        "circuito = circuito_y_análisis[0]       \n",
        "circuito2 = circuito_y_análisis2[0]       \n",
        "circuito3 = circuito_y_análisis3[0]       \n",
        "\n",
        "análisis_en_netlist = circuito_y_análisis[1]\n",
        "análisis_en_netlist2 = circuito_y_análisis2[1]\n",
        "análisis_en_netlist3 = circuito_y_análisis3[1]\n",
        "\n",
        "lista_de_análisis = ahkab.netlist_parser.parse_analysis(circuito, análisis_en_netlist)\n",
        "lista_de_análisis2 = ahkab.netlist_parser.parse_analysis(circuito2, análisis_en_netlist2)\n",
        "lista_de_análisis3 = ahkab.netlist_parser.parse_analysis(circuito3, análisis_en_netlist3)\n",
        "\n",
        "resultados = ahkab.run(circuito, lista_de_análisis)\n",
        "resultados2 = ahkab.run(circuito2, lista_de_análisis2)\n",
        "resultados3 = ahkab.run(circuito3, lista_de_análisis3)"
      ],
      "outputs": [
        {
          "output_type": "stream",
          "name": "stdout",
          "text": [
            "Starting op analysis:\n",
            "Calculating guess: skipped. (linear circuit)\n",
            "Solving...  -\b\\\b done.\n",
            "Solving...  -\b\\\b done.\n",
            "Difference check within margins.\n",
            "(Voltage: er=0.001, ea=1e-06, Current: er=0.001, ea=1e-09)\n",
            "Starting op analysis:\n",
            "Calculating guess: skipped. (linear circuit)\n",
            "Solving...  -\b\\\b done.\n",
            "Solving...  -\b\\\b done.\n",
            "Difference check within margins.\n",
            "(Voltage: er=0.001, ea=1e-06, Current: er=0.001, ea=1e-09)\n",
            "Starting op analysis:\n",
            "Calculating guess: skipped. (linear circuit)\n",
            "Solving...  -\b\\\b done.\n",
            "Solving...  -\b\\\b done.\n",
            "Difference check within margins.\n",
            "(Voltage: er=0.001, ea=1e-06, Current: er=0.001, ea=1e-09)\n"
          ]
        }
      ],
      "execution_count": 125,
      "metadata": {
        "execution": {
          "iopub.execute_input": "2021-01-06T22:52:42.086Z",
          "iopub.status.busy": "2021-01-06T22:52:42.062Z",
          "iopub.status.idle": "2021-01-06T22:52:42.476Z",
          "shell.execute_reply": "2021-01-06T22:52:48.399Z"
        }
      }
    },
    {
      "cell_type": "markdown",
      "source": [
        "Imprimimos los resultados del análisis `.op`. Como puedes comprobar, Ahkab sólo reporta la intensidad de corriente en las ramas en las que hay una pila (en este caso, la rama donde está la pila `VDD`)."
      ],
      "metadata": {}
    },
    {
      "cell_type": "code",
      "source": [
        "print(resultados['op'])"
      ],
      "outputs": [
        {
          "output_type": "stream",
          "name": "stdout",
          "text": [
            "OP simulation results for '* resistencia y pila en paralelo'(netlist resistencias en paralelo 1.cir).\n",
            "Run on 2021-01-06 22:52:28, data file None.\n",
            "Variable    Units           Value        Error    %\n",
            "----------  -------  ------------  -----------  ---\n",
            "V1          V        -12           1.2e-11        0\n",
            "V2          V         -3.23533     3.23532e-12    0\n",
            "V3          V         -2.8215      2.82151e-12    0\n",
            "I(VDD)      A         -0.00876467  0              0\n"
          ]
        }
      ],
      "execution_count": 126,
      "metadata": {
        "execution": {
          "iopub.execute_input": "2021-01-06T22:52:42.536Z",
          "iopub.status.busy": "2021-01-06T22:52:42.512Z",
          "iopub.status.idle": "2021-01-06T22:52:42.587Z",
          "shell.execute_reply": "2021-01-06T22:52:48.413Z"
        }
      }
    },
    {
      "cell_type": "code",
      "source": [
        "print(resultados2['op'])"
      ],
      "outputs": [
        {
          "output_type": "stream",
          "name": "stdout",
          "text": [
            "OP simulation results for '* resistencias en paralelo'(netlist resistencias en paralelo 2.cir).\n",
            "Run on 2021-01-06 22:52:28, data file None.\n",
            "Variable    Units         Value        Error    %\n",
            "----------  -------  ----------  -----------  ---\n",
            "V1          V        -9          8.99994e-12    0\n",
            "V5          V        -1.5        1.50001e-12    0\n",
            "V2          V        -7.29441    7.29442e-12    0\n",
            "V3          V        -6.39285    6.39285e-12    0\n",
            "V4          V        -2.29487    2.29487e-12    0\n",
            "I(V1)       A        -0.0362891  0              0\n",
            "I(V2)       A         0.0321912  0              0\n"
          ]
        }
      ],
      "execution_count": 127,
      "metadata": {
        "execution": {
          "iopub.execute_input": "2021-01-06T22:52:42.647Z",
          "iopub.status.busy": "2021-01-06T22:52:42.623Z",
          "iopub.status.idle": "2021-01-06T22:52:42.698Z",
          "shell.execute_reply": "2021-01-06T22:52:48.429Z"
        },
        "jupyter": {
          "outputs_hidden": false,
          "source_hidden": false
        },
        "nteract": {
          "transient": {
            "deleting": false
          }
        }
      }
    },
    {
      "cell_type": "code",
      "source": [
        "print(resultados3['op'])"
      ],
      "outputs": [
        {
          "output_type": "stream",
          "name": "stdout",
          "text": [
            "OP simulation results for '* resistencias en paralelo'(netlist resistencias en paralelo 3.cir).\n",
            "Run on 2021-01-06 22:52:28, data file None.\n",
            "Variable    Units      Value    Error    %\n",
            "----------  -------  -------  -------  ---\n",
            "V1          V        -9         9e-12    0\n",
            "V5          V        -9         9e-12    0\n",
            "V4          V        -9         9e-12    0\n",
            "V2          V        -9         9e-12    0\n",
            "I(V)        A        -0.0144    0        0\n",
            "I(V1)       A         0.0009    0        0\n",
            "I(V2)       A         0.0045    0        0\n",
            "I(V3)       A         0.009     0        0\n"
          ]
        }
      ],
      "execution_count": 128,
      "metadata": {
        "execution": {
          "iopub.execute_input": "2021-01-06T22:52:42.761Z",
          "iopub.status.busy": "2021-01-06T22:52:42.734Z",
          "iopub.status.idle": "2021-01-06T22:52:42.810Z",
          "shell.execute_reply": "2021-01-06T22:52:48.444Z"
        },
        "jupyter": {
          "outputs_hidden": false,
          "source_hidden": false
        },
        "nteract": {
          "transient": {
            "deleting": false
          }
        }
      }
    },
    {
      "cell_type": "markdown",
      "source": [
        "> **Pregunta:** inserta dos *pilas virtuales* de 0 voltios en el resto de ramas del circuito (`Vdummy1` en la rama donde está `R5` y `Vdummy2` en la rama donde está `R3` y `R4`) para que Ahkab nos imprima también la corriente en las mismas. Es muy parecido al tercer circuito que tienes que resolver, donde `V1`, `V2` y `V3` tienen cero voltios. Estas *pilas nulas* son, a todos los efectos, *simples cables*. Una vez que ya tienes las corrientes en todas las ramas, comprueba que se cumple la Ley de Kirchhoff para las corrientes:\n",
        "\n",
        "$$\n",
        "I_{\\text{entrante}} = \\sum_i^{N} I_{\\text{salientes}}\n",
        "$$\n",
        "\n"
      ],
      "metadata": {}
    },
    {
      "cell_type": "code",
      "source": [
        "%%writefile \"mas_pilas_circuito_2.cir\"\n",
        "* resistencias en paralelo\n",
        "v1 0 1 vdc=9 type=vdc\n",
        "v2 0 5 vdc=1.5 type=vdc\n",
        "v3 0 6 vdc=0 type=vdc\n",
        "r1 1 2 47\n",
        "r2 2 3 220\n",
        "r3 2 5 180\n",
        "r4 3 4 1k\n",
        "r5 4 6 560\n",
        ".op\n",
        ".end"
      ],
      "outputs": [
        {
          "output_type": "stream",
          "name": "stdout",
          "text": [
            "Overwriting mas_pilas_circuito_2.cir\n"
          ]
        }
      ],
      "execution_count": 129,
      "metadata": {
        "execution": {
          "iopub.execute_input": "2021-01-06T22:52:42.870Z",
          "iopub.status.busy": "2021-01-06T22:52:42.846Z",
          "iopub.status.idle": "2021-01-06T22:52:42.918Z",
          "shell.execute_reply": "2021-01-06T22:52:48.458Z"
        },
        "jupyter": {
          "outputs_hidden": false,
          "source_hidden": false
        },
        "nteract": {
          "transient": {
            "deleting": false
          }
        }
      }
    },
    {
      "cell_type": "code",
      "source": [
        "circuito_y_análisis4 = ahkab.netlist_parser.parse_circuit('mas_pilas_circuito_2.cir')\n",
        "\n",
        "circuito4 = circuito_y_análisis4[0]       \n",
        "\n",
        "análisis_en_netlist4 = circuito_y_análisis4[1]\n",
        "\n",
        "lista_de_análisis4 = ahkab.netlist_parser.parse_analysis(circuito4, análisis_en_netlist4)\n",
        "\n",
        "resultados4 = ahkab.run(circuito4, lista_de_análisis4)"
      ],
      "outputs": [
        {
          "output_type": "stream",
          "name": "stdout",
          "text": [
            "Starting op analysis:\n",
            "Calculating guess: skipped. (linear circuit)\n",
            "Solving...  -\b\\\b done.\n",
            "Solving...  -\b\\\b done.\n",
            "Difference check within margins.\n",
            "(Voltage: er=0.001, ea=1e-06, Current: er=0.001, ea=1e-09)\n"
          ]
        }
      ],
      "execution_count": 130,
      "metadata": {
        "execution": {
          "iopub.execute_input": "2021-01-06T22:52:42.983Z",
          "iopub.status.busy": "2021-01-06T22:52:42.959Z",
          "iopub.status.idle": "2021-01-06T22:52:43.145Z",
          "shell.execute_reply": "2021-01-06T22:52:48.473Z"
        },
        "jupyter": {
          "outputs_hidden": false,
          "source_hidden": false
        },
        "nteract": {
          "transient": {
            "deleting": false
          }
        }
      }
    },
    {
      "cell_type": "code",
      "source": [
        "print(resultados4['op'])"
      ],
      "outputs": [
        {
          "output_type": "stream",
          "name": "stdout",
          "text": [
            "OP simulation results for '* resistencias en paralelo'(netlist mas_pilas_circuito_2.cir).\n",
            "Run on 2021-01-06 22:52:28, data file None.\n",
            "Variable    Units          Value        Error    %\n",
            "----------  -------  -----------  -----------  ---\n",
            "V1          V        -9           8.99997e-12    0\n",
            "V5          V        -1.5         1.5e-12        0\n",
            "V6          V         0           8.67362e-19    0\n",
            "V2          V        -7.29441     7.29442e-12    0\n",
            "V3          V        -6.39285     6.39285e-12    0\n",
            "V4          V        -2.29487     2.29487e-12    0\n",
            "I(V1)       A        -0.0362891   0              0\n",
            "I(V2)       A         0.0321912   0              0\n",
            "I(V3)       A         0.00409798  0              0\n"
          ]
        }
      ],
      "execution_count": 131,
      "metadata": {
        "execution": {
          "iopub.execute_input": "2021-01-06T22:52:43.206Z",
          "iopub.status.busy": "2021-01-06T22:52:43.181Z",
          "iopub.status.idle": "2021-01-06T22:52:43.256Z",
          "shell.execute_reply": "2021-01-06T22:52:48.487Z"
        },
        "jupyter": {
          "outputs_hidden": false,
          "source_hidden": false
        },
        "nteract": {
          "transient": {
            "deleting": false
          }
        }
      }
    },
    {
      "cell_type": "markdown",
      "source": [
        "Repite lo mismo para los otros dos circuitos. Realiza además los cálculos con Sympy (recalcula los mismos voltajes que devuelve Ahkab a partir de la corriente que sí te devuelve la simulación) y cuidando de no olvidar las unidades. Recuerda que el objeto `resultados` alberga toda la información que necesitas de manera indexada. Ya han aparecido un ejemplo más arriba. Es decir: no *copies* los números *a mano*, trabaja de manera informáticamente elegante (usando la variable `resultados`). "
      ],
      "metadata": {
        "nteract": {
          "transient": {
            "deleting": false
          }
        }
      }
    },
    {
      "cell_type": "markdown",
      "source": [
        " # Circuitos en DC que evolucionan con el tiempo"
      ],
      "metadata": {}
    },
    {
      "cell_type": "markdown",
      "source": [
        " ## Carga de un condensador\n",
        " Vamos a ver qué le pasa a un circuito de corriente continua cuando tiene un condensador\n",
        " en serie.\n",
        "\n",
        " ![](https://raw.githubusercontent.com/pammacdotnet/spicelab/master/condensador%20en%20continua.svg?sanitize=true)\n",
        "\n",
        " Al igual que antes, primero guardamos el circuito en un netlist externo:"
      ],
      "metadata": {}
    },
    {
      "cell_type": "code",
      "source": [
        "%%writefile \"condensador en continua.ckt\"\n",
        "* Carga condensador\n",
        "v1 0 1 type=vdc vdc=6\n",
        "r1 1 2 1k\n",
        "c1 2 0 1m ic=0\n",
        ".op\n",
        ".tran tstep=0.1 tstop=8 uic=0\n",
        ".end"
      ],
      "outputs": [
        {
          "output_type": "stream",
          "name": "stdout",
          "text": [
            "Overwriting condensador en continua.ckt\n"
          ]
        }
      ],
      "execution_count": 132,
      "metadata": {
        "execution": {
          "iopub.execute_input": "2021-01-06T22:52:43.319Z",
          "iopub.status.busy": "2021-01-06T22:52:43.293Z",
          "iopub.status.idle": "2021-01-06T22:52:43.368Z",
          "shell.execute_reply": "2021-01-06T22:52:48.502Z"
        }
      }
    },
    {
      "cell_type": "markdown",
      "source": [
        "> **Pregunta:** ¿qué significa el parámetro `ic=0`? ¿qué perseguimos con un análisis de tipo `.tran`?\n",
        "\n",
        "Leamos el circuito:"
      ],
      "metadata": {}
    },
    {
      "cell_type": "code",
      "source": [
        "circuito_y_análisis = ahkab.netlist_parser.parse_circuit(\"condensador en continua.ckt\")"
      ],
      "outputs": [],
      "execution_count": 133,
      "metadata": {
        "execution": {
          "iopub.execute_input": "2021-01-06T22:52:43.430Z",
          "iopub.status.busy": "2021-01-06T22:52:43.406Z",
          "iopub.status.idle": "2021-01-06T22:52:43.467Z",
          "shell.execute_reply": "2021-01-06T22:52:48.520Z"
        }
      }
    },
    {
      "cell_type": "markdown",
      "source": [
        " Separamos el netlist de los análisis y asignamos un fichero de almacenamiento de datos (`outfile`):"
      ],
      "metadata": {}
    },
    {
      "cell_type": "code",
      "source": [
        "circuito = circuito_y_análisis[0]\n",
        "análisis_en_netlist = circuito_y_análisis[1]\n",
        "lista_de_análisis = ahkab.netlist_parser.parse_analysis(circuito, análisis_en_netlist)\n",
        "lista_de_análisis[1]['outfile'] = \"simulación tran.tsv\""
      ],
      "outputs": [],
      "execution_count": 134,
      "metadata": {
        "execution": {
          "iopub.execute_input": "2021-01-06T22:52:43.531Z",
          "iopub.status.busy": "2021-01-06T22:52:43.507Z",
          "iopub.status.idle": "2021-01-06T22:52:43.568Z",
          "shell.execute_reply": "2021-01-06T22:52:48.534Z"
        }
      }
    },
    {
      "cell_type": "markdown",
      "source": [
        " Ejecutamos la simulación:"
      ],
      "metadata": {}
    },
    {
      "cell_type": "code",
      "source": [
        "resultados = ahkab.run(circuito, lista_de_análisis)\n",
        "print(resultados['op'])\n"
      ],
      "outputs": [
        {
          "output_type": "stream",
          "name": "stdout",
          "text": [
            "Starting op analysis:\n",
            "Calculating guess: skipped. (linear circuit)\n",
            "Solving...  -\b\\\b done.\n",
            "Solving...  -\b\\\b done.\n",
            "Difference check within margins.\n",
            "(Voltage: er=0.001, ea=1e-06, Current: er=0.001, ea=1e-09)\n",
            "Starting transient analysis: \n",
            "Selected method: TRAP\n",
            "Solving...  -\b\\\b|\b/\b-\b\\\b|\b/\b-\b\\\b|\b/\b-\b\\\b|\b/\b-\b\\\b|\b/\b-\b\\\b|\b/\b-\b\\\b|\b/\b-\b\\\b|\b/\b-\b\\\b|\b/\b-\b\\\b|\b/\b-\b\\\b|\b/\b-\b\\\b|\b/\b-\b\\\b|\b/\b-\b\\\b|\b/\b-\b\\\b|\b/\b-\b\\\b|\b/\b-\b\\\b|\b/\b-\b\\\b|\b/\b-\b\\\b|\b/\b-\b\\\b|\b/\b-\b\\\b|\b/\b-\b\\\b|\b/\b-\b\\\b|\b/\b-\bdone.\n",
            "Average time step: 0.0869565\n",
            "OP simulation results for '* carga condensador'(netlist condensador en continua.ckt).\n",
            "Run on 2021-01-06 22:52:28, data file None.\n",
            "Variable    Units      Value    Error    %\n",
            "----------  -------  -------  -------  ---\n",
            "V1          V             -6    6e-12    0\n",
            "V2          V             -6    6e-12    0\n",
            "I(V1)       A              0    0        0\n"
          ]
        }
      ],
      "execution_count": 135,
      "metadata": {
        "execution": {
          "iopub.execute_input": "2021-01-06T22:52:43.627Z",
          "iopub.status.busy": "2021-01-06T22:52:43.604Z",
          "iopub.status.idle": "2021-01-06T22:52:45.131Z",
          "shell.execute_reply": "2021-01-06T22:52:48.549Z"
        }
      }
    },
    {
      "cell_type": "markdown",
      "source": [
        " Dibujamos la gráfica de carga del condensador con el tiempo, centrándonos en la intensidad que circula por la pila. "
      ],
      "metadata": {}
    },
    {
      "cell_type": "code",
      "source": [
        "figura = plt.figure()\n",
        "plt.title(\"Carga de un condensador\")\n",
        "plt.xlabel('Tiempo (s)')\n",
        "plt.ylabel('Intensidad (A)')\n",
        "plt.plot(resultados['tran']['T'], resultados['tran']['I(V1)'], label=\"V1\")\n",
        "plt.legend()\n"
      ],
      "outputs": [
        {
          "output_type": "execute_result",
          "execution_count": 136,
          "data": {
            "text/plain": "<matplotlib.legend.Legend at 0x7fe0859ce1f0>"
          },
          "metadata": {}
        },
        {
          "output_type": "display_data",
          "data": {
            "text/plain": "<Figure size 1440x360 with 1 Axes>",
            "image/png": "[encoded data removed]"
          },
          "metadata": {
            "needs_background": "light"
          }
        }
      ],
      "execution_count": 136,
      "metadata": {
        "execution": {
          "iopub.execute_input": "2021-01-06T22:52:45.195Z",
          "iopub.status.busy": "2021-01-06T22:52:45.167Z",
          "iopub.status.idle": "2021-01-06T22:52:45.258Z",
          "shell.execute_reply": "2021-01-06T22:52:48.563Z"
        }
      }
    },
    {
      "cell_type": "markdown",
      "source": [
        "> **Pregunta:** Etiqueta los ejes convenientemente y comenta la gráfica. Dibuja otra gráfica con el voltaje en el borne `V2`. "
      ],
      "metadata": {}
    },
    {
      "cell_type": "code",
      "source": [
        "figura = plt.figure()\n",
        "plt.title(\"Carga de un condensador\")\n",
        "plt.plot(resultados['tran']['T'], resultados['tran']['V2'], label=\"V2\")\n",
        "plt.legend()\n"
      ],
      "outputs": [
        {
          "output_type": "execute_result",
          "execution_count": 137,
          "data": {
            "text/plain": "<matplotlib.legend.Legend at 0x7fe08eb6c2b0>"
          },
          "metadata": {}
        },
        {
          "output_type": "display_data",
          "data": {
            "text/plain": "<Figure size 1440x360 with 1 Axes>",
            "image/png": "[encoded data removed]"
          },
          "metadata": {
            "needs_background": "light"
          }
        }
      ],
      "execution_count": 137,
      "metadata": {
        "collapsed": true,
        "jupyter": {
          "source_hidden": false,
          "outputs_hidden": false
        },
        "nteract": {
          "transient": {
            "deleting": false
          }
        },
        "execution": {
          "iopub.status.busy": "2021-01-06T22:52:45.294Z",
          "iopub.execute_input": "2021-01-06T22:52:45.319Z",
          "iopub.status.idle": "2021-01-06T22:52:45.389Z",
          "shell.execute_reply": "2021-01-06T22:52:48.579Z"
        }
      }
    },
    {
      "cell_type": "markdown",
      "source": [
        "**¿Por qué son *opuestas*?**\n",
        "\n",
        "La tensión disminuye proporcionalmente a la carga del condensador\n",
        "\n",
        "**¿Qué le ocurre al voltaje a medida que evoluciona el circuito en el tiempo?**\n",
        "\n",
        "Que disminuye segun se carga el condensador\n",
        "\n",
        "**¿Qué valores devuelve el análisis de tipo `.op`? Justifícalo.**\n",
        "\n",
        "Devuelve una intensidad $I = 0$, porque mientras los condensadores se cargan, no hay circulación en el circuito."
      ],
      "metadata": {
        "nteract": {
          "transient": {
            "deleting": false
          }
        }
      }
    },
    {
      "cell_type": "markdown",
      "source": [
        "## Carrera de condensadores\n",
        "\n",
        "Ahora tenemos un circuito con dos condensadores en paralelo: \n",
        "\n",
        "![](https://raw.githubusercontent.com/pammacdotnet/spicelab/master/condensadores%20en%20paralelo.svg?sanitize=true)\n",
        "\n",
        "> **Pregunta:** Crea el netlist de este circuito e identifica qué condensador se satura primero. Dibuja la evolución de la intensidad en ambas ramas de manera simultánea. [Aquí](https://matplotlib.org/gallery/api/two_scales.html) tienes un ejemplo de cómo se hace esto en Matplotlib. Recuerda que para que Ahkab nos devuelva la corriente en una rama, debe de estar presente una pila. Si es necesario, inserta pilas virtuales de valor nulo (cero voltios), tal y como hemos comentado antes. Grafica también los voltajes (en otra gráfica, pero que aparezcan juntos). "
      ],
      "metadata": {}
    },
    {
      "cell_type": "code",
      "source": [
        "%%writefile \"carrera en condensadores.ckt\"\n",
        "* Carga condensador\n",
        "v0 0 1 type=vdc vdc=10\n",
        "r1 0 2 3k\n",
        "c1 2 3 47u ic=0\n",
        "v1dummy 3 1 type=vdc vdc=0\n",
        "c2 2 4 22u ic=0\n",
        "v2dummy 4 1 type=vdc vdc=0\n",
        ".tran tstep=0.01 tstart=6.5 tstop=7.5 uic=0\n",
        ".end"
      ],
      "outputs": [
        {
          "output_type": "stream",
          "name": "stdout",
          "text": [
            "Overwriting carrera en condensadores.ckt\n"
          ]
        }
      ],
      "execution_count": 138,
      "metadata": {
        "execution": {
          "iopub.execute_input": "2021-01-06T22:52:45.453Z",
          "iopub.status.busy": "2021-01-06T22:52:45.426Z",
          "iopub.status.idle": "2021-01-06T22:52:45.514Z",
          "shell.execute_reply": "2021-01-06T22:52:48.598Z"
        }
      }
    },
    {
      "cell_type": "code",
      "source": [
        "circuito_y_análisis = ahkab.netlist_parser.parse_circuit(\"carrera en condensadores.ckt\")\n",
        "circuito = circuito_y_análisis[0]       \n",
        "análisis_en_netlist = circuito_y_análisis[1]\n",
        "lista_de_análisis = ahkab.netlist_parser.parse_analysis(circuito, análisis_en_netlist)\n",
        "lista_de_análisis[0]['outfile'] = \"simulación tran carrera condensadores.tsv\"\n",
        "resultados = ahkab.run(circuito, lista_de_análisis)"
      ],
      "outputs": [
        {
          "output_type": "stream",
          "name": "stdout",
          "text": [
            "Starting transient analysis: \n",
            "Selected method: TRAP\n",
            "Solving...  -\b\\\b|\b/\b-\b\\\b|\b/\b-\b\\\b|\b/\b-\b\\\b|\b/\b-\b\\\b|\b/\b-\b\\\b|\b/\b-\b\\\b|\b/\b-\b\\\b|\b/\b-\b\\\b|\b/\b-\b\\\b|\b/\b-\b\\\b|\b/\b-\b\\\b|\b/\b-\b\\\b|\b/\b-\b\\\b|\b/\b-\b\\\b|\b/\b-\b\\\b|\b/\b-\b\\\b|\b/\b-\b\\\b|\b/\b-\b\\\b|\b/\b-\b\\\b|\b/\b-\b\\\b|\b/\b-\b\\\b|\b/\b-\b\\\b|\b/\b-\b\\\b|\b/\b-\b\\\b|\b/\b-\b\\\b|\b/\b-\b\\\b|\b/\b-\b\\\b|\b/\bdone.\n",
            "Average time step: 0.00900901\n"
          ]
        }
      ],
      "execution_count": 139,
      "metadata": {
        "execution": {
          "iopub.execute_input": "2021-01-06T22:52:45.574Z",
          "iopub.status.busy": "2021-01-06T22:52:45.551Z",
          "iopub.status.idle": "2021-01-06T22:52:47.134Z",
          "shell.execute_reply": "2021-01-06T22:52:48.614Z"
        }
      }
    },
    {
      "cell_type": "code",
      "source": [
        "figura = plt.figure()\n",
        "plt.title(\"Carrera de condensadores\")\n",
        "plt.xlim(6.65, 7.5)\n",
        "plt.ylim(0.0, 0.0005)\n",
        "plt.grid()\n",
        "plt.plot(resultados['tran']['T'], resultados['tran']['I(V1DUMMY)'],label=\"Intensidad en C1\")\n",
        "plt.plot(resultados['tran']['T'], resultados['tran']['I(V2DUMMY)'],label=\"Intensidad en C2\")\n",
        "plt.legend()\n"
      ],
      "outputs": [
        {
          "output_type": "execute_result",
          "execution_count": 140,
          "data": {
            "text/plain": "<matplotlib.legend.Legend at 0x7fe085944460>"
          },
          "metadata": {}
        },
        {
          "output_type": "display_data",
          "data": {
            "text/plain": "<Figure size 1440x360 with 1 Axes>",
            "image/png": "[encoded data removed]"
          },
          "metadata": {
            "needs_background": "light"
          }
        }
      ],
      "execution_count": 140,
      "metadata": {
        "execution": {
          "iopub.execute_input": "2021-01-06T22:52:47.195Z",
          "iopub.status.busy": "2021-01-06T22:52:47.169Z",
          "iopub.status.idle": "2021-01-06T22:52:47.264Z",
          "shell.execute_reply": "2021-01-06T22:52:48.630Z"
        }
      }
    },
    {
      "cell_type": "code",
      "source": [
        "figura = plt.figure()\n",
        "plt.title(\"Carrera de condensadores\")\n",
        "plt.grid()\n",
        "plt.plot(resultados['tran']['T'], resultados['tran']['V2'],label=\"V2\")\n",
        "plt.legend()\n"
      ],
      "outputs": [
        {
          "output_type": "execute_result",
          "execution_count": 141,
          "data": {
            "text/plain": "<matplotlib.legend.Legend at 0x7fe08db16cd0>"
          },
          "metadata": {}
        },
        {
          "output_type": "display_data",
          "data": {
            "text/plain": "<Figure size 1440x360 with 1 Axes>",
            "image/png": "[encoded data removed]"
          },
          "metadata": {
            "needs_background": "light"
          }
        }
      ],
      "execution_count": 141,
      "metadata": {
        "collapsed": true,
        "jupyter": {
          "source_hidden": false,
          "outputs_hidden": false
        },
        "nteract": {
          "transient": {
            "deleting": false
          }
        },
        "execution": {
          "iopub.status.busy": "2021-01-06T22:52:47.300Z",
          "iopub.execute_input": "2021-01-06T22:52:47.325Z",
          "iopub.status.idle": "2021-01-06T22:52:47.392Z",
          "shell.execute_reply": "2021-01-06T22:52:48.647Z"
        }
      }
    },
    {
      "cell_type": "markdown",
      "source": [
        "## Circuitos en corriente alterna\n",
        "\n",
        "** Ejercicio **: Simula este circuito con LTspice y representa el voltaje y la intensidad en función del tiempo."
      ],
      "metadata": {}
    },
    {
      "cell_type": "code",
      "source": [
        "%%writefile \"corriente_alterna.net\"\n",
        "* Circuito en corriente alterna\n",
        "v1 1 0 sin(0 120 60 0 0)\n",
        "r1 0 1 10k\n",
        ".tran 1\n",
        ".end"
      ],
      "outputs": [
        {
          "output_type": "stream",
          "name": "stdout",
          "text": [
            "Overwriting corriente_alterna.net\n"
          ]
        }
      ],
      "execution_count": 142,
      "metadata": {
        "execution": {
          "iopub.execute_input": "2021-01-06T22:52:47.459Z",
          "iopub.status.busy": "2021-01-06T22:52:47.431Z",
          "iopub.status.idle": "2021-01-06T22:52:47.510Z",
          "shell.execute_reply": "2021-01-06T22:52:48.662Z"
        }
      }
    },
    {
      "cell_type": "code",
      "source": [
        "lts \"corriente_alterna.net\""
      ],
      "outputs": [],
      "execution_count": 143,
      "metadata": {
        "collapsed": true,
        "jupyter": {
          "source_hidden": false,
          "outputs_hidden": false
        },
        "nteract": {
          "transient": {
            "deleting": false
          }
        },
        "execution": {
          "iopub.status.busy": "2021-01-06T22:52:47.547Z",
          "iopub.execute_input": "2021-01-06T22:52:47.576Z",
          "iopub.status.idle": "2021-01-06T22:52:47.619Z",
          "shell.execute_reply": "2021-01-06T22:52:48.676Z"
        }
      }
    },
    {
      "cell_type": "code",
      "source": [
        "!cat corriente_alterna.log"
      ],
      "outputs": [
        {
          "output_type": "stream",
          "name": "stdout",
          "text": [
            "C\u0000i\u0000r\u0000c\u0000u\u0000i\u0000t\u0000:\u0000 \u0000*\u0000 \u0000C\u0000i\u0000r\u0000c\u0000u\u0000i\u0000t\u0000o\u0000 \u0000e\u0000n\u0000 \u0000c\u0000o\u0000r\u0000r\u0000i\u0000e\u0000n\u0000t\u0000e\u0000 \u0000a\u0000l\u0000t\u0000e\u0000r\u0000n\u0000a\u0000\r\n",
            "\u0000\r\n",
            "\u0000.\u0000O\u0000P\u0000 \u0000p\u0000o\u0000i\u0000n\u0000t\u0000 \u0000f\u0000o\u0000u\u0000n\u0000d\u0000 \u0000b\u0000y\u0000 \u0000i\u0000n\u0000s\u0000p\u0000e\u0000c\u0000t\u0000i\u0000o\u0000n\u0000.\u0000\r\n",
            "\u0000\r\n",
            "\u0000D\u0000a\u0000t\u0000e\u0000:\u0000 \u0000W\u0000e\u0000d\u0000 \u0000J\u0000a\u0000n\u0000 \u0000 \u00006\u0000 \u00002\u00003\u0000:\u00005\u00002\u0000:\u00003\u00001\u0000 \u00002\u00000\u00002\u00001\u0000\r\n",
            "\u0000T\u0000o\u0000t\u0000a\u0000l\u0000 \u0000e\u0000l\u0000a\u0000p\u0000s\u0000e\u0000d\u0000 \u0000t\u0000i\u0000m\u0000e\u0000:\u0000 \u00000\u0000.\u00000\u00006\u00005\u0000 \u0000s\u0000e\u0000c\u0000o\u0000n\u0000d\u0000s\u0000.\u0000\r\n",
            "\u0000\r\n",
            "\u0000t\u0000n\u0000o\u0000m\u0000 \u0000=\u0000 \u00002\u00007\u0000\r\n",
            "\u0000t\u0000e\u0000m\u0000p\u0000 \u0000=\u0000 \u00002\u00007\u0000\r\n",
            "\u0000m\u0000e\u0000t\u0000h\u0000o\u0000d\u0000 \u0000=\u0000 \u0000m\u0000o\u0000d\u0000i\u0000f\u0000i\u0000e\u0000d\u0000 \u0000t\u0000r\u0000a\u0000p\u0000\r\n",
            "\u0000t\u0000o\u0000t\u0000i\u0000t\u0000e\u0000r\u0000 \u0000=\u0000 \u00004\u00001\u00002\u00008\u0000\r\n",
            "\u0000t\u0000r\u0000a\u0000n\u0000i\u0000t\u0000e\u0000r\u0000 \u0000=\u0000 \u00004\u00001\u00002\u00008\u0000\r\n",
            "\u0000t\u0000r\u0000a\u0000n\u0000p\u0000o\u0000i\u0000n\u0000t\u0000s\u0000 \u0000=\u0000 \u00002\u00000\u00006\u00005\u0000\r\n",
            "\u0000a\u0000c\u0000c\u0000e\u0000p\u0000t\u0000 \u0000=\u0000 \u00001\u00005\u00003\u00002\u0000\r\n",
            "\u0000r\u0000e\u0000j\u0000e\u0000c\u0000t\u0000e\u0000d\u0000 \u0000=\u0000 \u00005\u00003\u00003\u0000\r\n",
            "\u0000m\u0000a\u0000t\u0000r\u0000i\u0000x\u0000 \u0000s\u0000i\u0000z\u0000e\u0000 \u0000=\u0000 \u00002\u0000\r\n",
            "\u0000f\u0000i\u0000l\u0000l\u0000i\u0000n\u0000s\u0000 \u0000=\u0000 \u00000\u0000\r\n",
            "\u0000s\u0000o\u0000l\u0000v\u0000e\u0000r\u0000 \u0000=\u0000 \u0000N\u0000o\u0000r\u0000m\u0000a\u0000l\u0000\r\n",
            "\u0000M\u0000a\u0000t\u0000r\u0000i\u0000x\u0000 \u0000C\u0000o\u0000m\u0000p\u0000i\u0000l\u0000e\u0000r\u00001\u0000:\u0000 \u0000 \u0000 \u0000 \u0000 \u0000 \u0000 \u00002\u0000 \u0000o\u0000p\u0000c\u0000o\u0000d\u0000e\u0000s\u0000 \u0000 \u00000\u0000.\u00000\u0000/\u0000[\u00000\u0000.\u00000\u0000]\u0000/\u00000\u0000.\u00000\u0000\r\n",
            "\u0000M\u0000a\u0000t\u0000r\u0000i\u0000x\u0000 \u0000C\u0000o\u0000m\u0000p\u0000i\u0000l\u0000e\u0000r\u00002\u0000:\u0000 \u0000o\u0000f\u0000f\u0000\r\n",
            "\u0000"
          ]
        }
      ],
      "execution_count": 144,
      "metadata": {
        "collapsed": true,
        "jupyter": {
          "source_hidden": false,
          "outputs_hidden": false
        },
        "nteract": {
          "transient": {
            "deleting": false
          }
        },
        "execution": {
          "iopub.status.busy": "2021-01-06T22:52:47.655Z",
          "iopub.execute_input": "2021-01-06T22:52:47.680Z",
          "iopub.status.idle": "2021-01-06T22:52:47.735Z",
          "shell.execute_reply": "2021-01-06T22:52:48.691Z"
        }
      }
    },
    {
      "cell_type": "code",
      "source": [
        "l = ltspice.Ltspice(\"corriente_alterna.raw\")\n",
        "l.parse()\n",
        "tiempo = l.get_time()\n",
        "voltaje = l.get_data('V(1)')\n",
        "corriente = l.get_data('I(V1)')\n",
        "# Podemos pintar la corrente en función del tiempo\n",
        "# plt.plot(tiempo, corriente)\n",
        "# O el voltaje\n",
        "#plt.plot(tiempo, voltaje)\n",
        "fig, ax1 = plt.subplots()\n",
        "\n",
        "color = 'tab:red'\n",
        "ax1.set_xlabel('Tiempo (s) (s)')\n",
        "ax1.set_ylabel('Intensidad (A)', color=color)\n",
        "ax1.plot(tiempo, corriente, color=color)\n",
        "ax1.tick_params(axis='y', labelcolor=color)\n",
        "\n",
        "ax2 = ax1.twinx()  # instantiate a second axes that shares the same x-axis\n",
        "\n",
        "color = 'tab:blue'\n",
        "ax2.set_ylabel('Voltaje (V)', color=color)  # we already handled the x-label with ax1\n",
        "ax2.plot(tiempo, voltaje, color=color)\n",
        "ax2.tick_params(axis='y', labelcolor=color)\n",
        "\n",
        "fig.tight_layout()  # otherwise the right y-label is slightly clipped\n",
        "plt.rcParams['figure.figsize'] = [20, 5]\n",
        "\n",
        "plt.show()"
      ],
      "outputs": [
        {
          "output_type": "display_data",
          "data": {
            "text/plain": "<Figure size 1440x360 with 2 Axes>",
            "image/png": "[encoded data removed]"
          },
          "metadata": {
            "needs_background": "light"
          }
        }
      ],
      "execution_count": 145,
      "metadata": {
        "collapsed": true,
        "jupyter": {
          "source_hidden": false,
          "outputs_hidden": false
        },
        "nteract": {
          "transient": {
            "deleting": false
          }
        },
        "execution": {
          "iopub.status.busy": "2021-01-06T22:52:47.771Z",
          "iopub.execute_input": "2021-01-06T22:52:47.797Z",
          "iopub.status.idle": "2021-01-06T22:52:47.850Z",
          "shell.execute_reply": "2021-01-06T22:52:48.705Z"
        }
      }
    }
  ],
  "metadata": {
    "pygments_lexer": "ipython3",
    "name": "python",
    "mimetype": "text/x-python",
    "npconvert_exporter": "python",
    "kernel_info": {
      "name": "python3"
    },
    "language_info": {
      "name": "python",
      "version": "3.8.5",
      "mimetype": "text/x-python",
      "codemirror_mode": {
        "name": "ipython",
        "version": 3
      },
      "pygments_lexer": "ipython3",
      "nbconvert_exporter": "python",
      "file_extension": ".py"
    },
    "gist_id": "5cabc49a7109ab2f2495bb0bc4c5720f",
    "version": 3,
    "kernelspec": {
      "display_name": "Python 3",
      "language": "python",
      "name": "python3"
    },
    "file_extension": ".py",
    "nteract": {
      "version": "0.27.0"
    }
  },
  "nbformat": 4,
  "nbformat_minor": 2
}